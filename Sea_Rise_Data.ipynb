{
 "cells": [
  {
   "cell_type": "markdown",
   "id": "be1db7f6-cfb2-4dc7-85bd-5f9839a1e6ca",
   "metadata": {},
   "source": [
    "# Climate Project Development Notebook\n"
   ]
  },
  {
   "cell_type": "markdown",
   "id": "9b150b9d-e8a4-4311-b4fa-06325d8366fd",
   "metadata": {},
   "source": [
    "This notebook works with data from the NZ Searise program to allow users to investigate the predictions of sea level rise in New Zealand and analyse whether these predictions are driving migration in New Zealand.\n"
   ]
  },
  {
   "cell_type": "markdown",
   "id": "71c60cb8-ce4a-4837-a6b2-a3d898819cd4",
   "metadata": {},
   "source": [
    "## Data Import\n"
   ]
  },
  {
   "cell_type": "code",
   "execution_count": 3,
   "id": "3f274dcd-8f0f-4806-86f4-6b54cf0c910f",
   "metadata": {
    "collapsed": true,
    "jupyter": {
     "outputs_hidden": true
    },
    "tags": []
   },
   "outputs": [
    {
     "name": "stderr",
     "output_type": "stream",
     "text": [
      "\n",
      "Attaching package: 'purrr'\n",
      "\n",
      "\n",
      "The following object is masked from 'package:magrittr':\n",
      "\n",
      "    set_names\n",
      "\n",
      "\n",
      "-- \u001b[1mAttaching packages\u001b[22m --------------------------------------- tidyverse 1.3.2 --\n",
      "\u001b[32mv\u001b[39m \u001b[34mggplot2\u001b[39m 3.3.6      \u001b[32mv\u001b[39m \u001b[34mreadr  \u001b[39m 2.1.2 \n",
      "\u001b[32mv\u001b[39m \u001b[34mtibble \u001b[39m 3.1.8      \u001b[32mv\u001b[39m \u001b[34mdplyr  \u001b[39m 1.0.10\n",
      "\u001b[32mv\u001b[39m \u001b[34mtidyr  \u001b[39m 1.2.0      \u001b[32mv\u001b[39m \u001b[34mforcats\u001b[39m 0.5.1 \n",
      "-- \u001b[1mConflicts\u001b[22m ------------------------------------------ tidyverse_conflicts() --\n",
      "\u001b[31mx\u001b[39m \u001b[34mtidyr\u001b[39m::\u001b[32mextract()\u001b[39m        masks \u001b[34mmagrittr\u001b[39m::extract()\n",
      "\u001b[31mx\u001b[39m \u001b[34mdplyr\u001b[39m::\u001b[32mfilter()\u001b[39m         masks \u001b[34mstats\u001b[39m::filter()\n",
      "\u001b[31mx\u001b[39m \u001b[34mreadr\u001b[39m::\u001b[32mguess_encoding()\u001b[39m masks \u001b[34mrvest\u001b[39m::guess_encoding()\n",
      "\u001b[31mx\u001b[39m \u001b[34mdplyr\u001b[39m::\u001b[32mlag()\u001b[39m            masks \u001b[34mstats\u001b[39m::lag()\n",
      "\u001b[31mx\u001b[39m \u001b[34mpurrr\u001b[39m::\u001b[32mset_names()\u001b[39m      masks \u001b[34mmagrittr\u001b[39m::set_names()\n"
     ]
    }
   ],
   "source": [
    "#Library Imports\n",
    "library(magrittr) # better handling of pipes\n",
    "library(purrr) # to work with lists and map functions\n",
    "library(glue) # to paste strings\n",
    "library(stringr) # to hand strings\n",
    "library(rvest) # rvest makes scraping easier\n",
    "library(xml2) # makes it easier to work with HTML and XML from R\n",
    "library(tidyverse)\n",
    "library(fuzzyjoin)"
   ]
  },
  {
   "cell_type": "code",
   "execution_count": 4,
   "id": "2b336d3f-7750-449e-883d-b43032c85e91",
   "metadata": {},
   "outputs": [],
   "source": [
    "#Define the regions for the notebook\n",
    "\n",
    "regions <- c(\"auckland\",\"bay_of_plenty\",\"canterbury\",\"gisborne\",\"hawkes_bay\",\n",
    "             \"manawatu_whanganui\",\"marlborough\",\"nelson\",\"northland\",\"otago\",\"southland\",\n",
    "             \"taranaki\",\"waikato\",\"wellington\",\"west_coast\")\n"
   ]
  },
  {
   "cell_type": "code",
   "execution_count": 5,
   "id": "43a60433-cdc9-4499-9237-7fee6129263a",
   "metadata": {},
   "outputs": [],
   "source": [
    "#Aggregate the Northland and Southland data into a single csv. Have specified col type as siteid gets cast as a number for some files due to differences in naming conventions between the files\n",
    "\n",
    "n1 <- read_csv(\Data\"nz_sea_rise_projections_northland_region_1.csv\", col_types=cols(\n",
    "    siteId = col_character(),\n",
    "    year = col_integer(),\n",
    "    p17 = col_double(),\n",
    "    p50 = col_double(),\n",
    "    p83 = col_double(),\n",
    "    lon = col_double(),\n",
    "    lon = col_double(),\n",
    "    measurementName=col_character()))\n",
    "n2 <- read_csv(\Data\"nz_sea_rise_projections_northland_region_2.csv\", col_types=cols(\n",
    "    siteId = col_character(),\n",
    "    year = col_integer(),\n",
    "    p17 = col_double(),\n",
    "    p50 = col_double(),\n",
    "    p83 = col_double(),\n",
    "    lon = col_double(),\n",
    "    lon = col_double(),\n",
    "    measurementName=col_character()))\n",
    "n3 <- read_csv(\Data\"nz_sea_rise_projections_northland_region_3.csv\", col_types=cols(\n",
    "    siteId = col_character(),\n",
    "    year = col_integer(),\n",
    "    p17 = col_double(),\n",
    "    p50 = col_double(),\n",
    "    p83 = col_double(),\n",
    "    lon = col_double(),\n",
    "    lon = col_double(),\n",
    "    measurementName=col_character()))\n",
    "\n",
    "#Combine the data into a single csv, to allow for computation of a regional mean\n",
    "ncombo<- bind_rows(n1,n2,n3)\n",
    "\n",
    "#Write the output to the folder\n",
    "write.csv(ncombo,\Data\"nz_sea_rise_projections_northland_region.csv\")"
   ]
  },
  {
   "cell_type": "code",
   "execution_count": 6,
   "id": "8c8e3992-045f-458f-b512-a8dd6cc215ed",
   "metadata": {},
   "outputs": [],
   "source": [
    "#Read the southland data\n",
    "s1 <- read.csv(\Data\"nz_sea_rise_projections_southland_region_1.csv\")\n",
    "s2 <- read.csv(\Data\"nz_sea_rise_projections_southland_region_2.csv\")\n",
    "s3 <- read.csv(\Data\"nz_sea_rise_projections_southland_region_3.csv\")\n",
    "\n",
    "#Combine the data into a single csv, to allow for computation of a regional mean\n",
    "sfinal<-bind_rows(s1,s2,s3)\n",
    "write.csv(sfinal, \Data\"nz_sea_rise_projections_southland_region.csv\")"
   ]
  },
  {
   "cell_type": "code",
   "execution_count": 7,
   "id": "945b876c-3122-458d-8246-154767491025",
   "metadata": {},
   "outputs": [],
   "source": [
    "#List of CSV files containing the searise data\n",
    "\n",
    "files <- c(\"nz_sea_rise_projections_auckland_region.csv\",      \n",
    "           \"nz_sea_rise_projections_bay_of_plenty_region.csv\",     \n",
    "           \"nz_sea_rise_projections_canterbury_region.csv\",        \n",
    "           \"nz_sea_rise_projections_gisborne_region.csv\",          \n",
    "           \"nz_sea_rise_projections_hawkes_bay_region.csv\",    \n",
    "           \"nz_sea_rise_projections_manawatu_whanganui_region.csv\",\n",
    "           \"nz_sea_rise_projections_marlborough_region.csv\",       \n",
    "           \"nz_sea_rise_projections_nelson_region.csv\",            \n",
    "           \"nz_sea_rise_projections_northland_region.csv\",       \n",
    "           \"nz_sea_rise_projections_otago_region.csv\",             \n",
    "           \"nz_sea_rise_projections_southland_region.csv\",       \n",
    "           \"nz_sea_rise_projections_taranaki_region.csv\",          \n",
    "           \"nz_sea_rise_projections_tasman_region.csv\",            \n",
    "           \"nz_sea_rise_projections_waikato_region.csv\",           \n",
    "           \"nz_sea_rise_projections_wellington_region.csv\",        \n",
    "           \"nz_sea_rise_projections_west_coast_region.csv\") \n"
   ]
  },
  {
   "cell_type": "markdown",
   "id": "4ec8f18f-96f5-4f8e-b4d5-311a51e820cf",
   "metadata": {},
   "source": [
    "# Function for producing searise predictions\n",
    "\n",
    "This function produces an output for adding onto the main dataframe. As yearly searise data was not available for all regions, this function allows a prediction for a given sea rise scenario to be added onto the dataset, which will allow a prospective user to look at different forecasts and examine whether these forecasts are having a bearing on migration. The different variables for the function are included below. The function uses the median (p50) prediction for each given scenario.\n",
    "\n",
    "### SSPs- Shared SocioEconomic Pathways \n",
    "These are potential pathways for global emissions scenarios, dependent on levels of action taken in policy setting. The options can be set as follows\n",
    "\n",
    "\"SSP1-1.9 (medium confidence)\" Low challenges for mitigation (resource efficiency) and adaptation (rapid development)\n",
    "\n",
    "\"SSP1-2.6 (medium confidence)\" Middle of the road\n",
    "\n",
    "\"SSP2-4.5 (medium confidence)\" High challenges for mitigation (regionalized energy/land policies) and adaptation (slow development)\n",
    "\n",
    "\"SSP3-7.0 (medium confidence)\" Low challenges for mitigation (global high tech economy), high for adaptation.\n",
    "\n",
    "\"SSP5-8.5 (medium confidence)\" High challenges for mitigation (resource/fossil fuel intensive), low for adaptation\n",
    "\n",
    "Chaging the year filter in the below script and the measurement name to the scenario and forecast year the user is interested in, a table will be generated that is joined to the migration data that adds the searise scenario intot he final dataset. As these are predicitons, the same prediction will be added to every entry in the migration dataset.\n",
    "\n",
    "More information on the SSP scenarios can be found here https://www.carbonbrief.org/explainer-how-shared-socioeconomic-pathways-explore-future-climate-change/"
   ]
  },
  {
   "cell_type": "code",
   "execution_count": 65,
   "id": "26425e4a-840a-4d6f-91f8-34fdba679ef5",
   "metadata": {},
   "outputs": [],
   "source": [
    "#Define a function for determining the average searise for a region \n",
    "\n",
    "searise_average <- function(region) {\n",
    "    \n",
    "    #Read the file for the specified region\n",
    "    searise_csv <- read.csv(glue(\Data\"nz_sea_rise_projections_{region}_region.csv\"))\n",
    "    #Generate a tibble from the regional data that filters the specified prediction and year\n",
    "    searise_tibble <- tibble(searise_csv)\n",
    "      searise_tibble %>% \n",
    "    #ENTER DESIRED PREDICTION VARIABLES HERE\n",
    "        filter(year == 2050, measurementName == \"SSP2-4.5 (medium confidence)\") \n",
    "    \n",
    "    #Take the mean of all of the predictions at the median p50\n",
    "    region_searise <- mean(searise_tibble$p50)\n",
    "    #Round the result to 2dp\n",
    "    region_searise <- round(region_searise,2)\n",
    "    \n",
    "  return(region_searise)\n",
    "}"
   ]
  },
  {
   "cell_type": "code",
   "execution_count": 66,
   "id": "ebd381f7-a5c8-47a4-b419-6e6565cb48e0",
   "metadata": {
    "tags": []
   },
   "outputs": [],
   "source": [
    "#Make the function safe, by returning a NA value if an error occurs\n",
    "searise_average_safe <- purrr::possibly(.f = searise_average, # the function that we want to make safer\n",
    "                                   otherwise = NA_character_) # the value we get back if .f fails\n"
   ]
  },
  {
   "cell_type": "code",
   "execution_count": 67,
   "id": "57f0dec8-4e34-47fc-bb18-991ed22c0525",
   "metadata": {},
   "outputs": [
    {
     "data": {
      "text/html": [
       "<table class=\"dataframe\">\n",
       "<caption>A tibble: 6 × 2</caption>\n",
       "<thead>\n",
       "\t<tr><th scope=col>Region</th><th scope=col>SeaRise_Meters</th></tr>\n",
       "\t<tr><th scope=col>&lt;chr&gt;</th><th scope=col>&lt;dbl&gt;</th></tr>\n",
       "</thead>\n",
       "<tbody>\n",
       "\t<tr><td>Auckland          </td><td>1.11</td></tr>\n",
       "\t<tr><td>Bay Of_plenty     </td><td>0.95</td></tr>\n",
       "\t<tr><td>Canterbury        </td><td>1.04</td></tr>\n",
       "\t<tr><td>Gisborne          </td><td>0.98</td></tr>\n",
       "\t<tr><td>Hawkes Bay        </td><td>1.13</td></tr>\n",
       "\t<tr><td>Manawatu Whanganui</td><td>1.09</td></tr>\n",
       "</tbody>\n",
       "</table>\n"
      ],
      "text/latex": [
       "A tibble: 6 × 2\n",
       "\\begin{tabular}{ll}\n",
       " Region & SeaRise\\_Meters\\\\\n",
       " <chr> & <dbl>\\\\\n",
       "\\hline\n",
       "\t Auckland           & 1.11\\\\\n",
       "\t Bay Of\\_plenty      & 0.95\\\\\n",
       "\t Canterbury         & 1.04\\\\\n",
       "\t Gisborne           & 0.98\\\\\n",
       "\t Hawkes Bay         & 1.13\\\\\n",
       "\t Manawatu Whanganui & 1.09\\\\\n",
       "\\end{tabular}\n"
      ],
      "text/markdown": [
       "\n",
       "A tibble: 6 × 2\n",
       "\n",
       "| Region &lt;chr&gt; | SeaRise_Meters &lt;dbl&gt; |\n",
       "|---|---|\n",
       "| Auckland           | 1.11 |\n",
       "| Bay Of_plenty      | 0.95 |\n",
       "| Canterbury         | 1.04 |\n",
       "| Gisborne           | 0.98 |\n",
       "| Hawkes Bay         | 1.13 |\n",
       "| Manawatu Whanganui | 1.09 |\n",
       "\n"
      ],
      "text/plain": [
       "  Region             SeaRise_Meters\n",
       "1 Auckland           1.11          \n",
       "2 Bay Of_plenty      0.95          \n",
       "3 Canterbury         1.04          \n",
       "4 Gisborne           0.98          \n",
       "5 Hawkes Bay         1.13          \n",
       "6 Manawatu Whanganui 1.09          "
      ]
     },
     "metadata": {},
     "output_type": "display_data"
    }
   ],
   "source": [
    "#Create a table with a searise value for each region using the function defined above\n",
    "searise_master_tibble <- tibble(Region=regions) %>%\n",
    "  mutate(SeaRise_Meters=map_dbl(regions, searise_average_safe))\n",
    "\n",
    "#Tidy the regional name data to make joining simpler\n",
    "searise_master_tibble <- searise_master_tibble %>%\n",
    "  mutate(Region = str_to_title(sub(\"_\",\" \",Region)))\n",
    "\n",
    "head(searise_master_tibble)"
   ]
  },
  {
   "cell_type": "code",
   "execution_count": 68,
   "id": "cb530103-d1c9-4329-9c69-9488a0c0c1f6",
   "metadata": {
    "tags": []
   },
   "outputs": [
    {
     "name": "stderr",
     "output_type": "stream",
     "text": [
      "\u001b[1mRows: \u001b[22m\u001b[34m48\u001b[39m \u001b[1mColumns: \u001b[22m\u001b[34m10\u001b[39m\n",
      "\u001b[36m--\u001b[39m \u001b[1mColumn specification\u001b[22m \u001b[36m--------------------------------------------------------\u001b[39m\n",
      "\u001b[1mDelimiter:\u001b[22m \",\"\n",
      "\u001b[31mchr\u001b[39m (1): Region\n",
      "\u001b[32mdbl\u001b[39m (9): Year, Earthquake_Numbers, Earthquake_Average_Magnitude_4+, Internal...\n",
      "\n",
      "\u001b[36mi\u001b[39m Use `spec()` to retrieve the full column specification for this data.\n",
      "\u001b[36mi\u001b[39m Specify the column types or set `show_col_types = FALSE` to quiet this message.\n"
     ]
    },
    {
     "data": {
      "text/html": [
       "<table class=\"dataframe\">\n",
       "<caption>A tibble: 6 × 12</caption>\n",
       "<thead>\n",
       "\t<tr><th scope=col>Region.x</th><th scope=col>Year</th><th scope=col>Earthquake_Numbers</th><th scope=col>Earthquake_Average_Magnitude_4+</th><th scope=col>Internal_Emigration</th><th scope=col>Internal_Immigration</th><th scope=col>Net_Internal_Immigration</th><th scope=col>Average_Precipitation_mm</th><th scope=col>Average_Temperature_°C</th><th scope=col>Average_Windgusts_kn</th><th scope=col>Region.y</th><th scope=col>SeaRise_Meters</th></tr>\n",
       "\t<tr><th scope=col>&lt;chr&gt;</th><th scope=col>&lt;dbl&gt;</th><th scope=col>&lt;dbl&gt;</th><th scope=col>&lt;dbl&gt;</th><th scope=col>&lt;dbl&gt;</th><th scope=col>&lt;dbl&gt;</th><th scope=col>&lt;dbl&gt;</th><th scope=col>&lt;dbl&gt;</th><th scope=col>&lt;dbl&gt;</th><th scope=col>&lt;dbl&gt;</th><th scope=col>&lt;chr&gt;</th><th scope=col>&lt;dbl&gt;</th></tr>\n",
       "</thead>\n",
       "<tbody>\n",
       "\t<tr><td>Bay of Plenty</td><td>2014</td><td> 7</td><td>4.349858</td><td> 20613</td><td> 19689</td><td> -924</td><td>1098.80</td><td>14.11</td><td>39.76</td><td>Bay Of_plenty</td><td>0.95</td></tr>\n",
       "\t<tr><td>Bay of Plenty</td><td>2015</td><td> 2</td><td>4.165454</td><td> 23820</td><td> 22446</td><td>-1374</td><td> 953.80</td><td>13.97</td><td>38.06</td><td>Bay Of_plenty</td><td>0.95</td></tr>\n",
       "\t<tr><td>Bay of Plenty</td><td>2016</td><td> 6</td><td>4.511042</td><td> 25836</td><td> 23298</td><td>-2538</td><td>1287.65</td><td>14.72</td><td>38.99</td><td>Bay Of_plenty</td><td>0.95</td></tr>\n",
       "\t<tr><td>Bay of Plenty</td><td>2017</td><td>14</td><td>4.444342</td><td> 24840</td><td> 23259</td><td>-1581</td><td>1848.30</td><td>14.45</td><td>37.74</td><td>Bay Of_plenty</td><td>0.95</td></tr>\n",
       "\t<tr><td>Canterbury   </td><td>2014</td><td> 6</td><td>4.275236</td><td>145224</td><td>145152</td><td>  -72</td><td> 575.23</td><td>10.30</td><td>40.03</td><td>Canterbury   </td><td>1.04</td></tr>\n",
       "\t<tr><td>Canterbury   </td><td>2015</td><td> 9</td><td>4.521119</td><td>156963</td><td>152829</td><td>-4134</td><td> 448.63</td><td>10.46</td><td>41.76</td><td>Canterbury   </td><td>1.04</td></tr>\n",
       "</tbody>\n",
       "</table>\n"
      ],
      "text/latex": [
       "A tibble: 6 × 12\n",
       "\\begin{tabular}{llllllllllll}\n",
       " Region.x & Year & Earthquake\\_Numbers & Earthquake\\_Average\\_Magnitude\\_4+ & Internal\\_Emigration & Internal\\_Immigration & Net\\_Internal\\_Immigration & Average\\_Precipitation\\_mm & Average\\_Temperature\\_°C & Average\\_Windgusts\\_kn & Region.y & SeaRise\\_Meters\\\\\n",
       " <chr> & <dbl> & <dbl> & <dbl> & <dbl> & <dbl> & <dbl> & <dbl> & <dbl> & <dbl> & <chr> & <dbl>\\\\\n",
       "\\hline\n",
       "\t Bay of Plenty & 2014 &  7 & 4.349858 &  20613 &  19689 &  -924 & 1098.80 & 14.11 & 39.76 & Bay Of\\_plenty & 0.95\\\\\n",
       "\t Bay of Plenty & 2015 &  2 & 4.165454 &  23820 &  22446 & -1374 &  953.80 & 13.97 & 38.06 & Bay Of\\_plenty & 0.95\\\\\n",
       "\t Bay of Plenty & 2016 &  6 & 4.511042 &  25836 &  23298 & -2538 & 1287.65 & 14.72 & 38.99 & Bay Of\\_plenty & 0.95\\\\\n",
       "\t Bay of Plenty & 2017 & 14 & 4.444342 &  24840 &  23259 & -1581 & 1848.30 & 14.45 & 37.74 & Bay Of\\_plenty & 0.95\\\\\n",
       "\t Canterbury    & 2014 &  6 & 4.275236 & 145224 & 145152 &   -72 &  575.23 & 10.30 & 40.03 & Canterbury    & 1.04\\\\\n",
       "\t Canterbury    & 2015 &  9 & 4.521119 & 156963 & 152829 & -4134 &  448.63 & 10.46 & 41.76 & Canterbury    & 1.04\\\\\n",
       "\\end{tabular}\n"
      ],
      "text/markdown": [
       "\n",
       "A tibble: 6 × 12\n",
       "\n",
       "| Region.x &lt;chr&gt; | Year &lt;dbl&gt; | Earthquake_Numbers &lt;dbl&gt; | Earthquake_Average_Magnitude_4+ &lt;dbl&gt; | Internal_Emigration &lt;dbl&gt; | Internal_Immigration &lt;dbl&gt; | Net_Internal_Immigration &lt;dbl&gt; | Average_Precipitation_mm &lt;dbl&gt; | Average_Temperature_°C &lt;dbl&gt; | Average_Windgusts_kn &lt;dbl&gt; | Region.y &lt;chr&gt; | SeaRise_Meters &lt;dbl&gt; |\n",
       "|---|---|---|---|---|---|---|---|---|---|---|---|\n",
       "| Bay of Plenty | 2014 |  7 | 4.349858 |  20613 |  19689 |  -924 | 1098.80 | 14.11 | 39.76 | Bay Of_plenty | 0.95 |\n",
       "| Bay of Plenty | 2015 |  2 | 4.165454 |  23820 |  22446 | -1374 |  953.80 | 13.97 | 38.06 | Bay Of_plenty | 0.95 |\n",
       "| Bay of Plenty | 2016 |  6 | 4.511042 |  25836 |  23298 | -2538 | 1287.65 | 14.72 | 38.99 | Bay Of_plenty | 0.95 |\n",
       "| Bay of Plenty | 2017 | 14 | 4.444342 |  24840 |  23259 | -1581 | 1848.30 | 14.45 | 37.74 | Bay Of_plenty | 0.95 |\n",
       "| Canterbury    | 2014 |  6 | 4.275236 | 145224 | 145152 |   -72 |  575.23 | 10.30 | 40.03 | Canterbury    | 1.04 |\n",
       "| Canterbury    | 2015 |  9 | 4.521119 | 156963 | 152829 | -4134 |  448.63 | 10.46 | 41.76 | Canterbury    | 1.04 |\n",
       "\n"
      ],
      "text/plain": [
       "  Region.x      Year Earthquake_Numbers Earthquake_Average_Magnitude_4+\n",
       "1 Bay of Plenty 2014  7                 4.349858                       \n",
       "2 Bay of Plenty 2015  2                 4.165454                       \n",
       "3 Bay of Plenty 2016  6                 4.511042                       \n",
       "4 Bay of Plenty 2017 14                 4.444342                       \n",
       "5 Canterbury    2014  6                 4.275236                       \n",
       "6 Canterbury    2015  9                 4.521119                       \n",
       "  Internal_Emigration Internal_Immigration Net_Internal_Immigration\n",
       "1  20613               19689                -924                   \n",
       "2  23820               22446               -1374                   \n",
       "3  25836               23298               -2538                   \n",
       "4  24840               23259               -1581                   \n",
       "5 145224              145152                 -72                   \n",
       "6 156963              152829               -4134                   \n",
       "  Average_Precipitation_mm Average_Temperature_°C Average_Windgusts_kn\n",
       "1 1098.80                  14.11                  39.76               \n",
       "2  953.80                  13.97                  38.06               \n",
       "3 1287.65                  14.72                  38.99               \n",
       "4 1848.30                  14.45                  37.74               \n",
       "5  575.23                  10.30                  40.03               \n",
       "6  448.63                  10.46                  41.76               \n",
       "  Region.y      SeaRise_Meters\n",
       "1 Bay Of_plenty 0.95          \n",
       "2 Bay Of_plenty 0.95          \n",
       "3 Bay Of_plenty 0.95          \n",
       "4 Bay Of_plenty 0.95          \n",
       "5 Canterbury    1.04          \n",
       "6 Canterbury    1.04          "
      ]
     },
     "metadata": {},
     "output_type": "display_data"
    }
   ],
   "source": [
    "#Read in the csv produced by the earlier notebooks\n",
    "full_data <- read_csv(\"Full_data_clean.csv\")\n",
    "\n",
    "#Remove the umlaut u character to allow for join\n",
    "full_data$Region = stri_trans_general(str = full_data$Region, id = 'Latin-ASCII')\n",
    "\n",
    "#Join the searise data to the migration master dataset\n",
    "joined <- stringdist_left_join(full_data, searise_master_tibble, method = 'soundex', by = \"Region\" )\n",
    "\n",
    "#Display the \n",
    "head(joined)"
   ]
  },
  {
   "cell_type": "code",
   "execution_count": 64,
   "id": "ee40ae3b-a379-4bcc-8b39-dd0409f497b5",
   "metadata": {},
   "outputs": [],
   "source": [
    "#Write the file for use by a prospective analyst\n",
    "write.csv(joined, \"Final_Clean_Searise.csv\", fileEncoding=\"UTF-8\")"
   ]
  }
 ],
 "metadata": {
  "kernelspec": {
   "display_name": "R",
   "language": "R",
   "name": "ir"
  },
  "language_info": {
   "codemirror_mode": "r",
   "file_extension": ".r",
   "mimetype": "text/x-r-source",
   "name": "R",
   "pygments_lexer": "r",
   "version": "4.2.1"
  }
 },
 "nbformat": 4,
 "nbformat_minor": 5
}
