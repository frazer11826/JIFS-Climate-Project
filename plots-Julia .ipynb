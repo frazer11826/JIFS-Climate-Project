{
 "cells": [
  {
   "cell_type": "code",
   "execution_count": 1,
   "id": "15835ba3",
   "metadata": {},
   "outputs": [],
   "source": [
    "#using Pkg"
   ]
  },
  {
   "cell_type": "code",
   "execution_count": 2,
   "id": "7763f6eb",
   "metadata": {},
   "outputs": [],
   "source": [
    "#Pkg.add(\"Queryverse\")\n",
    "#Pkg.build(\"PyCall\")\n",
    "#Pkg.build(\"Snappy\")"
   ]
  },
  {
   "cell_type": "code",
   "execution_count": 3,
   "id": "c7e91964",
   "metadata": {},
   "outputs": [],
   "source": [
    "using Queryverse"
   ]
  },
  {
   "cell_type": "code",
   "execution_count": 4,
   "id": "40693c8f",
   "metadata": {
    "scrolled": false
   },
   "outputs": [
    {
     "data": {
      "text/html": [
       "<div><div style = \"float: left;\"><span>48×10 DataFrame</span></div><div style = \"float: right;\"><span style = \"font-style: italic;\">23 rows omitted</span></div><div style = \"clear: both;\"></div></div><div class = \"data-frame\" style = \"overflow-x: scroll;\"><table class = \"data-frame\" style = \"margin-bottom: 6px;\"><thead><tr class = \"header\"><th class = \"rowNumber\" style = \"font-weight: bold; text-align: right;\">Row</th><th style = \"text-align: left;\">Region</th><th style = \"text-align: left;\">Year</th><th style = \"text-align: left;\">Earthquake_Numbers</th><th style = \"text-align: left;\">Earthquake_Average_Magnitude_4+</th><th style = \"text-align: left;\">Internal_Emigration</th><th style = \"text-align: left;\">Internal_Immigration</th><th style = \"text-align: left;\">Net_Internal_Immigration</th><th style = \"text-align: left;\">Average_Precipitation_mm</th><th style = \"text-align: left;\">Average_Temperature_°C</th><th style = \"text-align: left;\">Average_Windgusts_kn</th></tr><tr class = \"subheader headerLastRow\"><th class = \"rowNumber\" style = \"font-weight: bold; text-align: right;\"></th><th title = \"String\" style = \"text-align: left;\">String</th><th title = \"Int64\" style = \"text-align: left;\">Int64</th><th title = \"Int64\" style = \"text-align: left;\">Int64</th><th title = \"Float64\" style = \"text-align: left;\">Float64</th><th title = \"Int64\" style = \"text-align: left;\">Int64</th><th title = \"Int64\" style = \"text-align: left;\">Int64</th><th title = \"Int64\" style = \"text-align: left;\">Int64</th><th title = \"Float64\" style = \"text-align: left;\">Float64</th><th title = \"Float64\" style = \"text-align: left;\">Float64</th><th title = \"Float64\" style = \"text-align: left;\">Float64</th></tr></thead><tbody><tr><td class = \"rowNumber\" style = \"font-weight: bold; text-align: right;\">1</td><td style = \"text-align: left;\">Bay of Plenty</td><td style = \"text-align: right;\">2014</td><td style = \"text-align: right;\">7</td><td style = \"text-align: right;\">4.34986</td><td style = \"text-align: right;\">20613</td><td style = \"text-align: right;\">19689</td><td style = \"text-align: right;\">-924</td><td style = \"text-align: right;\">1098.8</td><td style = \"text-align: right;\">14.11</td><td style = \"text-align: right;\">39.76</td></tr><tr><td class = \"rowNumber\" style = \"font-weight: bold; text-align: right;\">2</td><td style = \"text-align: left;\">Bay of Plenty</td><td style = \"text-align: right;\">2015</td><td style = \"text-align: right;\">2</td><td style = \"text-align: right;\">4.16545</td><td style = \"text-align: right;\">23820</td><td style = \"text-align: right;\">22446</td><td style = \"text-align: right;\">-1374</td><td style = \"text-align: right;\">953.8</td><td style = \"text-align: right;\">13.97</td><td style = \"text-align: right;\">38.06</td></tr><tr><td class = \"rowNumber\" style = \"font-weight: bold; text-align: right;\">3</td><td style = \"text-align: left;\">Bay of Plenty</td><td style = \"text-align: right;\">2016</td><td style = \"text-align: right;\">6</td><td style = \"text-align: right;\">4.51104</td><td style = \"text-align: right;\">25836</td><td style = \"text-align: right;\">23298</td><td style = \"text-align: right;\">-2538</td><td style = \"text-align: right;\">1287.65</td><td style = \"text-align: right;\">14.72</td><td style = \"text-align: right;\">38.99</td></tr><tr><td class = \"rowNumber\" style = \"font-weight: bold; text-align: right;\">4</td><td style = \"text-align: left;\">Bay of Plenty</td><td style = \"text-align: right;\">2017</td><td style = \"text-align: right;\">14</td><td style = \"text-align: right;\">4.44434</td><td style = \"text-align: right;\">24840</td><td style = \"text-align: right;\">23259</td><td style = \"text-align: right;\">-1581</td><td style = \"text-align: right;\">1848.3</td><td style = \"text-align: right;\">14.45</td><td style = \"text-align: right;\">37.74</td></tr><tr><td class = \"rowNumber\" style = \"font-weight: bold; text-align: right;\">5</td><td style = \"text-align: left;\">Canterbury</td><td style = \"text-align: right;\">2014</td><td style = \"text-align: right;\">6</td><td style = \"text-align: right;\">4.27524</td><td style = \"text-align: right;\">145224</td><td style = \"text-align: right;\">145152</td><td style = \"text-align: right;\">-72</td><td style = \"text-align: right;\">575.23</td><td style = \"text-align: right;\">10.3</td><td style = \"text-align: right;\">40.03</td></tr><tr><td class = \"rowNumber\" style = \"font-weight: bold; text-align: right;\">6</td><td style = \"text-align: left;\">Canterbury</td><td style = \"text-align: right;\">2015</td><td style = \"text-align: right;\">9</td><td style = \"text-align: right;\">4.52112</td><td style = \"text-align: right;\">156963</td><td style = \"text-align: right;\">152829</td><td style = \"text-align: right;\">-4134</td><td style = \"text-align: right;\">448.63</td><td style = \"text-align: right;\">10.46</td><td style = \"text-align: right;\">41.76</td></tr><tr><td class = \"rowNumber\" style = \"font-weight: bold; text-align: right;\">7</td><td style = \"text-align: left;\">Canterbury</td><td style = \"text-align: right;\">2016</td><td style = \"text-align: right;\">280</td><td style = \"text-align: right;\">4.50278</td><td style = \"text-align: right;\">159516</td><td style = \"text-align: right;\">154071</td><td style = \"text-align: right;\">-5445</td><td style = \"text-align: right;\">560.57</td><td style = \"text-align: right;\">11.03</td><td style = \"text-align: right;\">38.95</td></tr><tr><td class = \"rowNumber\" style = \"font-weight: bold; text-align: right;\">8</td><td style = \"text-align: left;\">Canterbury</td><td style = \"text-align: right;\">2017</td><td style = \"text-align: right;\">44</td><td style = \"text-align: right;\">4.42916</td><td style = \"text-align: right;\">146211</td><td style = \"text-align: right;\">140367</td><td style = \"text-align: right;\">-5844</td><td style = \"text-align: right;\">657.57</td><td style = \"text-align: right;\">10.57</td><td style = \"text-align: right;\">37.39</td></tr><tr><td class = \"rowNumber\" style = \"font-weight: bold; text-align: right;\">9</td><td style = \"text-align: left;\">Gisborne</td><td style = \"text-align: right;\">2014</td><td style = \"text-align: right;\">4</td><td style = \"text-align: right;\">4.42209</td><td style = \"text-align: right;\">15687</td><td style = \"text-align: right;\">15756</td><td style = \"text-align: right;\">69</td><td style = \"text-align: right;\">1096.0</td><td style = \"text-align: right;\">14.67</td><td style = \"text-align: right;\">38.12</td></tr><tr><td class = \"rowNumber\" style = \"font-weight: bold; text-align: right;\">10</td><td style = \"text-align: left;\">Gisborne</td><td style = \"text-align: right;\">2015</td><td style = \"text-align: right;\">5</td><td style = \"text-align: right;\">4.39225</td><td style = \"text-align: right;\">16632</td><td style = \"text-align: right;\">16587</td><td style = \"text-align: right;\">-45</td><td style = \"text-align: right;\">1143.1</td><td style = \"text-align: right;\">14.27</td><td style = \"text-align: right;\">37.27</td></tr><tr><td class = \"rowNumber\" style = \"font-weight: bold; text-align: right;\">11</td><td style = \"text-align: left;\">Gisborne</td><td style = \"text-align: right;\">2016</td><td style = \"text-align: right;\">3</td><td style = \"text-align: right;\">4.41651</td><td style = \"text-align: right;\">15399</td><td style = \"text-align: right;\">15174</td><td style = \"text-align: right;\">-225</td><td style = \"text-align: right;\">1309.1</td><td style = \"text-align: right;\">15.32</td><td style = \"text-align: right;\">36.67</td></tr><tr><td class = \"rowNumber\" style = \"font-weight: bold; text-align: right;\">12</td><td style = \"text-align: left;\">Gisborne</td><td style = \"text-align: right;\">2017</td><td style = \"text-align: right;\">3</td><td style = \"text-align: right;\">4.64012</td><td style = \"text-align: right;\">14199</td><td style = \"text-align: right;\">14580</td><td style = \"text-align: right;\">381</td><td style = \"text-align: right;\">1179.2</td><td style = \"text-align: right;\">15.01</td><td style = \"text-align: right;\">35.65</td></tr><tr><td class = \"rowNumber\" style = \"font-weight: bold; text-align: right;\">13</td><td style = \"text-align: left;\">Hawke&apos;s Bay</td><td style = \"text-align: right;\">2014</td><td style = \"text-align: right;\">8</td><td style = \"text-align: right;\">4.472</td><td style = \"text-align: right;\">91590</td><td style = \"text-align: right;\">92190</td><td style = \"text-align: right;\">600</td><td style = \"text-align: right;\">625.2</td><td style = \"text-align: right;\">14.68</td><td style = \"text-align: right;\">42.32</td></tr><tr><td style = \"text-align: right;\">&vellip;</td><td style = \"text-align: right;\">&vellip;</td><td style = \"text-align: right;\">&vellip;</td><td style = \"text-align: right;\">&vellip;</td><td style = \"text-align: right;\">&vellip;</td><td style = \"text-align: right;\">&vellip;</td><td style = \"text-align: right;\">&vellip;</td><td style = \"text-align: right;\">&vellip;</td><td style = \"text-align: right;\">&vellip;</td><td style = \"text-align: right;\">&vellip;</td><td style = \"text-align: right;\">&vellip;</td></tr><tr><td class = \"rowNumber\" style = \"font-weight: bold; text-align: right;\">37</td><td style = \"text-align: left;\">Waikato</td><td style = \"text-align: right;\">2014</td><td style = \"text-align: right;\">3</td><td style = \"text-align: right;\">4.44364</td><td style = \"text-align: right;\">171279</td><td style = \"text-align: right;\">171024</td><td style = \"text-align: right;\">-255</td><td style = \"text-align: right;\">835.1</td><td style = \"text-align: right;\">12.91</td><td style = \"text-align: right;\">39.34</td></tr><tr><td class = \"rowNumber\" style = \"font-weight: bold; text-align: right;\">38</td><td style = \"text-align: left;\">Waikato</td><td style = \"text-align: right;\">2015</td><td style = \"text-align: right;\">3</td><td style = \"text-align: right;\">4.46013</td><td style = \"text-align: right;\">184494</td><td style = \"text-align: right;\">181812</td><td style = \"text-align: right;\">-2682</td><td style = \"text-align: right;\">954.9</td><td style = \"text-align: right;\">12.93</td><td style = \"text-align: right;\">37.44</td></tr><tr><td class = \"rowNumber\" style = \"font-weight: bold; text-align: right;\">39</td><td style = \"text-align: left;\">Waikato</td><td style = \"text-align: right;\">2016</td><td style = \"text-align: right;\">5</td><td style = \"text-align: right;\">4.181</td><td style = \"text-align: right;\">188415</td><td style = \"text-align: right;\">185739</td><td style = \"text-align: right;\">-2676</td><td style = \"text-align: right;\">971.3</td><td style = \"text-align: right;\">13.74</td><td style = \"text-align: right;\">38.2</td></tr><tr><td class = \"rowNumber\" style = \"font-weight: bold; text-align: right;\">40</td><td style = \"text-align: left;\">Waikato</td><td style = \"text-align: right;\">2017</td><td style = \"text-align: right;\">5</td><td style = \"text-align: right;\">4.40816</td><td style = \"text-align: right;\">173247</td><td style = \"text-align: right;\">168843</td><td style = \"text-align: right;\">-4404</td><td style = \"text-align: right;\">1470.5</td><td style = \"text-align: right;\">13.33</td><td style = \"text-align: right;\">36.47</td></tr><tr><td class = \"rowNumber\" style = \"font-weight: bold; text-align: right;\">41</td><td style = \"text-align: left;\">Wellington</td><td style = \"text-align: right;\">2014</td><td style = \"text-align: right;\">3</td><td style = \"text-align: right;\">4.25865</td><td style = \"text-align: right;\">17856</td><td style = \"text-align: right;\">17376</td><td style = \"text-align: right;\">-480</td><td style = \"text-align: right;\">999.85</td><td style = \"text-align: right;\">13.44</td><td style = \"text-align: right;\">44.08</td></tr><tr><td class = \"rowNumber\" style = \"font-weight: bold; text-align: right;\">42</td><td style = \"text-align: left;\">Wellington</td><td style = \"text-align: right;\">2015</td><td style = \"text-align: right;\">2</td><td style = \"text-align: right;\">4.26611</td><td style = \"text-align: right;\">18657</td><td style = \"text-align: right;\">18027</td><td style = \"text-align: right;\">-630</td><td style = \"text-align: right;\">860.65</td><td style = \"text-align: right;\">13.26</td><td style = \"text-align: right;\">43.95</td></tr><tr><td class = \"rowNumber\" style = \"font-weight: bold; text-align: right;\">43</td><td style = \"text-align: left;\">Wellington</td><td style = \"text-align: right;\">2016</td><td style = \"text-align: right;\">8</td><td style = \"text-align: right;\">4.59352</td><td style = \"text-align: right;\">19629</td><td style = \"text-align: right;\">18570</td><td style = \"text-align: right;\">-1059</td><td style = \"text-align: right;\">995.0</td><td style = \"text-align: right;\">14.16</td><td style = \"text-align: right;\">42.3</td></tr><tr><td class = \"rowNumber\" style = \"font-weight: bold; text-align: right;\">44</td><td style = \"text-align: left;\">Wellington</td><td style = \"text-align: right;\">2017</td><td style = \"text-align: right;\">7</td><td style = \"text-align: right;\">4.4406</td><td style = \"text-align: right;\">20067</td><td style = \"text-align: right;\">18105</td><td style = \"text-align: right;\">-1962</td><td style = \"text-align: right;\">1103.6</td><td style = \"text-align: right;\">13.59</td><td style = \"text-align: right;\">40.5</td></tr><tr><td class = \"rowNumber\" style = \"font-weight: bold; text-align: right;\">45</td><td style = \"text-align: left;\">West Coast</td><td style = \"text-align: right;\">2014</td><td style = \"text-align: right;\">3</td><td style = \"text-align: right;\">4.60689</td><td style = \"text-align: right;\">7512</td><td style = \"text-align: right;\">7707</td><td style = \"text-align: right;\">195</td><td style = \"text-align: right;\">2162.65</td><td style = \"text-align: right;\">12.11</td><td style = \"text-align: right;\">30.98</td></tr><tr><td class = \"rowNumber\" style = \"font-weight: bold; text-align: right;\">46</td><td style = \"text-align: left;\">West Coast</td><td style = \"text-align: right;\">2015</td><td style = \"text-align: right;\">4</td><td style = \"text-align: right;\">4.23962</td><td style = \"text-align: right;\">7782</td><td style = \"text-align: right;\">8277</td><td style = \"text-align: right;\">495</td><td style = \"text-align: right;\">2404.25</td><td style = \"text-align: right;\">12.09</td><td style = \"text-align: right;\">30.39</td></tr><tr><td class = \"rowNumber\" style = \"font-weight: bold; text-align: right;\">47</td><td style = \"text-align: left;\">West Coast</td><td style = \"text-align: right;\">2016</td><td style = \"text-align: right;\">3</td><td style = \"text-align: right;\">4.33949</td><td style = \"text-align: right;\">7791</td><td style = \"text-align: right;\">8136</td><td style = \"text-align: right;\">345</td><td style = \"text-align: right;\">2731.0</td><td style = \"text-align: right;\">12.52</td><td style = \"text-align: right;\">30.65</td></tr><tr><td class = \"rowNumber\" style = \"font-weight: bold; text-align: right;\">48</td><td style = \"text-align: left;\">West Coast</td><td style = \"text-align: right;\">2017</td><td style = \"text-align: right;\">4</td><td style = \"text-align: right;\">4.35061</td><td style = \"text-align: right;\">7020</td><td style = \"text-align: right;\">7482</td><td style = \"text-align: right;\">462</td><td style = \"text-align: right;\">2244.8</td><td style = \"text-align: right;\">12.39</td><td style = \"text-align: right;\">28.27</td></tr></tbody></table></div>"
      ],
      "text/latex": [
       "\\begin{tabular}{r|ccccc}\n",
       "\t& Region & Year & Earthquake\\_Numbers & Earthquake\\_Average\\_Magnitude\\_4+ & \\\\\n",
       "\t\\hline\n",
       "\t& String & Int64 & Int64 & Float64 & \\\\\n",
       "\t\\hline\n",
       "\t1 & Bay of Plenty & 2014 & 7 & 4.34986 & $\\dots$ \\\\\n",
       "\t2 & Bay of Plenty & 2015 & 2 & 4.16545 & $\\dots$ \\\\\n",
       "\t3 & Bay of Plenty & 2016 & 6 & 4.51104 & $\\dots$ \\\\\n",
       "\t4 & Bay of Plenty & 2017 & 14 & 4.44434 & $\\dots$ \\\\\n",
       "\t5 & Canterbury & 2014 & 6 & 4.27524 & $\\dots$ \\\\\n",
       "\t6 & Canterbury & 2015 & 9 & 4.52112 & $\\dots$ \\\\\n",
       "\t7 & Canterbury & 2016 & 280 & 4.50278 & $\\dots$ \\\\\n",
       "\t8 & Canterbury & 2017 & 44 & 4.42916 & $\\dots$ \\\\\n",
       "\t9 & Gisborne & 2014 & 4 & 4.42209 & $\\dots$ \\\\\n",
       "\t10 & Gisborne & 2015 & 5 & 4.39225 & $\\dots$ \\\\\n",
       "\t11 & Gisborne & 2016 & 3 & 4.41651 & $\\dots$ \\\\\n",
       "\t12 & Gisborne & 2017 & 3 & 4.64012 & $\\dots$ \\\\\n",
       "\t13 & Hawke's Bay & 2014 & 8 & 4.472 & $\\dots$ \\\\\n",
       "\t14 & Hawke's Bay & 2015 & 3 & 4.27478 & $\\dots$ \\\\\n",
       "\t15 & Hawke's Bay & 2016 & 7 & 4.3105 & $\\dots$ \\\\\n",
       "\t16 & Hawke's Bay & 2017 & 5 & 4.23544 & $\\dots$ \\\\\n",
       "\t17 & Manawatū-Whanganui & 2014 & 25 & 4.47152 & $\\dots$ \\\\\n",
       "\t18 & Manawatū-Whanganui & 2015 & 16 & 4.44284 & $\\dots$ \\\\\n",
       "\t19 & Manawatū-Whanganui & 2016 & 7 & 4.31844 & $\\dots$ \\\\\n",
       "\t20 & Manawatū-Whanganui & 2017 & 13 & 4.32056 & $\\dots$ \\\\\n",
       "\t21 & Marlborough & 2014 & 7 & 4.13673 & $\\dots$ \\\\\n",
       "\t22 & Marlborough & 2015 & 16 & 4.50237 & $\\dots$ \\\\\n",
       "\t23 & Marlborough & 2016 & 218 & 4.48727 & $\\dots$ \\\\\n",
       "\t24 & Marlborough & 2017 & 33 & 4.44239 & $\\dots$ \\\\\n",
       "\t25 & Nelson & 2015 & 1 & 4.0192 & $\\dots$ \\\\\n",
       "\t26 & Otago & 2014 & 1 & 4.04471 & $\\dots$ \\\\\n",
       "\t27 & Otago & 2015 & 6 & 4.56597 & $\\dots$ \\\\\n",
       "\t28 & Otago & 2016 & 1 & 4.33779 & $\\dots$ \\\\\n",
       "\t29 & Otago & 2017 & 1 & 4.4225 & $\\dots$ \\\\\n",
       "\t30 & Southland & 2014 & 14 & 4.51073 & $\\dots$ \\\\\n",
       "\t$\\dots$ & $\\dots$ & $\\dots$ & $\\dots$ & $\\dots$ &  \\\\\n",
       "\\end{tabular}\n"
      ],
      "text/plain": [
       "\u001b[1m48×10 DataFrame\u001b[0m\n",
       "\u001b[1m Row \u001b[0m│\u001b[1m Region        \u001b[0m\u001b[1m Year  \u001b[0m\u001b[1m Earthquake_Numbers \u001b[0m\u001b[1m Earthquake_Average_Magnitude_\u001b[0m ⋯\n",
       "     │\u001b[90m String        \u001b[0m\u001b[90m Int64 \u001b[0m\u001b[90m Int64              \u001b[0m\u001b[90m Float64                      \u001b[0m ⋯\n",
       "─────┼──────────────────────────────────────────────────────────────────────────\n",
       "   1 │ Bay of Plenty   2014                   7                          4.349 ⋯\n",
       "   2 │ Bay of Plenty   2015                   2                          4.165\n",
       "   3 │ Bay of Plenty   2016                   6                          4.511\n",
       "   4 │ Bay of Plenty   2017                  14                          4.444\n",
       "   5 │ Canterbury      2014                   6                          4.275 ⋯\n",
       "   6 │ Canterbury      2015                   9                          4.521\n",
       "   7 │ Canterbury      2016                 280                          4.502\n",
       "   8 │ Canterbury      2017                  44                          4.429\n",
       "   9 │ Gisborne        2014                   4                          4.422 ⋯\n",
       "  10 │ Gisborne        2015                   5                          4.392\n",
       "  11 │ Gisborne        2016                   3                          4.416\n",
       "  ⋮  │       ⋮          ⋮            ⋮                          ⋮              ⋱\n",
       "  39 │ Waikato         2016                   5                          4.181\n",
       "  40 │ Waikato         2017                   5                          4.408 ⋯\n",
       "  41 │ Wellington      2014                   3                          4.258\n",
       "  42 │ Wellington      2015                   2                          4.266\n",
       "  43 │ Wellington      2016                   8                          4.593\n",
       "  44 │ Wellington      2017                   7                          4.440 ⋯\n",
       "  45 │ West Coast      2014                   3                          4.606\n",
       "  46 │ West Coast      2015                   4                          4.239\n",
       "  47 │ West Coast      2016                   3                          4.339\n",
       "  48 │ West Coast      2017                   4                          4.350 ⋯\n",
       "\u001b[36m                                                   7 columns and 27 rows omitted\u001b[0m"
      ]
     },
     "execution_count": 4,
     "metadata": {},
     "output_type": "execute_result"
    }
   ],
   "source": [
    "using CSV\n",
    "using DataFrames\n",
    "\n",
    "final_df = CSV.read(\"Full_data_clean.csv\", DataFrame)"
   ]
  },
  {
   "cell_type": "code",
   "execution_count": 5,
   "id": "ed5ba4e8",
   "metadata": {
    "scrolled": true
   },
   "outputs": [
    {
     "data": {
      "application/vnd.vegalite.v4+json": {
       "config": {
        "title": {
         "color": "black"
        }
       },
       "data": {
        "values": [
         {
          "Average_Precipitation_mm": 1096,
          "Average_Temperature_°C": 14.67,
          "Average_Windgusts_kn": 38.12,
          "Earthquake_Average_Magnitude_4+": 4.42209402475,
          "Earthquake_Numbers": 4,
          "Internal_Emigration": 15687,
          "Internal_Immigration": 15756,
          "Net_Internal_Immigration": 69,
          "Region": "Gisborne",
          "Year": 2014
         },
         {
          "Average_Precipitation_mm": 1143.1,
          "Average_Temperature_°C": 14.27,
          "Average_Windgusts_kn": 37.27,
          "Earthquake_Average_Magnitude_4+": 4.3922497806,
          "Earthquake_Numbers": 5,
          "Internal_Emigration": 16632,
          "Internal_Immigration": 16587,
          "Net_Internal_Immigration": -45,
          "Region": "Gisborne",
          "Year": 2015
         },
         {
          "Average_Precipitation_mm": 1309.1,
          "Average_Temperature_°C": 15.32,
          "Average_Windgusts_kn": 36.67,
          "Earthquake_Average_Magnitude_4+": 4.416514773,
          "Earthquake_Numbers": 3,
          "Internal_Emigration": 15399,
          "Internal_Immigration": 15174,
          "Net_Internal_Immigration": -225,
          "Region": "Gisborne",
          "Year": 2016
         },
         {
          "Average_Precipitation_mm": 1179.2,
          "Average_Temperature_°C": 15.01,
          "Average_Windgusts_kn": 35.65,
          "Earthquake_Average_Magnitude_4+": 4.640116232,
          "Earthquake_Numbers": 3,
          "Internal_Emigration": 14199,
          "Internal_Immigration": 14580,
          "Net_Internal_Immigration": 381,
          "Region": "Gisborne",
          "Year": 2017
         }
        ]
       },
       "encoding": {
        "color": {
         "field": "Year",
         "type": "nominal"
        },
        "x": {
         "field": "Year",
         "type": "quantitative"
        },
        "y": {
         "field": "Net_Internal_Immigration",
         "title": "Internal migration count",
         "type": "quantitative"
        }
       },
       "mark": "bar",
       "title": "Internal Migration"
      },
      "image/png": "[encoded data removed]",
      "image/svg+xml": [
       "<?xml version=\"1.0\" encoding=\"utf-8\"?>\n",
       "<!DOCTYPE svg PUBLIC \"-//W3C//DTD SVG 1.1//EN\" \"http://www.w3.org/Graphics/SVG/1.1/DTD/svg11.dtd\">\n",
       "<svg xmlns=\"http://www.w3.org/2000/svg\" xmlns:xlink=\"http://www.w3.org/1999/xlink\" version=\"1.1\" class=\"marks\" width=\"308\" height=\"264\" viewBox=\"0 0 308 264\"><rect width=\"308\" height=\"264\" fill=\"white\"/><g fill=\"none\" stroke-miterlimit=\"10\" transform=\"translate(49,27)\"><g class=\"mark-group role-frame root\" role=\"graphics-object\" aria-roledescription=\"group mark container\"><g transform=\"translate(0,0)\"><path class=\"background\" aria-hidden=\"true\" d=\"M0.5,0.5h200v200h-200Z\" stroke=\"#ddd\"/><g><g class=\"mark-group role-axis\" aria-hidden=\"true\"><g transform=\"translate(0.5,200.5)\"><path class=\"background\" aria-hidden=\"true\" d=\"M0,0h0v0h0Z\" pointer-events=\"none\"/><g><g class=\"mark-rule role-axis-grid\" pointer-events=\"none\"><line transform=\"translate(25,-200)\" x2=\"0\" y2=\"200\" stroke=\"#ddd\" stroke-width=\"1\" opacity=\"1\"/><line transform=\"translate(75,-200)\" x2=\"0\" y2=\"200\" stroke=\"#ddd\" stroke-width=\"1\" opacity=\"1\"/><line transform=\"translate(125,-200)\" x2=\"0\" y2=\"200\" stroke=\"#ddd\" stroke-width=\"1\" opacity=\"1\"/><line transform=\"translate(175,-200)\" x2=\"0\" y2=\"200\" stroke=\"#ddd\" stroke-width=\"1\" opacity=\"1\"/></g></g><path class=\"foreground\" aria-hidden=\"true\" d=\"\" pointer-events=\"none\" display=\"none\"/></g></g><g class=\"mark-group role-axis\" aria-hidden=\"true\"><g transform=\"translate(0.5,0.5)\"><path class=\"background\" aria-hidden=\"true\" d=\"M0,0h0v0h0Z\" pointer-events=\"none\"/><g><g class=\"mark-rule role-axis-grid\" pointer-events=\"none\"><line transform=\"translate(0,185)\" x2=\"200\" y2=\"0\" stroke=\"#ddd\" stroke-width=\"1\" opacity=\"1\"/><line transform=\"translate(0,154)\" x2=\"200\" y2=\"0\" stroke=\"#ddd\" stroke-width=\"1\" opacity=\"1\"/><line transform=\"translate(0,123)\" x2=\"200\" y2=\"0\" stroke=\"#ddd\" stroke-width=\"1\" opacity=\"1\"/><line transform=\"translate(0,92)\" x2=\"200\" y2=\"0\" stroke=\"#ddd\" stroke-width=\"1\" opacity=\"1\"/><line transform=\"translate(0,62)\" x2=\"200\" y2=\"0\" stroke=\"#ddd\" stroke-width=\"1\" opacity=\"1\"/><line transform=\"translate(0,31)\" x2=\"200\" y2=\"0\" stroke=\"#ddd\" stroke-width=\"1\" opacity=\"1\"/><line transform=\"translate(0,0)\" x2=\"200\" y2=\"0\" stroke=\"#ddd\" stroke-width=\"1\" opacity=\"1\"/></g></g><path class=\"foreground\" aria-hidden=\"true\" d=\"\" pointer-events=\"none\" display=\"none\"/></g></g><g class=\"mark-group role-axis\" role=\"graphics-symbol\" aria-roledescription=\"axis\" aria-label=\"X-axis titled 'Year' for a linear scale with values from 2,014 to 2,018\"><g transform=\"translate(0.5,200.5)\"><path class=\"background\" aria-hidden=\"true\" d=\"M0,0h0v0h0Z\" pointer-events=\"none\"/><g><g class=\"mark-rule role-axis-tick\" pointer-events=\"none\"><line transform=\"translate(25,0)\" x2=\"0\" y2=\"5\" stroke=\"#888\" stroke-width=\"1\" opacity=\"1\"/><line transform=\"translate(75,0)\" x2=\"0\" y2=\"5\" stroke=\"#888\" stroke-width=\"1\" opacity=\"1\"/><line transform=\"translate(125,0)\" x2=\"0\" y2=\"5\" stroke=\"#888\" stroke-width=\"1\" opacity=\"1\"/><line transform=\"translate(175,0)\" x2=\"0\" y2=\"5\" stroke=\"#888\" stroke-width=\"1\" opacity=\"1\"/></g><g class=\"mark-text role-axis-label\" pointer-events=\"none\"><text text-anchor=\"middle\" transform=\"translate(25,15)\" font-family=\"sans-serif\" font-size=\"10px\" fill=\"#000\" opacity=\"1\">2,014</text><text text-anchor=\"middle\" transform=\"translate(75,15)\" font-family=\"sans-serif\" font-size=\"10px\" fill=\"#000\" opacity=\"1\">2,015</text><text text-anchor=\"middle\" transform=\"translate(125,15)\" font-family=\"sans-serif\" font-size=\"10px\" fill=\"#000\" opacity=\"1\">2,016</text><text text-anchor=\"middle\" transform=\"translate(175,15)\" font-family=\"sans-serif\" font-size=\"10px\" fill=\"#000\" opacity=\"1\">2,017</text></g><g class=\"mark-rule role-axis-domain\" pointer-events=\"none\"><line transform=\"translate(0,0)\" x2=\"200\" y2=\"0\" stroke=\"#888\" stroke-width=\"1\" opacity=\"1\"/></g><g class=\"mark-text role-axis-title\" pointer-events=\"none\"><text text-anchor=\"middle\" transform=\"translate(100,30)\" font-family=\"sans-serif\" font-size=\"11px\" font-weight=\"bold\" fill=\"#000\" opacity=\"1\">Year</text></g></g><path class=\"foreground\" aria-hidden=\"true\" d=\"\" pointer-events=\"none\" display=\"none\"/></g></g><g class=\"mark-group role-axis\" role=\"graphics-symbol\" aria-roledescription=\"axis\" aria-label=\"Y-axis titled 'Internal migration count' for a linear scale with values from −250 to 400\"><g transform=\"translate(0.5,0.5)\"><path class=\"background\" aria-hidden=\"true\" d=\"M0,0h0v0h0Z\" pointer-events=\"none\"/><g><g class=\"mark-rule role-axis-tick\" pointer-events=\"none\"><line transform=\"translate(0,185)\" x2=\"-5\" y2=\"0\" stroke=\"#888\" stroke-width=\"1\" opacity=\"1\"/><line transform=\"translate(0,154)\" x2=\"-5\" y2=\"0\" stroke=\"#888\" stroke-width=\"1\" opacity=\"1\"/><line transform=\"translate(0,123)\" x2=\"-5\" y2=\"0\" stroke=\"#888\" stroke-width=\"1\" opacity=\"1\"/><line transform=\"translate(0,92)\" x2=\"-5\" y2=\"0\" stroke=\"#888\" stroke-width=\"1\" opacity=\"1\"/><line transform=\"translate(0,62)\" x2=\"-5\" y2=\"0\" stroke=\"#888\" stroke-width=\"1\" opacity=\"1\"/><line transform=\"translate(0,31)\" x2=\"-5\" y2=\"0\" stroke=\"#888\" stroke-width=\"1\" opacity=\"1\"/><line transform=\"translate(0,0)\" x2=\"-5\" y2=\"0\" stroke=\"#888\" stroke-width=\"1\" opacity=\"1\"/></g><g class=\"mark-text role-axis-label\" pointer-events=\"none\"><text text-anchor=\"end\" transform=\"translate(-7,187.6153846153846)\" font-family=\"sans-serif\" font-size=\"10px\" fill=\"#000\" opacity=\"1\">−200</text><text text-anchor=\"end\" transform=\"translate(-7,156.84615384615384)\" font-family=\"sans-serif\" font-size=\"10px\" fill=\"#000\" opacity=\"1\">−100</text><text text-anchor=\"end\" transform=\"translate(-7,126.07692307692308)\" font-family=\"sans-serif\" font-size=\"10px\" fill=\"#000\" opacity=\"1\">0</text><text text-anchor=\"end\" transform=\"translate(-7,95.3076923076923)\" font-family=\"sans-serif\" font-size=\"10px\" fill=\"#000\" opacity=\"1\">100</text><text text-anchor=\"end\" transform=\"translate(-7,64.53846153846155)\" font-family=\"sans-serif\" font-size=\"10px\" fill=\"#000\" opacity=\"1\">200</text><text text-anchor=\"end\" transform=\"translate(-7,33.769230769230774)\" font-family=\"sans-serif\" font-size=\"10px\" fill=\"#000\" opacity=\"1\">300</text><text text-anchor=\"end\" transform=\"translate(-7,3)\" font-family=\"sans-serif\" font-size=\"10px\" fill=\"#000\" opacity=\"1\">400</text></g><g class=\"mark-rule role-axis-domain\" pointer-events=\"none\"><line transform=\"translate(0,200)\" x2=\"0\" y2=\"-200\" stroke=\"#888\" stroke-width=\"1\" opacity=\"1\"/></g><g class=\"mark-text role-axis-title\" pointer-events=\"none\"><text text-anchor=\"middle\" transform=\"translate(-33,100) rotate(-90) translate(0,-2)\" font-family=\"sans-serif\" font-size=\"11px\" font-weight=\"bold\" fill=\"#000\" opacity=\"1\">Internal migration count</text></g></g><path class=\"foreground\" aria-hidden=\"true\" d=\"\" pointer-events=\"none\" display=\"none\"/></g></g><g class=\"mark-rect role-mark marks\" role=\"graphics-object\" aria-roledescription=\"rect mark container\"><path aria-label=\"Year: 2014; Internal migration count: 69\" role=\"graphics-symbol\" aria-roledescription=\"bar\" d=\"M22.5,101.84615384615383h5v21.230769230769255h-5Z\" fill=\"#4c78a8\"/><path aria-label=\"Year: 2015; Internal migration count: −45\" role=\"graphics-symbol\" aria-roledescription=\"bar\" d=\"M72.5,123.07692307692308h5v13.846153846153854h-5Z\" fill=\"#f58518\"/><path aria-label=\"Year: 2016; Internal migration count: −225\" role=\"graphics-symbol\" aria-roledescription=\"bar\" d=\"M122.5,123.07692307692308h5v69.23076923076924h-5Z\" fill=\"#e45756\"/><path aria-label=\"Year: 2017; Internal migration count: 381\" role=\"graphics-symbol\" aria-roledescription=\"bar\" d=\"M172.5,5.8461538461538565h5v117.23076923076923h-5Z\" fill=\"#72b7b2\"/></g><g class=\"mark-group role-legend\" role=\"graphics-symbol\" aria-roledescription=\"legend\" aria-label=\"Symbol legend titled 'Year' for fill color with 4 values: 2014, 2015, 2016, 2017\"><g transform=\"translate(218,0)\"><path class=\"background\" aria-hidden=\"true\" d=\"M0,0h36v66h-36Z\" pointer-events=\"none\"/><g><g class=\"mark-group role-legend-entry\"><g transform=\"translate(0,16)\"><path class=\"background\" aria-hidden=\"true\" d=\"M0,0h0v0h0Z\" pointer-events=\"none\"/><g><g class=\"mark-group role-scope\" role=\"graphics-object\" aria-roledescription=\"group mark container\"><g transform=\"translate(0,0)\"><path class=\"background\" aria-hidden=\"true\" d=\"M0,0h36v11h-36Z\" pointer-events=\"none\" opacity=\"1\"/><g><g class=\"mark-symbol role-legend-symbol\" pointer-events=\"none\"><path transform=\"translate(6,6)\" d=\"M-5,-5h10v10h-10Z\" fill=\"#4c78a8\" stroke-width=\"1.5\" opacity=\"1\"/></g><g class=\"mark-text role-legend-label\" pointer-events=\"none\"><text text-anchor=\"start\" transform=\"translate(16,9)\" font-family=\"sans-serif\" font-size=\"10px\" fill=\"#000\" opacity=\"1\">2014</text></g></g><path class=\"foreground\" aria-hidden=\"true\" d=\"\" pointer-events=\"none\" display=\"none\"/></g><g transform=\"translate(0,13)\"><path class=\"background\" aria-hidden=\"true\" d=\"M0,0h36v11h-36Z\" pointer-events=\"none\" opacity=\"1\"/><g><g class=\"mark-symbol role-legend-symbol\" pointer-events=\"none\"><path transform=\"translate(6,6)\" d=\"M-5,-5h10v10h-10Z\" fill=\"#f58518\" stroke-width=\"1.5\" opacity=\"1\"/></g><g class=\"mark-text role-legend-label\" pointer-events=\"none\"><text text-anchor=\"start\" transform=\"translate(16,9)\" font-family=\"sans-serif\" font-size=\"10px\" fill=\"#000\" opacity=\"1\">2015</text></g></g><path class=\"foreground\" aria-hidden=\"true\" d=\"\" pointer-events=\"none\" display=\"none\"/></g><g transform=\"translate(0,26)\"><path class=\"background\" aria-hidden=\"true\" d=\"M0,0h36v11h-36Z\" pointer-events=\"none\" opacity=\"1\"/><g><g class=\"mark-symbol role-legend-symbol\" pointer-events=\"none\"><path transform=\"translate(6,6)\" d=\"M-5,-5h10v10h-10Z\" fill=\"#e45756\" stroke-width=\"1.5\" opacity=\"1\"/></g><g class=\"mark-text role-legend-label\" pointer-events=\"none\"><text text-anchor=\"start\" transform=\"translate(16,9)\" font-family=\"sans-serif\" font-size=\"10px\" fill=\"#000\" opacity=\"1\">2016</text></g></g><path class=\"foreground\" aria-hidden=\"true\" d=\"\" pointer-events=\"none\" display=\"none\"/></g><g transform=\"translate(0,39)\"><path class=\"background\" aria-hidden=\"true\" d=\"M0,0h36v11h-36Z\" pointer-events=\"none\" opacity=\"1\"/><g><g class=\"mark-symbol role-legend-symbol\" pointer-events=\"none\"><path transform=\"translate(6,6)\" d=\"M-5,-5h10v10h-10Z\" fill=\"#72b7b2\" stroke-width=\"1.5\" opacity=\"1\"/></g><g class=\"mark-text role-legend-label\" pointer-events=\"none\"><text text-anchor=\"start\" transform=\"translate(16,9)\" font-family=\"sans-serif\" font-size=\"10px\" fill=\"#000\" opacity=\"1\">2017</text></g></g><path class=\"foreground\" aria-hidden=\"true\" d=\"\" pointer-events=\"none\" display=\"none\"/></g></g></g><path class=\"foreground\" aria-hidden=\"true\" d=\"\" pointer-events=\"none\" display=\"none\"/></g></g><g class=\"mark-text role-legend-title\" pointer-events=\"none\"><text text-anchor=\"start\" transform=\"translate(0,9)\" font-family=\"sans-serif\" font-size=\"11px\" font-weight=\"bold\" fill=\"#000\" opacity=\"1\">Year</text></g></g><path class=\"foreground\" aria-hidden=\"true\" d=\"\" pointer-events=\"none\" display=\"none\"/></g></g><g class=\"mark-group role-title\"><g transform=\"translate(100,-22)\"><path class=\"background\" aria-hidden=\"true\" d=\"M0,0h0v0h0Z\" pointer-events=\"none\"/><g><g class=\"mark-text role-title-text\" role=\"graphics-symbol\" aria-roledescription=\"title\" aria-label=\"Title text 'Internal Migration'\" pointer-events=\"none\"><text text-anchor=\"middle\" transform=\"translate(0,10)\" font-family=\"sans-serif\" font-size=\"13px\" font-weight=\"bold\" fill=\"black\" opacity=\"1\">Internal Migration</text></g></g><path class=\"foreground\" aria-hidden=\"true\" d=\"\" pointer-events=\"none\" display=\"none\"/></g></g></g><path class=\"foreground\" aria-hidden=\"true\" d=\"\" display=\"none\"/></g></g></g></svg>\n"
      ],
      "text/plain": [
       "@vlplot(\n",
       "    title=\"Internal Migration\",\n",
       "    config={\n",
       "        title={\n",
       "            color=\"black\"\n",
       "        }\n",
       "    },\n",
       "    mark=\"bar\",\n",
       "    encoding={\n",
       "        x={\n",
       "            field=\"Year\"\n",
       "        },\n",
       "        y={\n",
       "            title=\"Internal migration count\",\n",
       "            field=\"Net_Internal_Immigration\"\n",
       "        },\n",
       "        color={\n",
       "            field=\"Year\",\n",
       "            type=\"nominal\"\n",
       "        }\n",
       "    },\n",
       "    data={\n",
       "        values=...\n",
       "    }\n",
       ")"
      ]
     },
     "execution_count": 5,
     "metadata": {},
     "output_type": "execute_result"
    }
   ],
   "source": [
    "#Bar chart for the Gisborne regions on internal migration\n",
    "\n",
    "final_df |>\n",
    "  @filter(_.Region==\"Gisborne\") |>\n",
    "  @vlplot(\n",
    "    :bar,\n",
    "    x=:Year,\n",
    "    y={:Net_Internal_Immigration,title=\"Internal migration count\"},\n",
    "    color=\"Year:n\",\n",
    "    title=\"Internal Migration\",\n",
    "    config={\n",
    "        title={\n",
    "            color=:black\n",
    "        }\n",
    "    }\n",
    ")"
   ]
  },
  {
   "cell_type": "code",
   "execution_count": 6,
   "id": "679d0375",
   "metadata": {
    "scrolled": true
   },
   "outputs": [
    {
     "data": {
      "application/vnd.vegalite.v4+json": {
       "config": {
        "title": {
         "color": "black"
        }
       },
       "data": {
        "values": [
         {
          "Average_Precipitation_mm": 1096,
          "Average_Temperature_°C": 14.67,
          "Average_Windgusts_kn": 38.12,
          "Earthquake_Average_Magnitude_4+": 4.42209402475,
          "Earthquake_Numbers": 4,
          "Internal_Emigration": 15687,
          "Internal_Immigration": 15756,
          "Net_Internal_Immigration": 69,
          "Region": "Gisborne",
          "Year": 2014
         },
         {
          "Average_Precipitation_mm": 1143.1,
          "Average_Temperature_°C": 14.27,
          "Average_Windgusts_kn": 37.27,
          "Earthquake_Average_Magnitude_4+": 4.3922497806,
          "Earthquake_Numbers": 5,
          "Internal_Emigration": 16632,
          "Internal_Immigration": 16587,
          "Net_Internal_Immigration": -45,
          "Region": "Gisborne",
          "Year": 2015
         },
         {
          "Average_Precipitation_mm": 1309.1,
          "Average_Temperature_°C": 15.32,
          "Average_Windgusts_kn": 36.67,
          "Earthquake_Average_Magnitude_4+": 4.416514773,
          "Earthquake_Numbers": 3,
          "Internal_Emigration": 15399,
          "Internal_Immigration": 15174,
          "Net_Internal_Immigration": -225,
          "Region": "Gisborne",
          "Year": 2016
         },
         {
          "Average_Precipitation_mm": 1179.2,
          "Average_Temperature_°C": 15.01,
          "Average_Windgusts_kn": 35.65,
          "Earthquake_Average_Magnitude_4+": 4.640116232,
          "Earthquake_Numbers": 3,
          "Internal_Emigration": 14199,
          "Internal_Immigration": 14580,
          "Net_Internal_Immigration": 381,
          "Region": "Gisborne",
          "Year": 2017
         }
        ]
       },
       "encoding": {
        "color": {
         "field": "Year",
         "type": "nominal"
        },
        "x": {
         "field": "Year",
         "type": "quantitative"
        },
        "y": {
         "field": "Earthquake_Numbers",
         "title": "Number of earthquakes",
         "type": "quantitative"
        }
       },
       "mark": "bar",
       "title": "Earthquakes (magnitude 4+)"
      },
      "image/png": "[encoded data removed]",
      "image/svg+xml": [
       "<?xml version=\"1.0\" encoding=\"utf-8\"?>\n",
       "<!DOCTYPE svg PUBLIC \"-//W3C//DTD SVG 1.1//EN\" \"http://www.w3.org/Graphics/SVG/1.1/DTD/svg11.dtd\">\n",
       "<svg xmlns=\"http://www.w3.org/2000/svg\" xmlns:xlink=\"http://www.w3.org/1999/xlink\" version=\"1.1\" class=\"marks\" width=\"291\" height=\"264\" viewBox=\"0 0 291 264\"><rect width=\"291\" height=\"264\" fill=\"white\"/><g fill=\"none\" stroke-miterlimit=\"10\" transform=\"translate(32,27)\"><g class=\"mark-group role-frame root\" role=\"graphics-object\" aria-roledescription=\"group mark container\"><g transform=\"translate(0,0)\"><path class=\"background\" aria-hidden=\"true\" d=\"M0.5,0.5h200v200h-200Z\" stroke=\"#ddd\"/><g><g class=\"mark-group role-axis\" aria-hidden=\"true\"><g transform=\"translate(0.5,200.5)\"><path class=\"background\" aria-hidden=\"true\" d=\"M0,0h0v0h0Z\" pointer-events=\"none\"/><g><g class=\"mark-rule role-axis-grid\" pointer-events=\"none\"><line transform=\"translate(25,-200)\" x2=\"0\" y2=\"200\" stroke=\"#ddd\" stroke-width=\"1\" opacity=\"1\"/><line transform=\"translate(75,-200)\" x2=\"0\" y2=\"200\" stroke=\"#ddd\" stroke-width=\"1\" opacity=\"1\"/><line transform=\"translate(125,-200)\" x2=\"0\" y2=\"200\" stroke=\"#ddd\" stroke-width=\"1\" opacity=\"1\"/><line transform=\"translate(175,-200)\" x2=\"0\" y2=\"200\" stroke=\"#ddd\" stroke-width=\"1\" opacity=\"1\"/></g></g><path class=\"foreground\" aria-hidden=\"true\" d=\"\" pointer-events=\"none\" display=\"none\"/></g></g><g class=\"mark-group role-axis\" aria-hidden=\"true\"><g transform=\"translate(0.5,0.5)\"><path class=\"background\" aria-hidden=\"true\" d=\"M0,0h0v0h0Z\" pointer-events=\"none\"/><g><g class=\"mark-rule role-axis-grid\" pointer-events=\"none\"><line transform=\"translate(0,200)\" x2=\"200\" y2=\"0\" stroke=\"#ddd\" stroke-width=\"1\" opacity=\"1\"/><line transform=\"translate(0,160)\" x2=\"200\" y2=\"0\" stroke=\"#ddd\" stroke-width=\"1\" opacity=\"1\"/><line transform=\"translate(0,120)\" x2=\"200\" y2=\"0\" stroke=\"#ddd\" stroke-width=\"1\" opacity=\"1\"/><line transform=\"translate(0,80)\" x2=\"200\" y2=\"0\" stroke=\"#ddd\" stroke-width=\"1\" opacity=\"1\"/><line transform=\"translate(0,40)\" x2=\"200\" y2=\"0\" stroke=\"#ddd\" stroke-width=\"1\" opacity=\"1\"/><line transform=\"translate(0,0)\" x2=\"200\" y2=\"0\" stroke=\"#ddd\" stroke-width=\"1\" opacity=\"1\"/></g></g><path class=\"foreground\" aria-hidden=\"true\" d=\"\" pointer-events=\"none\" display=\"none\"/></g></g><g class=\"mark-group role-axis\" role=\"graphics-symbol\" aria-roledescription=\"axis\" aria-label=\"X-axis titled 'Year' for a linear scale with values from 2,014 to 2,018\"><g transform=\"translate(0.5,200.5)\"><path class=\"background\" aria-hidden=\"true\" d=\"M0,0h0v0h0Z\" pointer-events=\"none\"/><g><g class=\"mark-rule role-axis-tick\" pointer-events=\"none\"><line transform=\"translate(25,0)\" x2=\"0\" y2=\"5\" stroke=\"#888\" stroke-width=\"1\" opacity=\"1\"/><line transform=\"translate(75,0)\" x2=\"0\" y2=\"5\" stroke=\"#888\" stroke-width=\"1\" opacity=\"1\"/><line transform=\"translate(125,0)\" x2=\"0\" y2=\"5\" stroke=\"#888\" stroke-width=\"1\" opacity=\"1\"/><line transform=\"translate(175,0)\" x2=\"0\" y2=\"5\" stroke=\"#888\" stroke-width=\"1\" opacity=\"1\"/></g><g class=\"mark-text role-axis-label\" pointer-events=\"none\"><text text-anchor=\"middle\" transform=\"translate(25,15)\" font-family=\"sans-serif\" font-size=\"10px\" fill=\"#000\" opacity=\"1\">2,014</text><text text-anchor=\"middle\" transform=\"translate(75,15)\" font-family=\"sans-serif\" font-size=\"10px\" fill=\"#000\" opacity=\"1\">2,015</text><text text-anchor=\"middle\" transform=\"translate(125,15)\" font-family=\"sans-serif\" font-size=\"10px\" fill=\"#000\" opacity=\"1\">2,016</text><text text-anchor=\"middle\" transform=\"translate(175,15)\" font-family=\"sans-serif\" font-size=\"10px\" fill=\"#000\" opacity=\"1\">2,017</text></g><g class=\"mark-rule role-axis-domain\" pointer-events=\"none\"><line transform=\"translate(0,0)\" x2=\"200\" y2=\"0\" stroke=\"#888\" stroke-width=\"1\" opacity=\"1\"/></g><g class=\"mark-text role-axis-title\" pointer-events=\"none\"><text text-anchor=\"middle\" transform=\"translate(100,30)\" font-family=\"sans-serif\" font-size=\"11px\" font-weight=\"bold\" fill=\"#000\" opacity=\"1\">Year</text></g></g><path class=\"foreground\" aria-hidden=\"true\" d=\"\" pointer-events=\"none\" display=\"none\"/></g></g><g class=\"mark-group role-axis\" role=\"graphics-symbol\" aria-roledescription=\"axis\" aria-label=\"Y-axis titled 'Number of earthquakes' for a linear scale with values from 0 to 5\"><g transform=\"translate(0.5,0.5)\"><path class=\"background\" aria-hidden=\"true\" d=\"M0,0h0v0h0Z\" pointer-events=\"none\"/><g><g class=\"mark-rule role-axis-tick\" pointer-events=\"none\"><line transform=\"translate(0,200)\" x2=\"-5\" y2=\"0\" stroke=\"#888\" stroke-width=\"1\" opacity=\"1\"/><line transform=\"translate(0,160)\" x2=\"-5\" y2=\"0\" stroke=\"#888\" stroke-width=\"1\" opacity=\"1\"/><line transform=\"translate(0,120)\" x2=\"-5\" y2=\"0\" stroke=\"#888\" stroke-width=\"1\" opacity=\"1\"/><line transform=\"translate(0,80)\" x2=\"-5\" y2=\"0\" stroke=\"#888\" stroke-width=\"1\" opacity=\"1\"/><line transform=\"translate(0,40)\" x2=\"-5\" y2=\"0\" stroke=\"#888\" stroke-width=\"1\" opacity=\"1\"/><line transform=\"translate(0,0)\" x2=\"-5\" y2=\"0\" stroke=\"#888\" stroke-width=\"1\" opacity=\"1\"/></g><g class=\"mark-text role-axis-label\" pointer-events=\"none\"><text text-anchor=\"end\" transform=\"translate(-7,203)\" font-family=\"sans-serif\" font-size=\"10px\" fill=\"#000\" opacity=\"1\">0</text><text text-anchor=\"end\" transform=\"translate(-7,163)\" font-family=\"sans-serif\" font-size=\"10px\" fill=\"#000\" opacity=\"1\">1</text><text text-anchor=\"end\" transform=\"translate(-7,123)\" font-family=\"sans-serif\" font-size=\"10px\" fill=\"#000\" opacity=\"1\">2</text><text text-anchor=\"end\" transform=\"translate(-7,83)\" font-family=\"sans-serif\" font-size=\"10px\" fill=\"#000\" opacity=\"1\">3</text><text text-anchor=\"end\" transform=\"translate(-7,42.99999999999999)\" font-family=\"sans-serif\" font-size=\"10px\" fill=\"#000\" opacity=\"1\">4</text><text text-anchor=\"end\" transform=\"translate(-7,3)\" font-family=\"sans-serif\" font-size=\"10px\" fill=\"#000\" opacity=\"1\">5</text></g><g class=\"mark-rule role-axis-domain\" pointer-events=\"none\"><line transform=\"translate(0,200)\" x2=\"0\" y2=\"-200\" stroke=\"#888\" stroke-width=\"1\" opacity=\"1\"/></g><g class=\"mark-text role-axis-title\" pointer-events=\"none\"><text text-anchor=\"middle\" transform=\"translate(-16,100) rotate(-90) translate(0,-2)\" font-family=\"sans-serif\" font-size=\"11px\" font-weight=\"bold\" fill=\"#000\" opacity=\"1\">Number of earthquakes</text></g></g><path class=\"foreground\" aria-hidden=\"true\" d=\"\" pointer-events=\"none\" display=\"none\"/></g></g><g class=\"mark-rect role-mark marks\" role=\"graphics-object\" aria-roledescription=\"rect mark container\"><path aria-label=\"Year: 2014; Number of earthquakes: 4\" role=\"graphics-symbol\" aria-roledescription=\"bar\" d=\"M22.5,39.99999999999999h5v160h-5Z\" fill=\"#4c78a8\"/><path aria-label=\"Year: 2015; Number of earthquakes: 5\" role=\"graphics-symbol\" aria-roledescription=\"bar\" d=\"M72.5,0h5v200h-5Z\" fill=\"#f58518\"/><path aria-label=\"Year: 2016; Number of earthquakes: 3\" role=\"graphics-symbol\" aria-roledescription=\"bar\" d=\"M122.5,80h5v120h-5Z\" fill=\"#e45756\"/><path aria-label=\"Year: 2017; Number of earthquakes: 3\" role=\"graphics-symbol\" aria-roledescription=\"bar\" d=\"M172.5,80h5v120h-5Z\" fill=\"#72b7b2\"/></g><g class=\"mark-group role-legend\" role=\"graphics-symbol\" aria-roledescription=\"legend\" aria-label=\"Symbol legend titled 'Year' for fill color with 4 values: 2014, 2015, 2016, 2017\"><g transform=\"translate(218,0)\"><path class=\"background\" aria-hidden=\"true\" d=\"M0,0h36v66h-36Z\" pointer-events=\"none\"/><g><g class=\"mark-group role-legend-entry\"><g transform=\"translate(0,16)\"><path class=\"background\" aria-hidden=\"true\" d=\"M0,0h0v0h0Z\" pointer-events=\"none\"/><g><g class=\"mark-group role-scope\" role=\"graphics-object\" aria-roledescription=\"group mark container\"><g transform=\"translate(0,0)\"><path class=\"background\" aria-hidden=\"true\" d=\"M0,0h36v11h-36Z\" pointer-events=\"none\" opacity=\"1\"/><g><g class=\"mark-symbol role-legend-symbol\" pointer-events=\"none\"><path transform=\"translate(6,6)\" d=\"M-5,-5h10v10h-10Z\" fill=\"#4c78a8\" stroke-width=\"1.5\" opacity=\"1\"/></g><g class=\"mark-text role-legend-label\" pointer-events=\"none\"><text text-anchor=\"start\" transform=\"translate(16,9)\" font-family=\"sans-serif\" font-size=\"10px\" fill=\"#000\" opacity=\"1\">2014</text></g></g><path class=\"foreground\" aria-hidden=\"true\" d=\"\" pointer-events=\"none\" display=\"none\"/></g><g transform=\"translate(0,13)\"><path class=\"background\" aria-hidden=\"true\" d=\"M0,0h36v11h-36Z\" pointer-events=\"none\" opacity=\"1\"/><g><g class=\"mark-symbol role-legend-symbol\" pointer-events=\"none\"><path transform=\"translate(6,6)\" d=\"M-5,-5h10v10h-10Z\" fill=\"#f58518\" stroke-width=\"1.5\" opacity=\"1\"/></g><g class=\"mark-text role-legend-label\" pointer-events=\"none\"><text text-anchor=\"start\" transform=\"translate(16,9)\" font-family=\"sans-serif\" font-size=\"10px\" fill=\"#000\" opacity=\"1\">2015</text></g></g><path class=\"foreground\" aria-hidden=\"true\" d=\"\" pointer-events=\"none\" display=\"none\"/></g><g transform=\"translate(0,26)\"><path class=\"background\" aria-hidden=\"true\" d=\"M0,0h36v11h-36Z\" pointer-events=\"none\" opacity=\"1\"/><g><g class=\"mark-symbol role-legend-symbol\" pointer-events=\"none\"><path transform=\"translate(6,6)\" d=\"M-5,-5h10v10h-10Z\" fill=\"#e45756\" stroke-width=\"1.5\" opacity=\"1\"/></g><g class=\"mark-text role-legend-label\" pointer-events=\"none\"><text text-anchor=\"start\" transform=\"translate(16,9)\" font-family=\"sans-serif\" font-size=\"10px\" fill=\"#000\" opacity=\"1\">2016</text></g></g><path class=\"foreground\" aria-hidden=\"true\" d=\"\" pointer-events=\"none\" display=\"none\"/></g><g transform=\"translate(0,39)\"><path class=\"background\" aria-hidden=\"true\" d=\"M0,0h36v11h-36Z\" pointer-events=\"none\" opacity=\"1\"/><g><g class=\"mark-symbol role-legend-symbol\" pointer-events=\"none\"><path transform=\"translate(6,6)\" d=\"M-5,-5h10v10h-10Z\" fill=\"#72b7b2\" stroke-width=\"1.5\" opacity=\"1\"/></g><g class=\"mark-text role-legend-label\" pointer-events=\"none\"><text text-anchor=\"start\" transform=\"translate(16,9)\" font-family=\"sans-serif\" font-size=\"10px\" fill=\"#000\" opacity=\"1\">2017</text></g></g><path class=\"foreground\" aria-hidden=\"true\" d=\"\" pointer-events=\"none\" display=\"none\"/></g></g></g><path class=\"foreground\" aria-hidden=\"true\" d=\"\" pointer-events=\"none\" display=\"none\"/></g></g><g class=\"mark-text role-legend-title\" pointer-events=\"none\"><text text-anchor=\"start\" transform=\"translate(0,9)\" font-family=\"sans-serif\" font-size=\"11px\" font-weight=\"bold\" fill=\"#000\" opacity=\"1\">Year</text></g></g><path class=\"foreground\" aria-hidden=\"true\" d=\"\" pointer-events=\"none\" display=\"none\"/></g></g><g class=\"mark-group role-title\"><g transform=\"translate(100,-22)\"><path class=\"background\" aria-hidden=\"true\" d=\"M0,0h0v0h0Z\" pointer-events=\"none\"/><g><g class=\"mark-text role-title-text\" role=\"graphics-symbol\" aria-roledescription=\"title\" aria-label=\"Title text 'Earthquakes (magnitude 4+)'\" pointer-events=\"none\"><text text-anchor=\"middle\" transform=\"translate(0,10)\" font-family=\"sans-serif\" font-size=\"13px\" font-weight=\"bold\" fill=\"black\" opacity=\"1\">Earthquakes (magnitude 4+)</text></g></g><path class=\"foreground\" aria-hidden=\"true\" d=\"\" pointer-events=\"none\" display=\"none\"/></g></g></g><path class=\"foreground\" aria-hidden=\"true\" d=\"\" display=\"none\"/></g></g></g></svg>\n"
      ],
      "text/plain": [
       "@vlplot(\n",
       "    title=\"Earthquakes (magnitude 4+)\",\n",
       "    config={\n",
       "        title={\n",
       "            color=\"black\"\n",
       "        }\n",
       "    },\n",
       "    mark=\"bar\",\n",
       "    encoding={\n",
       "        x={\n",
       "            field=\"Year\"\n",
       "        },\n",
       "        y={\n",
       "            title=\"Number of earthquakes\",\n",
       "            field=\"Earthquake_Numbers\"\n",
       "        },\n",
       "        color={\n",
       "            field=\"Year\",\n",
       "            type=\"nominal\"\n",
       "        }\n",
       "    },\n",
       "    data={\n",
       "        values=...\n",
       "    }\n",
       ")"
      ]
     },
     "execution_count": 6,
     "metadata": {},
     "output_type": "execute_result"
    }
   ],
   "source": [
    "#Bar chart for the Gisborne regions on Number of earthquakes\n",
    "\n",
    "final_df |>\n",
    "  @filter(_.Region==\"Gisborne\") |>\n",
    "  @vlplot(\n",
    "    :bar,\n",
    "    x=:Year,\n",
    "    y={:Earthquake_Numbers,title=\"Number of earthquakes\"},\n",
    "    color=\"Year:n\",\n",
    "    title=\"Earthquakes (magnitude 4+)\",\n",
    "    config={\n",
    "        title={\n",
    "            color=:black\n",
    "        }\n",
    "    }\n",
    ")"
   ]
  },
  {
   "cell_type": "code",
   "execution_count": 7,
   "id": "1a3b4c46",
   "metadata": {},
   "outputs": [
    {
     "data": {
      "application/vnd.vegalite.v4+json": {
       "config": {
        "title": {
         "color": "black"
        }
       },
       "data": {
        "values": [
         {
          "Average_Precipitation_mm": 1096,
          "Average_Temperature_°C": 14.67,
          "Average_Windgusts_kn": 38.12,
          "Earthquake_Average_Magnitude_4+": 4.42209402475,
          "Earthquake_Numbers": 4,
          "Internal_Emigration": 15687,
          "Internal_Immigration": 15756,
          "Net_Internal_Immigration": 69,
          "Region": "Gisborne",
          "Year": 2014
         },
         {
          "Average_Precipitation_mm": 1143.1,
          "Average_Temperature_°C": 14.27,
          "Average_Windgusts_kn": 37.27,
          "Earthquake_Average_Magnitude_4+": 4.3922497806,
          "Earthquake_Numbers": 5,
          "Internal_Emigration": 16632,
          "Internal_Immigration": 16587,
          "Net_Internal_Immigration": -45,
          "Region": "Gisborne",
          "Year": 2015
         },
         {
          "Average_Precipitation_mm": 1309.1,
          "Average_Temperature_°C": 15.32,
          "Average_Windgusts_kn": 36.67,
          "Earthquake_Average_Magnitude_4+": 4.416514773,
          "Earthquake_Numbers": 3,
          "Internal_Emigration": 15399,
          "Internal_Immigration": 15174,
          "Net_Internal_Immigration": -225,
          "Region": "Gisborne",
          "Year": 2016
         },
         {
          "Average_Precipitation_mm": 1179.2,
          "Average_Temperature_°C": 15.01,
          "Average_Windgusts_kn": 35.65,
          "Earthquake_Average_Magnitude_4+": 4.640116232,
          "Earthquake_Numbers": 3,
          "Internal_Emigration": 14199,
          "Internal_Immigration": 14580,
          "Net_Internal_Immigration": 381,
          "Region": "Gisborne",
          "Year": 2017
         }
        ]
       },
       "encoding": {
        "color": {
         "field": "Year",
         "type": "nominal"
        },
        "x": {
         "field": "Year",
         "type": "quantitative"
        },
        "y": {
         "field": "Average_Precipitation_mm",
         "title": "Average_Precipitation(mm)",
         "type": "quantitative"
        }
       },
       "mark": "bar",
       "title": "Average Precipitation"
      },
      "image/png": "[encoded data removed]",
      "image/svg+xml": [
       "<?xml version=\"1.0\" encoding=\"utf-8\"?>\n",
       "<!DOCTYPE svg PUBLIC \"-//W3C//DTD SVG 1.1//EN\" \"http://www.w3.org/Graphics/SVG/1.1/DTD/svg11.dtd\">\n",
       "<svg xmlns=\"http://www.w3.org/2000/svg\" xmlns:xlink=\"http://www.w3.org/1999/xlink\" version=\"1.1\" class=\"marks\" width=\"309\" height=\"264\" viewBox=\"0 0 309 264\"><rect width=\"309\" height=\"264\" fill=\"white\"/><g fill=\"none\" stroke-miterlimit=\"10\" transform=\"translate(50,27)\"><g class=\"mark-group role-frame root\" role=\"graphics-object\" aria-roledescription=\"group mark container\"><g transform=\"translate(0,0)\"><path class=\"background\" aria-hidden=\"true\" d=\"M0.5,0.5h200v200h-200Z\" stroke=\"#ddd\"/><g><g class=\"mark-group role-axis\" aria-hidden=\"true\"><g transform=\"translate(0.5,200.5)\"><path class=\"background\" aria-hidden=\"true\" d=\"M0,0h0v0h0Z\" pointer-events=\"none\"/><g><g class=\"mark-rule role-axis-grid\" pointer-events=\"none\"><line transform=\"translate(25,-200)\" x2=\"0\" y2=\"200\" stroke=\"#ddd\" stroke-width=\"1\" opacity=\"1\"/><line transform=\"translate(75,-200)\" x2=\"0\" y2=\"200\" stroke=\"#ddd\" stroke-width=\"1\" opacity=\"1\"/><line transform=\"translate(125,-200)\" x2=\"0\" y2=\"200\" stroke=\"#ddd\" stroke-width=\"1\" opacity=\"1\"/><line transform=\"translate(175,-200)\" x2=\"0\" y2=\"200\" stroke=\"#ddd\" stroke-width=\"1\" opacity=\"1\"/></g></g><path class=\"foreground\" aria-hidden=\"true\" d=\"\" pointer-events=\"none\" display=\"none\"/></g></g><g class=\"mark-group role-axis\" aria-hidden=\"true\"><g transform=\"translate(0.5,0.5)\"><path class=\"background\" aria-hidden=\"true\" d=\"M0,0h0v0h0Z\" pointer-events=\"none\"/><g><g class=\"mark-rule role-axis-grid\" pointer-events=\"none\"><line transform=\"translate(0,200)\" x2=\"200\" y2=\"0\" stroke=\"#ddd\" stroke-width=\"1\" opacity=\"1\"/><line transform=\"translate(0,171)\" x2=\"200\" y2=\"0\" stroke=\"#ddd\" stroke-width=\"1\" opacity=\"1\"/><line transform=\"translate(0,143)\" x2=\"200\" y2=\"0\" stroke=\"#ddd\" stroke-width=\"1\" opacity=\"1\"/><line transform=\"translate(0,114)\" x2=\"200\" y2=\"0\" stroke=\"#ddd\" stroke-width=\"1\" opacity=\"1\"/><line transform=\"translate(0,86)\" x2=\"200\" y2=\"0\" stroke=\"#ddd\" stroke-width=\"1\" opacity=\"1\"/><line transform=\"translate(0,57)\" x2=\"200\" y2=\"0\" stroke=\"#ddd\" stroke-width=\"1\" opacity=\"1\"/><line transform=\"translate(0,29)\" x2=\"200\" y2=\"0\" stroke=\"#ddd\" stroke-width=\"1\" opacity=\"1\"/><line transform=\"translate(0,0)\" x2=\"200\" y2=\"0\" stroke=\"#ddd\" stroke-width=\"1\" opacity=\"1\"/></g></g><path class=\"foreground\" aria-hidden=\"true\" d=\"\" pointer-events=\"none\" display=\"none\"/></g></g><g class=\"mark-group role-axis\" role=\"graphics-symbol\" aria-roledescription=\"axis\" aria-label=\"X-axis titled 'Year' for a linear scale with values from 2,014 to 2,018\"><g transform=\"translate(0.5,200.5)\"><path class=\"background\" aria-hidden=\"true\" d=\"M0,0h0v0h0Z\" pointer-events=\"none\"/><g><g class=\"mark-rule role-axis-tick\" pointer-events=\"none\"><line transform=\"translate(25,0)\" x2=\"0\" y2=\"5\" stroke=\"#888\" stroke-width=\"1\" opacity=\"1\"/><line transform=\"translate(75,0)\" x2=\"0\" y2=\"5\" stroke=\"#888\" stroke-width=\"1\" opacity=\"1\"/><line transform=\"translate(125,0)\" x2=\"0\" y2=\"5\" stroke=\"#888\" stroke-width=\"1\" opacity=\"1\"/><line transform=\"translate(175,0)\" x2=\"0\" y2=\"5\" stroke=\"#888\" stroke-width=\"1\" opacity=\"1\"/></g><g class=\"mark-text role-axis-label\" pointer-events=\"none\"><text text-anchor=\"middle\" transform=\"translate(25,15)\" font-family=\"sans-serif\" font-size=\"10px\" fill=\"#000\" opacity=\"1\">2,014</text><text text-anchor=\"middle\" transform=\"translate(75,15)\" font-family=\"sans-serif\" font-size=\"10px\" fill=\"#000\" opacity=\"1\">2,015</text><text text-anchor=\"middle\" transform=\"translate(125,15)\" font-family=\"sans-serif\" font-size=\"10px\" fill=\"#000\" opacity=\"1\">2,016</text><text text-anchor=\"middle\" transform=\"translate(175,15)\" font-family=\"sans-serif\" font-size=\"10px\" fill=\"#000\" opacity=\"1\">2,017</text></g><g class=\"mark-rule role-axis-domain\" pointer-events=\"none\"><line transform=\"translate(0,0)\" x2=\"200\" y2=\"0\" stroke=\"#888\" stroke-width=\"1\" opacity=\"1\"/></g><g class=\"mark-text role-axis-title\" pointer-events=\"none\"><text text-anchor=\"middle\" transform=\"translate(100,30)\" font-family=\"sans-serif\" font-size=\"11px\" font-weight=\"bold\" fill=\"#000\" opacity=\"1\">Year</text></g></g><path class=\"foreground\" aria-hidden=\"true\" d=\"\" pointer-events=\"none\" display=\"none\"/></g></g><g class=\"mark-group role-axis\" role=\"graphics-symbol\" aria-roledescription=\"axis\" aria-label=\"Y-axis titled 'Average_Precipitation(mm)' for a linear scale with values from 0 to 1,400\"><g transform=\"translate(0.5,0.5)\"><path class=\"background\" aria-hidden=\"true\" d=\"M0,0h0v0h0Z\" pointer-events=\"none\"/><g><g class=\"mark-rule role-axis-tick\" pointer-events=\"none\"><line transform=\"translate(0,200)\" x2=\"-5\" y2=\"0\" stroke=\"#888\" stroke-width=\"1\" opacity=\"1\"/><line transform=\"translate(0,171)\" x2=\"-5\" y2=\"0\" stroke=\"#888\" stroke-width=\"1\" opacity=\"1\"/><line transform=\"translate(0,143)\" x2=\"-5\" y2=\"0\" stroke=\"#888\" stroke-width=\"1\" opacity=\"1\"/><line transform=\"translate(0,114)\" x2=\"-5\" y2=\"0\" stroke=\"#888\" stroke-width=\"1\" opacity=\"1\"/><line transform=\"translate(0,86)\" x2=\"-5\" y2=\"0\" stroke=\"#888\" stroke-width=\"1\" opacity=\"1\"/><line transform=\"translate(0,57)\" x2=\"-5\" y2=\"0\" stroke=\"#888\" stroke-width=\"1\" opacity=\"1\"/><line transform=\"translate(0,29)\" x2=\"-5\" y2=\"0\" stroke=\"#888\" stroke-width=\"1\" opacity=\"1\"/><line transform=\"translate(0,0)\" x2=\"-5\" y2=\"0\" stroke=\"#888\" stroke-width=\"1\" opacity=\"1\"/></g><g class=\"mark-text role-axis-label\" pointer-events=\"none\"><text text-anchor=\"end\" transform=\"translate(-7,203)\" font-family=\"sans-serif\" font-size=\"10px\" fill=\"#000\" opacity=\"1\">0</text><text text-anchor=\"end\" transform=\"translate(-7,174.42857142857144)\" font-family=\"sans-serif\" font-size=\"10px\" fill=\"#000\" opacity=\"1\">200</text><text text-anchor=\"end\" transform=\"translate(-7,145.85714285714286)\" font-family=\"sans-serif\" font-size=\"10px\" fill=\"#000\" opacity=\"1\">400</text><text text-anchor=\"end\" transform=\"translate(-7,117.28571428571428)\" font-family=\"sans-serif\" font-size=\"10px\" fill=\"#000\" opacity=\"1\">600</text><text text-anchor=\"end\" transform=\"translate(-7,88.71428571428572)\" font-family=\"sans-serif\" font-size=\"10px\" fill=\"#000\" opacity=\"1\">800</text><text text-anchor=\"end\" transform=\"translate(-7,60.14285714285714)\" font-family=\"sans-serif\" font-size=\"10px\" fill=\"#000\" opacity=\"1\">1,000</text><text text-anchor=\"end\" transform=\"translate(-7,31.57142857142858)\" font-family=\"sans-serif\" font-size=\"10px\" fill=\"#000\" opacity=\"1\">1,200</text><text text-anchor=\"end\" transform=\"translate(-7,3)\" font-family=\"sans-serif\" font-size=\"10px\" fill=\"#000\" opacity=\"1\">1,400</text></g><g class=\"mark-rule role-axis-domain\" pointer-events=\"none\"><line transform=\"translate(0,200)\" x2=\"0\" y2=\"-200\" stroke=\"#888\" stroke-width=\"1\" opacity=\"1\"/></g><g class=\"mark-text role-axis-title\" pointer-events=\"none\"><text text-anchor=\"middle\" transform=\"translate(-34,100) rotate(-90) translate(0,-2)\" font-family=\"sans-serif\" font-size=\"11px\" font-weight=\"bold\" fill=\"#000\" opacity=\"1\">Average_Precipitation(mm)</text></g></g><path class=\"foreground\" aria-hidden=\"true\" d=\"\" pointer-events=\"none\" display=\"none\"/></g></g><g class=\"mark-rect role-mark marks\" role=\"graphics-object\" aria-roledescription=\"rect mark container\"><path aria-label=\"Year: 2014; Average_Precipitation(mm): 1096\" role=\"graphics-symbol\" aria-roledescription=\"bar\" d=\"M22.5,43.42857142857144h5v156.57142857142856h-5Z\" fill=\"#4c78a8\"/><path aria-label=\"Year: 2015; Average_Precipitation(mm): 1143.1\" role=\"graphics-symbol\" aria-roledescription=\"bar\" d=\"M72.5,36.700000000000024h5v163.29999999999998h-5Z\" fill=\"#f58518\"/><path aria-label=\"Year: 2016; Average_Precipitation(mm): 1309.1\" role=\"graphics-symbol\" aria-roledescription=\"bar\" d=\"M122.5,12.98571428571429h5v187.0142857142857h-5Z\" fill=\"#e45756\"/><path aria-label=\"Year: 2017; Average_Precipitation(mm): 1179.2\" role=\"graphics-symbol\" aria-roledescription=\"bar\" d=\"M172.5,31.542857142857137h5v168.45714285714286h-5Z\" fill=\"#72b7b2\"/></g><g class=\"mark-group role-legend\" role=\"graphics-symbol\" aria-roledescription=\"legend\" aria-label=\"Symbol legend titled 'Year' for fill color with 4 values: 2014, 2015, 2016, 2017\"><g transform=\"translate(218,0)\"><path class=\"background\" aria-hidden=\"true\" d=\"M0,0h36v66h-36Z\" pointer-events=\"none\"/><g><g class=\"mark-group role-legend-entry\"><g transform=\"translate(0,16)\"><path class=\"background\" aria-hidden=\"true\" d=\"M0,0h0v0h0Z\" pointer-events=\"none\"/><g><g class=\"mark-group role-scope\" role=\"graphics-object\" aria-roledescription=\"group mark container\"><g transform=\"translate(0,0)\"><path class=\"background\" aria-hidden=\"true\" d=\"M0,0h36v11h-36Z\" pointer-events=\"none\" opacity=\"1\"/><g><g class=\"mark-symbol role-legend-symbol\" pointer-events=\"none\"><path transform=\"translate(6,6)\" d=\"M-5,-5h10v10h-10Z\" fill=\"#4c78a8\" stroke-width=\"1.5\" opacity=\"1\"/></g><g class=\"mark-text role-legend-label\" pointer-events=\"none\"><text text-anchor=\"start\" transform=\"translate(16,9)\" font-family=\"sans-serif\" font-size=\"10px\" fill=\"#000\" opacity=\"1\">2014</text></g></g><path class=\"foreground\" aria-hidden=\"true\" d=\"\" pointer-events=\"none\" display=\"none\"/></g><g transform=\"translate(0,13)\"><path class=\"background\" aria-hidden=\"true\" d=\"M0,0h36v11h-36Z\" pointer-events=\"none\" opacity=\"1\"/><g><g class=\"mark-symbol role-legend-symbol\" pointer-events=\"none\"><path transform=\"translate(6,6)\" d=\"M-5,-5h10v10h-10Z\" fill=\"#f58518\" stroke-width=\"1.5\" opacity=\"1\"/></g><g class=\"mark-text role-legend-label\" pointer-events=\"none\"><text text-anchor=\"start\" transform=\"translate(16,9)\" font-family=\"sans-serif\" font-size=\"10px\" fill=\"#000\" opacity=\"1\">2015</text></g></g><path class=\"foreground\" aria-hidden=\"true\" d=\"\" pointer-events=\"none\" display=\"none\"/></g><g transform=\"translate(0,26)\"><path class=\"background\" aria-hidden=\"true\" d=\"M0,0h36v11h-36Z\" pointer-events=\"none\" opacity=\"1\"/><g><g class=\"mark-symbol role-legend-symbol\" pointer-events=\"none\"><path transform=\"translate(6,6)\" d=\"M-5,-5h10v10h-10Z\" fill=\"#e45756\" stroke-width=\"1.5\" opacity=\"1\"/></g><g class=\"mark-text role-legend-label\" pointer-events=\"none\"><text text-anchor=\"start\" transform=\"translate(16,9)\" font-family=\"sans-serif\" font-size=\"10px\" fill=\"#000\" opacity=\"1\">2016</text></g></g><path class=\"foreground\" aria-hidden=\"true\" d=\"\" pointer-events=\"none\" display=\"none\"/></g><g transform=\"translate(0,39)\"><path class=\"background\" aria-hidden=\"true\" d=\"M0,0h36v11h-36Z\" pointer-events=\"none\" opacity=\"1\"/><g><g class=\"mark-symbol role-legend-symbol\" pointer-events=\"none\"><path transform=\"translate(6,6)\" d=\"M-5,-5h10v10h-10Z\" fill=\"#72b7b2\" stroke-width=\"1.5\" opacity=\"1\"/></g><g class=\"mark-text role-legend-label\" pointer-events=\"none\"><text text-anchor=\"start\" transform=\"translate(16,9)\" font-family=\"sans-serif\" font-size=\"10px\" fill=\"#000\" opacity=\"1\">2017</text></g></g><path class=\"foreground\" aria-hidden=\"true\" d=\"\" pointer-events=\"none\" display=\"none\"/></g></g></g><path class=\"foreground\" aria-hidden=\"true\" d=\"\" pointer-events=\"none\" display=\"none\"/></g></g><g class=\"mark-text role-legend-title\" pointer-events=\"none\"><text text-anchor=\"start\" transform=\"translate(0,9)\" font-family=\"sans-serif\" font-size=\"11px\" font-weight=\"bold\" fill=\"#000\" opacity=\"1\">Year</text></g></g><path class=\"foreground\" aria-hidden=\"true\" d=\"\" pointer-events=\"none\" display=\"none\"/></g></g><g class=\"mark-group role-title\"><g transform=\"translate(100,-22)\"><path class=\"background\" aria-hidden=\"true\" d=\"M0,0h0v0h0Z\" pointer-events=\"none\"/><g><g class=\"mark-text role-title-text\" role=\"graphics-symbol\" aria-roledescription=\"title\" aria-label=\"Title text 'Average Precipitation'\" pointer-events=\"none\"><text text-anchor=\"middle\" transform=\"translate(0,10)\" font-family=\"sans-serif\" font-size=\"13px\" font-weight=\"bold\" fill=\"black\" opacity=\"1\">Average Precipitation</text></g></g><path class=\"foreground\" aria-hidden=\"true\" d=\"\" pointer-events=\"none\" display=\"none\"/></g></g></g><path class=\"foreground\" aria-hidden=\"true\" d=\"\" display=\"none\"/></g></g></g></svg>\n"
      ],
      "text/plain": [
       "@vlplot(\n",
       "    title=\"Average Precipitation\",\n",
       "    config={\n",
       "        title={\n",
       "            color=\"black\"\n",
       "        }\n",
       "    },\n",
       "    mark=\"bar\",\n",
       "    encoding={\n",
       "        x={\n",
       "            field=\"Year\"\n",
       "        },\n",
       "        y={\n",
       "            title=\"Average_Precipitation(mm)\",\n",
       "            field=\"Average_Precipitation_mm\"\n",
       "        },\n",
       "        color={\n",
       "            field=\"Year\",\n",
       "            type=\"nominal\"\n",
       "        }\n",
       "    },\n",
       "    data={\n",
       "        values=...\n",
       "    }\n",
       ")"
      ]
     },
     "execution_count": 7,
     "metadata": {},
     "output_type": "execute_result"
    }
   ],
   "source": [
    "#Bar chart for the Gisborne regions on Average Precipitation\n",
    "\n",
    "final_df |>\n",
    "  @filter(_.Region==\"Gisborne\") |>\n",
    "  @vlplot(\n",
    "    :bar,\n",
    "    x=:Year,\n",
    "    y={:Average_Precipitation_mm,title=\"Average_Precipitation(mm)\"},\n",
    "    color=\"Year:n\",\n",
    "    title=\"Average Precipitation\",\n",
    "    config={\n",
    "        title={\n",
    "            color=:black\n",
    "        }\n",
    "    }\n",
    ")"
   ]
  },
  {
   "cell_type": "code",
   "execution_count": null,
   "id": "00dd6cfe",
   "metadata": {},
   "outputs": [],
   "source": []
  }
 ],
 "metadata": {
  "kernelspec": {
   "display_name": "Julia 1.7.3",
   "language": "julia",
   "name": "julia-1.7"
  },
  "language_info": {
   "file_extension": ".jl",
   "mimetype": "application/julia",
   "name": "julia",
   "version": "1.7.3"
  }
 },
 "nbformat": 4,
 "nbformat_minor": 5
}
