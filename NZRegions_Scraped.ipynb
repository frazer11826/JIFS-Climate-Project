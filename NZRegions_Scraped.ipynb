{
 "cells": [
  {
   "cell_type": "markdown",
   "id": "80a15ef9-1241-4068-a339-90239df39b8f",
   "metadata": {},
   "source": [
    "# DATA422 Group Project\n",
    "## NZ Regions DataFrame (Scraping Notebook)\n",
    "### Samuel Love - 84107034"
   ]
  },
  {
   "cell_type": "markdown",
   "id": "ff27dd75-7c12-4438-8fd3-eeb3d8a9e00e",
   "metadata": {},
   "source": [
    "The goal of this notebook is to create a dataframe for use with data wrangling in the group assignment.\n",
    "\n",
    "This is achieved by scraping wikipedia to create a dataframe of regions, districts, and cities of New Zealand that can be referenced and manipulated when converting datasets."
   ]
  },
  {
   "cell_type": "code",
   "execution_count": 1,
   "id": "54dadd11-5dec-42d3-b426-b7e269b03080",
   "metadata": {},
   "outputs": [
    {
     "name": "stderr",
     "output_type": "stream",
     "text": [
      "── \u001b[1mAttaching packages\u001b[22m ─────────────────────────────────────── tidyverse 1.3.2 ──\n",
      "\u001b[32m✔\u001b[39m \u001b[34mggplot2\u001b[39m 3.3.6      \u001b[32m✔\u001b[39m \u001b[34mpurrr  \u001b[39m 0.3.4 \n",
      "\u001b[32m✔\u001b[39m \u001b[34mtibble \u001b[39m 3.1.8      \u001b[32m✔\u001b[39m \u001b[34mdplyr  \u001b[39m 1.0.10\n",
      "\u001b[32m✔\u001b[39m \u001b[34mtidyr  \u001b[39m 1.2.1      \u001b[32m✔\u001b[39m \u001b[34mstringr\u001b[39m 1.4.1 \n",
      "\u001b[32m✔\u001b[39m \u001b[34mreadr  \u001b[39m 2.1.2      \u001b[32m✔\u001b[39m \u001b[34mforcats\u001b[39m 0.5.2 \n",
      "── \u001b[1mConflicts\u001b[22m ────────────────────────────────────────── tidyverse_conflicts() ──\n",
      "\u001b[31m✖\u001b[39m \u001b[34mdplyr\u001b[39m::\u001b[32mfilter()\u001b[39m masks \u001b[34mstats\u001b[39m::filter()\n",
      "\u001b[31m✖\u001b[39m \u001b[34mdplyr\u001b[39m::\u001b[32mlag()\u001b[39m    masks \u001b[34mstats\u001b[39m::lag()\n",
      "\n",
      "Attaching package: ‘magrittr’\n",
      "\n",
      "\n",
      "The following object is masked from ‘package:purrr’:\n",
      "\n",
      "    set_names\n",
      "\n",
      "\n",
      "The following object is masked from ‘package:tidyr’:\n",
      "\n",
      "    extract\n",
      "\n",
      "\n",
      "\n",
      "Attaching package: ‘rvest’\n",
      "\n",
      "\n",
      "The following object is masked from ‘package:readr’:\n",
      "\n",
      "    guess_encoding\n",
      "\n",
      "\n"
     ]
    }
   ],
   "source": [
    "library(tidyverse)\n",
    "library(magrittr) # better handling of pipes\n",
    "library(purrr) # to work with lists and map functions\n",
    "library(glue) # to paste strings\n",
    "library(stringr) # to hand strings\n",
    "library(rvest) # rvest makes scraping easier\n",
    "library(xml2) # makes it easier to work with HTML and XML from R\n",
    "library(visdat) # visualises missingness\n",
    "library(httr) # useful for API's"
   ]
  },
  {
   "cell_type": "code",
   "execution_count": 2,
   "id": "474d369d-94fd-40a0-a254-11b4c48ea87b",
   "metadata": {},
   "outputs": [
    {
     "data": {
      "text/plain": [
       "{html_document}\n",
       "<html class=\"client-nojs\" lang=\"en\" dir=\"ltr\">\n",
       "[1] <head>\\n<meta http-equiv=\"Content-Type\" content=\"text/html; charset=UTF-8 ...\n",
       "[2] <body class=\"mediawiki ltr sitedir-ltr mw-hide-empty-elt ns-0 ns-subject  ..."
      ]
     },
     "metadata": {},
     "output_type": "display_data"
    }
   ],
   "source": [
    "# Regions of New Zealand\n",
    "region_page <- \"https://en.wikipedia.org/wiki/Regions_of_New_Zealand\"\n",
    "region_info <- read_html(region_page)\n",
    "region_info"
   ]
  },
  {
   "cell_type": "code",
   "execution_count": 3,
   "id": "246283bb-b8a5-4d4a-bf67-2a43ec601f64",
   "metadata": {},
   "outputs": [
    {
     "name": "stdout",
     "output_type": "stream",
     "text": [
      "List of 2\n",
      " $ node:<externalptr> \n",
      " $ doc :<externalptr> \n",
      " - attr(*, \"class\")= chr [1:2] \"xml_document\" \"xml_node\"\n"
     ]
    }
   ],
   "source": [
    "region_info %>% glimpse()"
   ]
  },
  {
   "cell_type": "code",
   "execution_count": 4,
   "id": "5294b0c8-7ce9-4e02-a4be-2822a0f73f75",
   "metadata": {},
   "outputs": [
    {
     "data": {
      "text/plain": [
       "{html_document}\n",
       "<html class=\"client-nojs\" lang=\"en\" dir=\"ltr\">\n",
       "[1] <head>\\n<meta http-equiv=\"Content-Type\" content=\"text/html; charset=UTF-8 ...\n",
       "[2] <body class=\"mediawiki ltr sitedir-ltr mw-hide-empty-elt ns-0 ns-subject  ..."
      ]
     },
     "metadata": {},
     "output_type": "display_data"
    }
   ],
   "source": [
    "# Districts of New Zealand\n",
    "district_page <- \"https://en.wikipedia.org/wiki/Districts_of_New_Zealand\"\n",
    "district_info <- read_html(district_page)\n",
    "district_info"
   ]
  },
  {
   "cell_type": "code",
   "execution_count": 5,
   "id": "ad82c5a8-27fb-444c-8271-9b4169c62a3c",
   "metadata": {},
   "outputs": [
    {
     "name": "stdout",
     "output_type": "stream",
     "text": [
      "List of 2\n",
      " $ node:<externalptr> \n",
      " $ doc :<externalptr> \n",
      " - attr(*, \"class\")= chr [1:2] \"xml_document\" \"xml_node\"\n"
     ]
    }
   ],
   "source": [
    "district_info %>% glimpse()"
   ]
  },
  {
   "cell_type": "code",
   "execution_count": 6,
   "id": "7dc60712-4375-4249-8b3c-f3f420794c63",
   "metadata": {},
   "outputs": [],
   "source": [
    "# Scraping region names\n",
    "Regions <- \n",
    "    region_info %>%\n",
    "    html_elements(\"b\") %>%\n",
    "    html_elements(\"a\") %>%\n",
    "    html_attrs() %>%\n",
    "    map(\"title\")\n",
    "\n",
    "# Filtering out NULLs\n",
    "Regions <- Regions[lapply(Regions, length) > 0]\n",
    "\n",
    "# Adjusting names\n",
    "Regions[c(1,2,5,9,10,11,12,13,14,16)] <-\n",
    "    c(\"Northland\",\"Auckland\",\"Gisborne\",\"Wellington\",\"Tasman\",\"Nelson\",\"Marlborough\",\"West Coast\",\"Canterbury\",\"Southland\")"
   ]
  },
  {
   "cell_type": "code",
   "execution_count": 7,
   "id": "97a5ae31-12de-4ced-b18c-a36b14b7b305",
   "metadata": {},
   "outputs": [
    {
     "data": {
      "text/html": [
       "<table class=\"dataframe\">\n",
       "<caption>A tibble: 16 × 1</caption>\n",
       "<thead>\n",
       "\t<tr><th scope=col>Region</th></tr>\n",
       "\t<tr><th scope=col>&lt;list&gt;</th></tr>\n",
       "</thead>\n",
       "<tbody>\n",
       "\t<tr><td>Northland</td></tr>\n",
       "\t<tr><td>Auckland</td></tr>\n",
       "\t<tr><td>Waikato</td></tr>\n",
       "\t<tr><td>Bay of Plenty</td></tr>\n",
       "\t<tr><td>Gisborne</td></tr>\n",
       "\t<tr><td>Hawke's Bay</td></tr>\n",
       "\t<tr><td>Taranaki</td></tr>\n",
       "\t<tr><td>Manawatū-Whanganui</td></tr>\n",
       "\t<tr><td>Wellington</td></tr>\n",
       "\t<tr><td>Tasman</td></tr>\n",
       "\t<tr><td>Nelson</td></tr>\n",
       "\t<tr><td>Marlborough</td></tr>\n",
       "\t<tr><td>West Coast</td></tr>\n",
       "\t<tr><td>Canterbury</td></tr>\n",
       "\t<tr><td>Otago</td></tr>\n",
       "\t<tr><td>Southland</td></tr>\n",
       "</tbody>\n",
       "</table>\n"
      ],
      "text/latex": [
       "A tibble: 16 × 1\n",
       "\\begin{tabular}{l}\n",
       " Region\\\\\n",
       " <list>\\\\\n",
       "\\hline\n",
       "\t Northland\\\\\n",
       "\t Auckland\\\\\n",
       "\t Waikato\\\\\n",
       "\t Bay of Plenty\\\\\n",
       "\t Gisborne\\\\\n",
       "\t Hawke's Bay\\\\\n",
       "\t Taranaki\\\\\n",
       "\t Manawatū-Whanganui\\\\\n",
       "\t Wellington\\\\\n",
       "\t Tasman\\\\\n",
       "\t Nelson\\\\\n",
       "\t Marlborough\\\\\n",
       "\t West Coast\\\\\n",
       "\t Canterbury\\\\\n",
       "\t Otago\\\\\n",
       "\t Southland\\\\\n",
       "\\end{tabular}\n"
      ],
      "text/markdown": [
       "\n",
       "A tibble: 16 × 1\n",
       "\n",
       "| Region &lt;list&gt; |\n",
       "|---|\n",
       "| Northland |\n",
       "| Auckland |\n",
       "| Waikato |\n",
       "| Bay of Plenty |\n",
       "| Gisborne |\n",
       "| Hawke's Bay |\n",
       "| Taranaki |\n",
       "| Manawatū-Whanganui |\n",
       "| Wellington |\n",
       "| Tasman |\n",
       "| Nelson |\n",
       "| Marlborough |\n",
       "| West Coast |\n",
       "| Canterbury |\n",
       "| Otago |\n",
       "| Southland |\n",
       "\n"
      ],
      "text/plain": [
       "   Region            \n",
       "1  Northland         \n",
       "2  Auckland          \n",
       "3  Waikato           \n",
       "4  Bay of Plenty     \n",
       "5  Gisborne          \n",
       "6  Hawke's Bay       \n",
       "7  Taranaki          \n",
       "8  Manawatū-Whanganui\n",
       "9  Wellington        \n",
       "10 Tasman            \n",
       "11 Nelson            \n",
       "12 Marlborough       \n",
       "13 West Coast        \n",
       "14 Canterbury        \n",
       "15 Otago             \n",
       "16 Southland         "
      ]
     },
     "metadata": {},
     "output_type": "display_data"
    }
   ],
   "source": [
    "# Initialising the DataFrame\n",
    "Districts_df <- tibble(Region = Regions)\n",
    "Districts_df"
   ]
  },
  {
   "cell_type": "code",
   "execution_count": 8,
   "id": "996e9af9-8563-4616-a15e-522fb4205939",
   "metadata": {},
   "outputs": [
    {
     "data": {
      "text/html": [
       "<ol>\n",
       "\t<li><style>\n",
       ".dl-inline {width: auto; margin:0; padding: 0}\n",
       ".dl-inline>dt, .dl-inline>dd {float: none; width: auto; display: inline-block}\n",
       ".dl-inline>dt::after {content: \":\\0020\"; padding-right: .5ex}\n",
       ".dl-inline>dt:not(:first-of-type) {padding-left: .5ex}\n",
       "</style><dl class=dl-inline><dt>class</dt><dd>'mw-headline'</dd><dt>id</dt><dd>'Northland_Region_(3)'</dd></dl>\n",
       "</li>\n",
       "\t<li><style>\n",
       ".dl-inline {width: auto; margin:0; padding: 0}\n",
       ".dl-inline>dt, .dl-inline>dd {float: none; width: auto; display: inline-block}\n",
       ".dl-inline>dt::after {content: \":\\0020\"; padding-right: .5ex}\n",
       ".dl-inline>dt:not(:first-of-type) {padding-left: .5ex}\n",
       "</style><dl class=dl-inline><dt>class</dt><dd>'mw-headline'</dd><dt>id</dt><dd>'Waikato_Region_(7)'</dd></dl>\n",
       "</li>\n",
       "\t<li><style>\n",
       ".dl-inline {width: auto; margin:0; padding: 0}\n",
       ".dl-inline>dt, .dl-inline>dd {float: none; width: auto; display: inline-block}\n",
       ".dl-inline>dt::after {content: \":\\0020\"; padding-right: .5ex}\n",
       ".dl-inline>dt:not(:first-of-type) {padding-left: .5ex}\n",
       "</style><dl class=dl-inline><dt>class</dt><dd>'mw-headline'</dd><dt>id</dt><dd>'Bay_of_Plenty_Region_(4)'</dd></dl>\n",
       "</li>\n",
       "\t<li><style>\n",
       ".dl-inline {width: auto; margin:0; padding: 0}\n",
       ".dl-inline>dt, .dl-inline>dd {float: none; width: auto; display: inline-block}\n",
       ".dl-inline>dt::after {content: \":\\0020\"; padding-right: .5ex}\n",
       ".dl-inline>dt:not(:first-of-type) {padding-left: .5ex}\n",
       "</style><dl class=dl-inline><dt>class</dt><dd>'mw-headline'</dd><dt>id</dt><dd>'Hawke\\'s_Bay_Region_(3)'</dd></dl>\n",
       "</li>\n",
       "\t<li><style>\n",
       ".dl-inline {width: auto; margin:0; padding: 0}\n",
       ".dl-inline>dt, .dl-inline>dd {float: none; width: auto; display: inline-block}\n",
       ".dl-inline>dt::after {content: \":\\0020\"; padding-right: .5ex}\n",
       ".dl-inline>dt:not(:first-of-type) {padding-left: .5ex}\n",
       "</style><dl class=dl-inline><dt>class</dt><dd>'mw-headline'</dd><dt>id</dt><dd>'Taranaki_Region_(2)'</dd></dl>\n",
       "</li>\n",
       "\t<li><style>\n",
       ".dl-inline {width: auto; margin:0; padding: 0}\n",
       ".dl-inline>dt, .dl-inline>dd {float: none; width: auto; display: inline-block}\n",
       ".dl-inline>dt::after {content: \":\\0020\"; padding-right: .5ex}\n",
       ".dl-inline>dt:not(:first-of-type) {padding-left: .5ex}\n",
       "</style><dl class=dl-inline><dt>class</dt><dd>'mw-headline'</dd><dt>id</dt><dd>'Manawatū-Whanganui_Region_(4)'</dd></dl>\n",
       "</li>\n",
       "\t<li><style>\n",
       ".dl-inline {width: auto; margin:0; padding: 0}\n",
       ".dl-inline>dt, .dl-inline>dd {float: none; width: auto; display: inline-block}\n",
       ".dl-inline>dt::after {content: \":\\0020\"; padding-right: .5ex}\n",
       ".dl-inline>dt:not(:first-of-type) {padding-left: .5ex}\n",
       "</style><dl class=dl-inline><dt>class</dt><dd>'mw-headline'</dd><dt>id</dt><dd>'Wellington_Region_(4)'</dd></dl>\n",
       "</li>\n",
       "\t<li><style>\n",
       ".dl-inline {width: auto; margin:0; padding: 0}\n",
       ".dl-inline>dt, .dl-inline>dd {float: none; width: auto; display: inline-block}\n",
       ".dl-inline>dt::after {content: \":\\0020\"; padding-right: .5ex}\n",
       ".dl-inline>dt:not(:first-of-type) {padding-left: .5ex}\n",
       "</style><dl class=dl-inline><dt>class</dt><dd>'mw-headline'</dd><dt>id</dt><dd>'West_Coast_Region_(3)'</dd></dl>\n",
       "</li>\n",
       "\t<li><style>\n",
       ".dl-inline {width: auto; margin:0; padding: 0}\n",
       ".dl-inline>dt, .dl-inline>dd {float: none; width: auto; display: inline-block}\n",
       ".dl-inline>dt::after {content: \":\\0020\"; padding-right: .5ex}\n",
       ".dl-inline>dt:not(:first-of-type) {padding-left: .5ex}\n",
       "</style><dl class=dl-inline><dt>class</dt><dd>'mw-headline'</dd><dt>id</dt><dd>'Canterbury_Region_(8)'</dd></dl>\n",
       "</li>\n",
       "\t<li><style>\n",
       ".dl-inline {width: auto; margin:0; padding: 0}\n",
       ".dl-inline>dt, .dl-inline>dd {float: none; width: auto; display: inline-block}\n",
       ".dl-inline>dt::after {content: \":\\0020\"; padding-right: .5ex}\n",
       ".dl-inline>dt:not(:first-of-type) {padding-left: .5ex}\n",
       "</style><dl class=dl-inline><dt>class</dt><dd>'mw-headline'</dd><dt>id</dt><dd>'Otago_Region_(3)'</dd></dl>\n",
       "</li>\n",
       "\t<li><style>\n",
       ".dl-inline {width: auto; margin:0; padding: 0}\n",
       ".dl-inline>dt, .dl-inline>dd {float: none; width: auto; display: inline-block}\n",
       ".dl-inline>dt::after {content: \":\\0020\"; padding-right: .5ex}\n",
       ".dl-inline>dt:not(:first-of-type) {padding-left: .5ex}\n",
       "</style><dl class=dl-inline><dt>class</dt><dd>'mw-headline'</dd><dt>id</dt><dd>'Southland_Region_(2)'</dd></dl>\n",
       "</li>\n",
       "\t<li><style>\n",
       ".dl-inline {width: auto; margin:0; padding: 0}\n",
       ".dl-inline>dt, .dl-inline>dd {float: none; width: auto; display: inline-block}\n",
       ".dl-inline>dt::after {content: \":\\0020\"; padding-right: .5ex}\n",
       ".dl-inline>dt:not(:first-of-type) {padding-left: .5ex}\n",
       "</style><dl class=dl-inline><dt>class</dt><dd>'mw-headline'</dd><dt>id</dt><dd>'Transregional_district_(1)'</dd></dl>\n",
       "</li>\n",
       "\t<li><style>\n",
       ".dl-inline {width: auto; margin:0; padding: 0}\n",
       ".dl-inline>dt, .dl-inline>dd {float: none; width: auto; display: inline-block}\n",
       ".dl-inline>dt::after {content: \":\\0020\"; padding-right: .5ex}\n",
       ".dl-inline>dt:not(:first-of-type) {padding-left: .5ex}\n",
       "</style><dl class=dl-inline><dt>class</dt><dd>'mw-headline'</dd><dt>id</dt><dd>'Unitary_authorities_(2)'</dd></dl>\n",
       "</li>\n",
       "</ol>\n"
      ],
      "text/latex": [
       "\\begin{enumerate}\n",
       "\\item \\begin{description*}\n",
       "\\item[class] 'mw-headline'\n",
       "\\item[id] 'Northland\\_Region\\_(3)'\n",
       "\\end{description*}\n",
       "\n",
       "\\item \\begin{description*}\n",
       "\\item[class] 'mw-headline'\n",
       "\\item[id] 'Waikato\\_Region\\_(7)'\n",
       "\\end{description*}\n",
       "\n",
       "\\item \\begin{description*}\n",
       "\\item[class] 'mw-headline'\n",
       "\\item[id] 'Bay\\_of\\_Plenty\\_Region\\_(4)'\n",
       "\\end{description*}\n",
       "\n",
       "\\item \\begin{description*}\n",
       "\\item[class] 'mw-headline'\n",
       "\\item[id] 'Hawke\\textbackslash{}'s\\_Bay\\_Region\\_(3)'\n",
       "\\end{description*}\n",
       "\n",
       "\\item \\begin{description*}\n",
       "\\item[class] 'mw-headline'\n",
       "\\item[id] 'Taranaki\\_Region\\_(2)'\n",
       "\\end{description*}\n",
       "\n",
       "\\item \\begin{description*}\n",
       "\\item[class] 'mw-headline'\n",
       "\\item[id] 'Manawatū-Whanganui\\_Region\\_(4)'\n",
       "\\end{description*}\n",
       "\n",
       "\\item \\begin{description*}\n",
       "\\item[class] 'mw-headline'\n",
       "\\item[id] 'Wellington\\_Region\\_(4)'\n",
       "\\end{description*}\n",
       "\n",
       "\\item \\begin{description*}\n",
       "\\item[class] 'mw-headline'\n",
       "\\item[id] 'West\\_Coast\\_Region\\_(3)'\n",
       "\\end{description*}\n",
       "\n",
       "\\item \\begin{description*}\n",
       "\\item[class] 'mw-headline'\n",
       "\\item[id] 'Canterbury\\_Region\\_(8)'\n",
       "\\end{description*}\n",
       "\n",
       "\\item \\begin{description*}\n",
       "\\item[class] 'mw-headline'\n",
       "\\item[id] 'Otago\\_Region\\_(3)'\n",
       "\\end{description*}\n",
       "\n",
       "\\item \\begin{description*}\n",
       "\\item[class] 'mw-headline'\n",
       "\\item[id] 'Southland\\_Region\\_(2)'\n",
       "\\end{description*}\n",
       "\n",
       "\\item \\begin{description*}\n",
       "\\item[class] 'mw-headline'\n",
       "\\item[id] 'Transregional\\_district\\_(1)'\n",
       "\\end{description*}\n",
       "\n",
       "\\item \\begin{description*}\n",
       "\\item[class] 'mw-headline'\n",
       "\\item[id] 'Unitary\\_authorities\\_(2)'\n",
       "\\end{description*}\n",
       "\n",
       "\\end{enumerate}\n"
      ],
      "text/markdown": [
       "1. class\n",
       ":   'mw-headline'id\n",
       ":   'Northland_Region_(3)'\n",
       "\n",
       "\n",
       "2. class\n",
       ":   'mw-headline'id\n",
       ":   'Waikato_Region_(7)'\n",
       "\n",
       "\n",
       "3. class\n",
       ":   'mw-headline'id\n",
       ":   'Bay_of_Plenty_Region_(4)'\n",
       "\n",
       "\n",
       "4. class\n",
       ":   'mw-headline'id\n",
       ":   'Hawke\\'s_Bay_Region_(3)'\n",
       "\n",
       "\n",
       "5. class\n",
       ":   'mw-headline'id\n",
       ":   'Taranaki_Region_(2)'\n",
       "\n",
       "\n",
       "6. class\n",
       ":   'mw-headline'id\n",
       ":   'Manawatū-Whanganui_Region_(4)'\n",
       "\n",
       "\n",
       "7. class\n",
       ":   'mw-headline'id\n",
       ":   'Wellington_Region_(4)'\n",
       "\n",
       "\n",
       "8. class\n",
       ":   'mw-headline'id\n",
       ":   'West_Coast_Region_(3)'\n",
       "\n",
       "\n",
       "9. class\n",
       ":   'mw-headline'id\n",
       ":   'Canterbury_Region_(8)'\n",
       "\n",
       "\n",
       "10. class\n",
       ":   'mw-headline'id\n",
       ":   'Otago_Region_(3)'\n",
       "\n",
       "\n",
       "11. class\n",
       ":   'mw-headline'id\n",
       ":   'Southland_Region_(2)'\n",
       "\n",
       "\n",
       "12. class\n",
       ":   'mw-headline'id\n",
       ":   'Transregional_district_(1)'\n",
       "\n",
       "\n",
       "13. class\n",
       ":   'mw-headline'id\n",
       ":   'Unitary_authorities_(2)'\n",
       "\n",
       "\n",
       "\n",
       "\n"
      ],
      "text/plain": [
       "[[1]]\n",
       "                 class                     id \n",
       "         \"mw-headline\" \"Northland_Region_(3)\" \n",
       "\n",
       "[[2]]\n",
       "               class                   id \n",
       "       \"mw-headline\" \"Waikato_Region_(7)\" \n",
       "\n",
       "[[3]]\n",
       "                     class                         id \n",
       "             \"mw-headline\" \"Bay_of_Plenty_Region_(4)\" \n",
       "\n",
       "[[4]]\n",
       "                   class                       id \n",
       "           \"mw-headline\" \"Hawke's_Bay_Region_(3)\" \n",
       "\n",
       "[[5]]\n",
       "                class                    id \n",
       "        \"mw-headline\" \"Taranaki_Region_(2)\" \n",
       "\n",
       "[[6]]\n",
       "                          class                              id \n",
       "                  \"mw-headline\" \"Manawatū-Whanganui_Region_(4)\" \n",
       "\n",
       "[[7]]\n",
       "                  class                      id \n",
       "          \"mw-headline\" \"Wellington_Region_(4)\" \n",
       "\n",
       "[[8]]\n",
       "                  class                      id \n",
       "          \"mw-headline\" \"West_Coast_Region_(3)\" \n",
       "\n",
       "[[9]]\n",
       "                  class                      id \n",
       "          \"mw-headline\" \"Canterbury_Region_(8)\" \n",
       "\n",
       "[[10]]\n",
       "             class                 id \n",
       "     \"mw-headline\" \"Otago_Region_(3)\" \n",
       "\n",
       "[[11]]\n",
       "                 class                     id \n",
       "         \"mw-headline\" \"Southland_Region_(2)\" \n",
       "\n",
       "[[12]]\n",
       "                       class                           id \n",
       "               \"mw-headline\" \"Transregional_district_(1)\" \n",
       "\n",
       "[[13]]\n",
       "                    class                        id \n",
       "            \"mw-headline\" \"Unitary_authorities_(2)\" \n"
      ]
     },
     "metadata": {},
     "output_type": "display_data"
    }
   ],
   "source": [
    "# Obtaining the number of districts in each region\n",
    "District_counts <- \n",
    "    district_info %>%\n",
    "    html_nodes(\".mw-headline\") %>%\n",
    "    html_attrs()\n",
    "\n",
    "# Triming elements that are not regions\n",
    "District_counts <- District_counts[3:18]\n",
    "District_counts[[10]] <- NULL\n",
    "District_counts[[8]] <- NULL\n",
    "District_counts[[8]] <- NULL\n",
    "\n",
    "District_counts"
   ]
  },
  {
   "cell_type": "code",
   "execution_count": 9,
   "id": "faa068bb-0218-45a2-bcc9-7594ea5fa90c",
   "metadata": {},
   "outputs": [],
   "source": [
    "District_counts %<>% map(\"id\")\n",
    "\n",
    "# Consolidating unusal districts.\n",
    "District_counts[[12]] <- \"Transregional_districts_(7)\"\n",
    "District_counts[[13]] <- \"Unitary_authorities_(3)\"\n",
    "\n",
    "# Preparing the list for the DataFrame\n",
    "District_counts <- c(District_counts[1],\n",
    "                     NA,\n",
    "                     District_counts[2:3],\n",
    "                     NA,\n",
    "                     District_counts[4:7],\n",
    "                     NA,\n",
    "                     NA,\n",
    "                     NA,\n",
    "                     District_counts[8:13])"
   ]
  },
  {
   "cell_type": "code",
   "execution_count": 10,
   "id": "567999d3-c262-4400-8568-bd9d677cc651",
   "metadata": {},
   "outputs": [
    {
     "data": {
      "text/html": [
       "<table class=\"dataframe\">\n",
       "<caption>A tibble: 18 × 1</caption>\n",
       "<thead>\n",
       "\t<tr><th scope=col>Region</th></tr>\n",
       "\t<tr><th scope=col>&lt;list&gt;</th></tr>\n",
       "</thead>\n",
       "<tbody>\n",
       "\t<tr><td>Northland</td></tr>\n",
       "\t<tr><td>Auckland</td></tr>\n",
       "\t<tr><td>Waikato</td></tr>\n",
       "\t<tr><td>Bay of Plenty</td></tr>\n",
       "\t<tr><td>Gisborne</td></tr>\n",
       "\t<tr><td>Hawke's Bay</td></tr>\n",
       "\t<tr><td>Taranaki</td></tr>\n",
       "\t<tr><td>Manawatū-Whanganui</td></tr>\n",
       "\t<tr><td>Wellington</td></tr>\n",
       "\t<tr><td>Tasman</td></tr>\n",
       "\t<tr><td>Nelson</td></tr>\n",
       "\t<tr><td>Marlborough</td></tr>\n",
       "\t<tr><td>West Coast</td></tr>\n",
       "\t<tr><td>Canterbury</td></tr>\n",
       "\t<tr><td>Otago</td></tr>\n",
       "\t<tr><td>Southland</td></tr>\n",
       "\t<tr><td>NA</td></tr>\n",
       "\t<tr><td>NA</td></tr>\n",
       "</tbody>\n",
       "</table>\n"
      ],
      "text/latex": [
       "A tibble: 18 × 1\n",
       "\\begin{tabular}{l}\n",
       " Region\\\\\n",
       " <list>\\\\\n",
       "\\hline\n",
       "\t Northland\\\\\n",
       "\t Auckland\\\\\n",
       "\t Waikato\\\\\n",
       "\t Bay of Plenty\\\\\n",
       "\t Gisborne\\\\\n",
       "\t Hawke's Bay\\\\\n",
       "\t Taranaki\\\\\n",
       "\t Manawatū-Whanganui\\\\\n",
       "\t Wellington\\\\\n",
       "\t Tasman\\\\\n",
       "\t Nelson\\\\\n",
       "\t Marlborough\\\\\n",
       "\t West Coast\\\\\n",
       "\t Canterbury\\\\\n",
       "\t Otago\\\\\n",
       "\t Southland\\\\\n",
       "\t NA\\\\\n",
       "\t NA\\\\\n",
       "\\end{tabular}\n"
      ],
      "text/markdown": [
       "\n",
       "A tibble: 18 × 1\n",
       "\n",
       "| Region &lt;list&gt; |\n",
       "|---|\n",
       "| Northland |\n",
       "| Auckland |\n",
       "| Waikato |\n",
       "| Bay of Plenty |\n",
       "| Gisborne |\n",
       "| Hawke's Bay |\n",
       "| Taranaki |\n",
       "| Manawatū-Whanganui |\n",
       "| Wellington |\n",
       "| Tasman |\n",
       "| Nelson |\n",
       "| Marlborough |\n",
       "| West Coast |\n",
       "| Canterbury |\n",
       "| Otago |\n",
       "| Southland |\n",
       "| NA |\n",
       "| NA |\n",
       "\n"
      ],
      "text/plain": [
       "   Region            \n",
       "1  Northland         \n",
       "2  Auckland          \n",
       "3  Waikato           \n",
       "4  Bay of Plenty     \n",
       "5  Gisborne          \n",
       "6  Hawke's Bay       \n",
       "7  Taranaki          \n",
       "8  Manawatū-Whanganui\n",
       "9  Wellington        \n",
       "10 Tasman            \n",
       "11 Nelson            \n",
       "12 Marlborough       \n",
       "13 West Coast        \n",
       "14 Canterbury        \n",
       "15 Otago             \n",
       "16 Southland         \n",
       "17 NA                \n",
       "18 NA                "
      ]
     },
     "metadata": {},
     "output_type": "display_data"
    }
   ],
   "source": [
    "# Adjusting DataFrame for the district counts\n",
    "Districts_df <- rbind(Districts_df, tibble(Region = NA))\n",
    "Districts_df <- rbind(Districts_df, tibble(Region = NA))\n",
    "Districts_df"
   ]
  },
  {
   "cell_type": "code",
   "execution_count": 11,
   "id": "08a12b6c-ac28-419d-8328-a8e1bd5897bd",
   "metadata": {},
   "outputs": [
    {
     "data": {
      "text/html": [
       "<table class=\"dataframe\">\n",
       "<caption>A tibble: 18 × 2</caption>\n",
       "<thead>\n",
       "\t<tr><th scope=col>Region</th><th scope=col>District_Counts</th></tr>\n",
       "\t<tr><th scope=col>&lt;list&gt;</th><th scope=col>&lt;list&gt;</th></tr>\n",
       "</thead>\n",
       "<tbody>\n",
       "\t<tr><td>Northland</td><td>Northland_Region_(3)</td></tr>\n",
       "\t<tr><td>Auckland</td><td>NA</td></tr>\n",
       "\t<tr><td>Waikato</td><td>Waikato_Region_(7)</td></tr>\n",
       "\t<tr><td>Bay of Plenty</td><td>Bay_of_Plenty_Region_(4)</td></tr>\n",
       "\t<tr><td>Gisborne</td><td>NA</td></tr>\n",
       "\t<tr><td>Hawke's Bay</td><td>Hawke's_Bay_Region_(3)</td></tr>\n",
       "\t<tr><td>Taranaki</td><td>Taranaki_Region_(2)</td></tr>\n",
       "\t<tr><td>Manawatū-Whanganui</td><td>Manawatū-Whanganui_Region_(4)</td></tr>\n",
       "\t<tr><td>Wellington</td><td>Wellington_Region_(4)</td></tr>\n",
       "\t<tr><td>Tasman</td><td>NA</td></tr>\n",
       "\t<tr><td>Nelson</td><td>NA</td></tr>\n",
       "\t<tr><td>Marlborough</td><td>NA</td></tr>\n",
       "\t<tr><td>West Coast</td><td>West_Coast_Region_(3)</td></tr>\n",
       "\t<tr><td>Canterbury</td><td>Canterbury_Region_(8)</td></tr>\n",
       "\t<tr><td>Otago</td><td>Otago_Region_(3)</td></tr>\n",
       "\t<tr><td>Southland</td><td>Southland_Region_(2)</td></tr>\n",
       "\t<tr><td>NA</td><td>Transregional_districts_(7)</td></tr>\n",
       "\t<tr><td>NA</td><td>Unitary_authorities_(3)</td></tr>\n",
       "</tbody>\n",
       "</table>\n"
      ],
      "text/latex": [
       "A tibble: 18 × 2\n",
       "\\begin{tabular}{ll}\n",
       " Region & District\\_Counts\\\\\n",
       " <list> & <list>\\\\\n",
       "\\hline\n",
       "\t Northland & Northland\\_Region\\_(3)\\\\\n",
       "\t Auckland & NA\\\\\n",
       "\t Waikato & Waikato\\_Region\\_(7)\\\\\n",
       "\t Bay of Plenty & Bay\\_of\\_Plenty\\_Region\\_(4)\\\\\n",
       "\t Gisborne & NA\\\\\n",
       "\t Hawke's Bay & Hawke's\\_Bay\\_Region\\_(3)\\\\\n",
       "\t Taranaki & Taranaki\\_Region\\_(2)\\\\\n",
       "\t Manawatū-Whanganui & Manawatū-Whanganui\\_Region\\_(4)\\\\\n",
       "\t Wellington & Wellington\\_Region\\_(4)\\\\\n",
       "\t Tasman & NA\\\\\n",
       "\t Nelson & NA\\\\\n",
       "\t Marlborough & NA\\\\\n",
       "\t West Coast & West\\_Coast\\_Region\\_(3)\\\\\n",
       "\t Canterbury & Canterbury\\_Region\\_(8)\\\\\n",
       "\t Otago & Otago\\_Region\\_(3)\\\\\n",
       "\t Southland & Southland\\_Region\\_(2)\\\\\n",
       "\t NA & Transregional\\_districts\\_(7)\\\\\n",
       "\t NA & Unitary\\_authorities\\_(3)\\\\\n",
       "\\end{tabular}\n"
      ],
      "text/markdown": [
       "\n",
       "A tibble: 18 × 2\n",
       "\n",
       "| Region &lt;list&gt; | District_Counts &lt;list&gt; |\n",
       "|---|---|\n",
       "| Northland | Northland_Region_(3) |\n",
       "| Auckland | NA |\n",
       "| Waikato | Waikato_Region_(7) |\n",
       "| Bay of Plenty | Bay_of_Plenty_Region_(4) |\n",
       "| Gisborne | NA |\n",
       "| Hawke's Bay | Hawke's_Bay_Region_(3) |\n",
       "| Taranaki | Taranaki_Region_(2) |\n",
       "| Manawatū-Whanganui | Manawatū-Whanganui_Region_(4) |\n",
       "| Wellington | Wellington_Region_(4) |\n",
       "| Tasman | NA |\n",
       "| Nelson | NA |\n",
       "| Marlborough | NA |\n",
       "| West Coast | West_Coast_Region_(3) |\n",
       "| Canterbury | Canterbury_Region_(8) |\n",
       "| Otago | Otago_Region_(3) |\n",
       "| Southland | Southland_Region_(2) |\n",
       "| NA | Transregional_districts_(7) |\n",
       "| NA | Unitary_authorities_(3) |\n",
       "\n"
      ],
      "text/plain": [
       "   Region             District_Counts              \n",
       "1  Northland          Northland_Region_(3)         \n",
       "2  Auckland           NA                           \n",
       "3  Waikato            Waikato_Region_(7)           \n",
       "4  Bay of Plenty      Bay_of_Plenty_Region_(4)     \n",
       "5  Gisborne           NA                           \n",
       "6  Hawke's Bay        Hawke's_Bay_Region_(3)       \n",
       "7  Taranaki           Taranaki_Region_(2)          \n",
       "8  Manawatū-Whanganui Manawatū-Whanganui_Region_(4)\n",
       "9  Wellington         Wellington_Region_(4)        \n",
       "10 Tasman             NA                           \n",
       "11 Nelson             NA                           \n",
       "12 Marlborough        NA                           \n",
       "13 West Coast         West_Coast_Region_(3)        \n",
       "14 Canterbury         Canterbury_Region_(8)        \n",
       "15 Otago              Otago_Region_(3)             \n",
       "16 Southland          Southland_Region_(2)         \n",
       "17 NA                 Transregional_districts_(7)  \n",
       "18 NA                 Unitary_authorities_(3)      "
      ]
     },
     "metadata": {},
     "output_type": "display_data"
    }
   ],
   "source": [
    "# Extending the DataFrame\n",
    "Districts_df %<>% mutate(District_Counts = District_counts)\n",
    "Districts_df"
   ]
  },
  {
   "cell_type": "code",
   "execution_count": 12,
   "id": "e1a9d9a3-e20f-4321-bb16-940e81b48b7c",
   "metadata": {},
   "outputs": [],
   "source": [
    "# Extracting district names\n",
    "Districts <- \n",
    "    district_info %>%\n",
    "    html_elements(\"li\") %>%\n",
    "    html_elements(\"a\") %>%\n",
    "    html_attrs() %>%\n",
    "    map(\"title\")\n",
    "\n",
    "# Filtering out NULLs\n",
    "Districts <- Districts[lapply(Districts, length) > 0]\n",
    "\n",
    "# Minor name adjustments\n",
    "Districts[c(16,30,49)] <- c(\"Hastings District\", \"Stratford District\", \"Gore District\")\n",
    "\n",
    "# There are 53 districts\n",
    "Districts <- Districts[1:53]"
   ]
  },
  {
   "cell_type": "code",
   "execution_count": 13,
   "id": "32f49763-b227-4cfb-919c-24bd27ab479c",
   "metadata": {},
   "outputs": [],
   "source": [
    "# Preparing the list for the DataFrame\n",
    "Districts_list <- list(c(Districts[1:3]),\n",
    "                       NA,\n",
    "                       Districts[4:10],\n",
    "                       Districts[11:14],\n",
    "                       NA,\n",
    "                       Districts[15:17],\n",
    "                       Districts[18:19],\n",
    "                       Districts[20:23],\n",
    "                       Districts[24:27],\n",
    "                       NA,\n",
    "                       NA,\n",
    "                       NA,\n",
    "                       Districts[35:37],\n",
    "                       Districts[38:45],\n",
    "                       Districts[46:48],\n",
    "                       Districts[49:50],\n",
    "                       Districts[c(28:33, 51)],\n",
    "                       Districts[c(34, 52:53)])"
   ]
  },
  {
   "cell_type": "code",
   "execution_count": 14,
   "id": "381a8e2e-efac-4da6-bba6-e0483b52d03a",
   "metadata": {},
   "outputs": [
    {
     "data": {
      "text/html": [
       "<table class=\"dataframe\">\n",
       "<caption>A tibble: 18 × 3</caption>\n",
       "<thead>\n",
       "\t<tr><th scope=col>Region</th><th scope=col>District_Counts</th><th scope=col>Districts</th></tr>\n",
       "\t<tr><th scope=col>&lt;list&gt;</th><th scope=col>&lt;list&gt;</th><th scope=col>&lt;list&gt;</th></tr>\n",
       "</thead>\n",
       "<tbody>\n",
       "\t<tr><td>Northland</td><td>Northland_Region_(3)</td><td>Far North District, Kaipara District  , Whangarei District</td></tr>\n",
       "\t<tr><td>Auckland</td><td>NA</td><td>NA</td></tr>\n",
       "\t<tr><td>Waikato</td><td>Waikato_Region_(7)</td><td>Hauraki District          , Matamata-Piako District   , Otorohanga District       , South Waikato District    , Thames-Coromandel District, Waikato District          , Waipa District            </td></tr>\n",
       "\t<tr><td>Bay of Plenty</td><td>Bay_of_Plenty_Region_(4)</td><td>Kawerau District              , Ōpōtiki District              , Western Bay of Plenty District, Whakatane District            </td></tr>\n",
       "\t<tr><td>Gisborne</td><td>NA</td><td>NA</td></tr>\n",
       "\t<tr><td>Hawke's Bay</td><td>Hawke's_Bay_Region_(3)</td><td>Central Hawke's Bay District, Hastings District           , Wairoa District             </td></tr>\n",
       "\t<tr><td>Taranaki</td><td>Taranaki_Region_(2)</td><td>New Plymouth District  , South Taranaki District</td></tr>\n",
       "\t<tr><td>Manawatū-Whanganui</td><td>Manawatū-Whanganui_Region_(4)</td><td>Horowhenua District, Manawatu District  , Ruapehu District   , Whanganui District </td></tr>\n",
       "\t<tr><td>Wellington</td><td>Wellington_Region_(4)</td><td>Carterton District      , Kapiti Coast District   , Masterton District      , South Wairarapa District</td></tr>\n",
       "\t<tr><td>Tasman</td><td>NA</td><td>NA</td></tr>\n",
       "\t<tr><td>Nelson</td><td>NA</td><td>NA</td></tr>\n",
       "\t<tr><td>Marlborough</td><td>NA</td><td>NA</td></tr>\n",
       "\t<tr><td>West Coast</td><td>West_Coast_Region_(3)</td><td>Buller District  , Grey District    , Westland District</td></tr>\n",
       "\t<tr><td>Canterbury</td><td>Canterbury_Region_(8)</td><td>Ashburton District  , Hurunui District    , Kaikōura District   , Mackenzie District  , Selwyn District     , Timaru District     , Waimakariri District, Waimate District    </td></tr>\n",
       "\t<tr><td>Otago</td><td>Otago_Region_(3)</td><td>Central Otago District   , Clutha District          , Queenstown-Lakes District</td></tr>\n",
       "\t<tr><td>Southland</td><td>Southland_Region_(2)</td><td>Gore District     , Southland District</td></tr>\n",
       "\t<tr><td>NA</td><td>Transregional_districts_(7)</td><td>Rangitikei District   , Rotorua Lakes District, Stratford District    , Tararua District      , Taupō District        , Waitomo District      , Waitaki District      </td></tr>\n",
       "\t<tr><td>NA</td><td>Unitary_authorities_(3)</td><td>Gisborne District   , Marlborough District, Tasman District     </td></tr>\n",
       "</tbody>\n",
       "</table>\n"
      ],
      "text/latex": [
       "A tibble: 18 × 3\n",
       "\\begin{tabular}{lll}\n",
       " Region & District\\_Counts & Districts\\\\\n",
       " <list> & <list> & <list>\\\\\n",
       "\\hline\n",
       "\t Northland & Northland\\_Region\\_(3) & Far North District, Kaipara District  , Whangarei District\\\\\n",
       "\t Auckland & NA & NA\\\\\n",
       "\t Waikato & Waikato\\_Region\\_(7) & Hauraki District          , Matamata-Piako District   , Otorohanga District       , South Waikato District    , Thames-Coromandel District, Waikato District          , Waipa District            \\\\\n",
       "\t Bay of Plenty & Bay\\_of\\_Plenty\\_Region\\_(4) & Kawerau District              , Ōpōtiki District              , Western Bay of Plenty District, Whakatane District            \\\\\n",
       "\t Gisborne & NA & NA\\\\\n",
       "\t Hawke's Bay & Hawke's\\_Bay\\_Region\\_(3) & Central Hawke's Bay District, Hastings District           , Wairoa District             \\\\\n",
       "\t Taranaki & Taranaki\\_Region\\_(2) & New Plymouth District  , South Taranaki District\\\\\n",
       "\t Manawatū-Whanganui & Manawatū-Whanganui\\_Region\\_(4) & Horowhenua District, Manawatu District  , Ruapehu District   , Whanganui District \\\\\n",
       "\t Wellington & Wellington\\_Region\\_(4) & Carterton District      , Kapiti Coast District   , Masterton District      , South Wairarapa District\\\\\n",
       "\t Tasman & NA & NA\\\\\n",
       "\t Nelson & NA & NA\\\\\n",
       "\t Marlborough & NA & NA\\\\\n",
       "\t West Coast & West\\_Coast\\_Region\\_(3) & Buller District  , Grey District    , Westland District\\\\\n",
       "\t Canterbury & Canterbury\\_Region\\_(8) & Ashburton District  , Hurunui District    , Kaikōura District   , Mackenzie District  , Selwyn District     , Timaru District     , Waimakariri District, Waimate District    \\\\\n",
       "\t Otago & Otago\\_Region\\_(3) & Central Otago District   , Clutha District          , Queenstown-Lakes District\\\\\n",
       "\t Southland & Southland\\_Region\\_(2) & Gore District     , Southland District\\\\\n",
       "\t NA & Transregional\\_districts\\_(7) & Rangitikei District   , Rotorua Lakes District, Stratford District    , Tararua District      , Taupō District        , Waitomo District      , Waitaki District      \\\\\n",
       "\t NA & Unitary\\_authorities\\_(3) & Gisborne District   , Marlborough District, Tasman District     \\\\\n",
       "\\end{tabular}\n"
      ],
      "text/markdown": [
       "\n",
       "A tibble: 18 × 3\n",
       "\n",
       "| Region &lt;list&gt; | District_Counts &lt;list&gt; | Districts &lt;list&gt; |\n",
       "|---|---|---|\n",
       "| Northland | Northland_Region_(3) | Far North District, Kaipara District  , Whangarei District |\n",
       "| Auckland | NA | NA |\n",
       "| Waikato | Waikato_Region_(7) | Hauraki District          , Matamata-Piako District   , Otorohanga District       , South Waikato District    , Thames-Coromandel District, Waikato District          , Waipa District             |\n",
       "| Bay of Plenty | Bay_of_Plenty_Region_(4) | Kawerau District              , Ōpōtiki District              , Western Bay of Plenty District, Whakatane District             |\n",
       "| Gisborne | NA | NA |\n",
       "| Hawke's Bay | Hawke's_Bay_Region_(3) | Central Hawke's Bay District, Hastings District           , Wairoa District              |\n",
       "| Taranaki | Taranaki_Region_(2) | New Plymouth District  , South Taranaki District |\n",
       "| Manawatū-Whanganui | Manawatū-Whanganui_Region_(4) | Horowhenua District, Manawatu District  , Ruapehu District   , Whanganui District  |\n",
       "| Wellington | Wellington_Region_(4) | Carterton District      , Kapiti Coast District   , Masterton District      , South Wairarapa District |\n",
       "| Tasman | NA | NA |\n",
       "| Nelson | NA | NA |\n",
       "| Marlborough | NA | NA |\n",
       "| West Coast | West_Coast_Region_(3) | Buller District  , Grey District    , Westland District |\n",
       "| Canterbury | Canterbury_Region_(8) | Ashburton District  , Hurunui District    , Kaikōura District   , Mackenzie District  , Selwyn District     , Timaru District     , Waimakariri District, Waimate District     |\n",
       "| Otago | Otago_Region_(3) | Central Otago District   , Clutha District          , Queenstown-Lakes District |\n",
       "| Southland | Southland_Region_(2) | Gore District     , Southland District |\n",
       "| NA | Transregional_districts_(7) | Rangitikei District   , Rotorua Lakes District, Stratford District    , Tararua District      , Taupō District        , Waitomo District      , Waitaki District       |\n",
       "| NA | Unitary_authorities_(3) | Gisborne District   , Marlborough District, Tasman District      |\n",
       "\n"
      ],
      "text/plain": [
       "   Region             District_Counts              \n",
       "1  Northland          Northland_Region_(3)         \n",
       "2  Auckland           NA                           \n",
       "3  Waikato            Waikato_Region_(7)           \n",
       "4  Bay of Plenty      Bay_of_Plenty_Region_(4)     \n",
       "5  Gisborne           NA                           \n",
       "6  Hawke's Bay        Hawke's_Bay_Region_(3)       \n",
       "7  Taranaki           Taranaki_Region_(2)          \n",
       "8  Manawatū-Whanganui Manawatū-Whanganui_Region_(4)\n",
       "9  Wellington         Wellington_Region_(4)        \n",
       "10 Tasman             NA                           \n",
       "11 Nelson             NA                           \n",
       "12 Marlborough        NA                           \n",
       "13 West Coast         West_Coast_Region_(3)        \n",
       "14 Canterbury         Canterbury_Region_(8)        \n",
       "15 Otago              Otago_Region_(3)             \n",
       "16 Southland          Southland_Region_(2)         \n",
       "17 NA                 Transregional_districts_(7)  \n",
       "18 NA                 Unitary_authorities_(3)      \n",
       "   Districts                                                                                                                                                                                         \n",
       "1  Far North District, Kaipara District  , Whangarei District                                                                                                                                        \n",
       "2  NA                                                                                                                                                                                                \n",
       "3  Hauraki District          , Matamata-Piako District   , Otorohanga District       , South Waikato District    , Thames-Coromandel District, Waikato District          , Waipa District            \n",
       "4  Kawerau District              , Ōpōtiki District              , Western Bay of Plenty District, Whakatane District                                                                                \n",
       "5  NA                                                                                                                                                                                                \n",
       "6  Central Hawke's Bay District, Hastings District           , Wairoa District                                                                                                                       \n",
       "7  New Plymouth District  , South Taranaki District                                                                                                                                                  \n",
       "8  Horowhenua District, Manawatu District  , Ruapehu District   , Whanganui District                                                                                                                 \n",
       "9  Carterton District      , Kapiti Coast District   , Masterton District      , South Wairarapa District                                                                                            \n",
       "10 NA                                                                                                                                                                                                \n",
       "11 NA                                                                                                                                                                                                \n",
       "12 NA                                                                                                                                                                                                \n",
       "13 Buller District  , Grey District    , Westland District                                                                                                                                           \n",
       "14 Ashburton District  , Hurunui District    , Kaikōura District   , Mackenzie District  , Selwyn District     , Timaru District     , Waimakariri District, Waimate District                        \n",
       "15 Central Otago District   , Clutha District          , Queenstown-Lakes District                                                                                                                   \n",
       "16 Gore District     , Southland District                                                                                                                                                            \n",
       "17 Rangitikei District   , Rotorua Lakes District, Stratford District    , Tararua District      , Taupō District        , Waitomo District      , Waitaki District                                  \n",
       "18 Gisborne District   , Marlborough District, Tasman District                                                                                                                                       "
      ]
     },
     "metadata": {},
     "output_type": "display_data"
    }
   ],
   "source": [
    "# Extending the DataFrame\n",
    "Districts_df %<>% mutate(Districts = Districts_list)\n",
    "Districts_df"
   ]
  },
  {
   "cell_type": "code",
   "execution_count": 15,
   "id": "4ccb1b53-6e26-4fa6-8f25-ee2b728c89ac",
   "metadata": {},
   "outputs": [],
   "source": [
    "# Finding links to the Regions pages to look for cities\n",
    "Region_ends <-\n",
    "    region_info %>%\n",
    "    html_elements(\"b\") %>%\n",
    "    html_elements(\"a\") %>%\n",
    "    html_attrs() %>%\n",
    "    map(\"href\")\n",
    "Region_ends <- Region_ends[1:16]"
   ]
  },
  {
   "cell_type": "code",
   "execution_count": 16,
   "id": "d05a225c-756f-4cb5-8705-771854325900",
   "metadata": {},
   "outputs": [],
   "source": [
    "# Automating the links including reading the hmtls\n",
    "Region_link <- function(link){\n",
    "    full_link <- glue(\"https://en.wikipedia.org{link}\") %>%\n",
    "        read_html()\n",
    "    return(full_link)\n",
    "}"
   ]
  },
  {
   "cell_type": "code",
   "execution_count": 17,
   "id": "ce92cb7e-e35e-4342-a5e0-7447f01e997e",
   "metadata": {},
   "outputs": [],
   "source": [
    "# Automating reading city names from a table\n",
    "read_table <- function(html){\n",
    "    funnel <-\n",
    "    html %>%\n",
    "    html_nodes(\".wikitable\") %>%\n",
    "    html_elements(\"tbody\") %>%\n",
    "    html_elements(\"tr\") %>%\n",
    "    html_elements(\"td\") %>%\n",
    "    html_elements(\"a\") %>%\n",
    "    html_attrs() %>%\n",
    "    map(\"title\")\n",
    "    return(funnel)\n",
    "}"
   ]
  },
  {
   "cell_type": "code",
   "execution_count": 18,
   "id": "a126d91b-be98-416a-9310-ab83f713a4ea",
   "metadata": {},
   "outputs": [],
   "source": [
    "# Automating reading city names without a table\n",
    "read_without_table <- function(html){\n",
    "    funnel <-\n",
    "    html %>%\n",
    "    html_elements(\"ul\") %>%\n",
    "    html_elements(\"li\") %>%\n",
    "    html_elements(\"a\") %>%\n",
    "    html_attrs() %>%\n",
    "    map(\"title\")\n",
    "    return(funnel)\n",
    "}"
   ]
  },
  {
   "cell_type": "code",
   "execution_count": 19,
   "id": "d71fdb56-230c-405a-ac4a-0682e7c2e700",
   "metadata": {},
   "outputs": [],
   "source": [
    "# Northland\n",
    "Cities_1 <- \n",
    "    Region_link(Region_ends[1]) %>%\n",
    "    read_table()\n",
    "Cities_1[c(7,13,15,16)] <- c(\"One Tree Point (Marsden Bay)\",\"Kawakawa\",\"Haruru\",\"Waipu\")"
   ]
  },
  {
   "cell_type": "code",
   "execution_count": 20,
   "id": "3efa26cc-997e-4138-b581-c1b46e50fbaf",
   "metadata": {},
   "outputs": [],
   "source": [
    "# Auckland\n",
    "Cities_2 <-\n",
    "    Region_link(Region_ends[2]) %>%\n",
    "    read_without_table()\n",
    "Cities_2 <- Cities_2[7:24]\n",
    "Cities_2[c(4,5,6,7,10)] <- c(\"Waiheke West\",\"Beachlands-Pine Harbour\",\"Warkworth\",\"Kumeū-Huapai\",\"Riverhead\")\n",
    "Cities_2[8] <- NULL\n",
    "Cities_2 <- c(\"Auckland\", Cities_2)"
   ]
  },
  {
   "cell_type": "code",
   "execution_count": 21,
   "id": "fc7aacc7-8701-4ef5-b80b-d132bc152626",
   "metadata": {},
   "outputs": [],
   "source": [
    "# Waikato\n",
    "Cities_3 <-\n",
    "    Region_link(Region_ends[3])  %>%\n",
    "    read_table()\n",
    "Cities_3[c(1,3,6,10,20,25)] <- c(\"Hamilton\",\"Cambridge\",\"Huntly\",\"Thames\",\"Raglan\",\"Coromandel\")"
   ]
  },
  {
   "cell_type": "code",
   "execution_count": 22,
   "id": "5bfd2470-bdb4-4c4c-8470-2d02691b6d48",
   "metadata": {},
   "outputs": [],
   "source": [
    "# Bay of Plenty\n",
    "Cities_4 <-\n",
    "    Region_link(Region_ends[4])  %>%\n",
    "    read_table()\n",
    "Cities_4[13] <- \"Edgecumbe\""
   ]
  },
  {
   "cell_type": "code",
   "execution_count": 23,
   "id": "c4c5a5a4-df61-42d4-8dc5-bbfa62f3339f",
   "metadata": {},
   "outputs": [],
   "source": [
    "# Gisborne\n",
    "Cities_5 <-\n",
    "    Region_link(Region_ends[5]) %>%\n",
    "    read_without_table()\n",
    "Cities_5 <- Cities_5[14:21]\n",
    "Cities_5[5] <- \"Te Araroa\""
   ]
  },
  {
   "cell_type": "code",
   "execution_count": 24,
   "id": "19664887-2cc3-43a7-849d-b8f52d97cc89",
   "metadata": {},
   "outputs": [],
   "source": [
    "# Hawke's Bay\n",
    "Cities_6_a <-\n",
    "    Region_link(Region_ends[6]) %>%\n",
    "    read_table()\n",
    "Cities_6_a <- Cities_6_a[1:7]\n",
    "\n",
    "Cities_6_b <-\n",
    "    Region_link(Region_ends[6]) %>%\n",
    "    read_without_table()\n",
    "Cities_6_b <- Cities_6_b[16:29]\n",
    "\n",
    "Cities_6 <- c(Cities_6_a, Cities_6_b)\n",
    "Cities_6[c(1,2,6,12,13,18)] <- c(\"Napier\",\"Hastings\",\"Clive\",\"Whirinaki\",\"Whakatu\",\"Ongaonga\")"
   ]
  },
  {
   "cell_type": "code",
   "execution_count": 25,
   "id": "2d5f4c12-4530-4fa0-8def-f7eef5308d7e",
   "metadata": {},
   "outputs": [],
   "source": [
    "# Taranaki\n",
    "Cities_7 <-\n",
    "    Region_link(Region_ends[7]) %>%\n",
    "    read_table()\n",
    "Cities_7 <- Cities_7[1:8]\n",
    "Cities_7[c(3,4,5,6)] <- c(\"Waitara\", \"Stratford\", \"Inglewood\", \"Eltham\")"
   ]
  },
  {
   "cell_type": "code",
   "execution_count": 26,
   "id": "ea0b76a7-2181-42fd-a2c2-3523ddafeae9",
   "metadata": {},
   "outputs": [],
   "source": [
    "# Manawatū-Whanganui\n",
    "Cities_8_a <-\n",
    "    Region_link(Region_ends[8]) %>%\n",
    "    read_table()\n",
    "Cities_8_a[c(3,6,8,11,14,15)] <- c(\"Levin\", \"Marton\", \"Foxton\", \"Bulls\", \"Woodville\", \"Shannon\")\n",
    "\n",
    "Cities_8_b <-\n",
    "    Region_link(Region_ends[8]) %>%\n",
    "    read_without_table()\n",
    "Cities_8_b <- c(Cities_8_b[33:36],\n",
    "                \"Hiwinui\",\n",
    "                Cities_8_b[37:43],\n",
    "                \"Mangaore\",\n",
    "                Cities_8_b[44:55],\n",
    "                \"Raurimu\",\n",
    "                Cities_8_b[56:59],\n",
    "                \"Waikawa Beach\",\n",
    "                Cities_8_b[60],\n",
    "                \"Waitarere Beach\")\n",
    "Cities_8_b[c(9,15,17,28,30)] <- c(\"Kimbolton\",\"National Park\",\"Ohakea\",\"Sanson\",\"Tokomaru\")\n",
    "\n",
    "Cities_8 <- c(Cities_8_a, Cities_8_b)"
   ]
  },
  {
   "cell_type": "code",
   "execution_count": 27,
   "id": "0003ce28-fafb-4eed-a355-8c7b369e775b",
   "metadata": {},
   "outputs": [],
   "source": [
    "# Wellington\n",
    "Cities_9 <-\n",
    "    Region_link(Region_ends[9]) %>%\n",
    "    html_nodes(\".wikitable:nth-child(45)\") %>%\n",
    "    html_elements(\"tbody\") %>%\n",
    "    html_elements(\"tr\") %>%\n",
    "    html_elements(\"td\") %>%\n",
    "    html_text2()\n",
    "Cities_9 <- Cities_9[c(1,4,7,10,13,16,19,22,25,28,31,34,37,40)]"
   ]
  },
  {
   "cell_type": "code",
   "execution_count": 28,
   "id": "b291cdea-8a31-49ea-9f9a-7f2d3fe7f20d",
   "metadata": {},
   "outputs": [],
   "source": [
    "# Tasman\n",
    "Cities_10_a <-\n",
    "    Region_link(Region_ends[10]) %>%\n",
    "    read_table()\n",
    "Cities_10_a[c(1,3,6)] <- c(\"Richmond\",\"Wakefield\",\"Māpua\")\n",
    "\n",
    "Cities_10_b <-\n",
    "    Region_link(Region_ends[10]) %>%\n",
    "    read_without_table()\n",
    "Cities_10_b <- c(Cities_10_b[10],\n",
    "                \"Pohara/Ligar Bay/Tata Beach/Tarakohe/Wainui\",\n",
    "                Cities_10_b[11:19],\n",
    "                \"Māpua–Ruby Bay\",\n",
    "                Cities_10_b[22:25])\n",
    "Cities_10_b[c(1,4,5,13,15,16)] <- c(\"Collingwood\",\"Murchison\",\"Saint Arnaud\",\"Tasman\",\"Wakefield\",\"Richmond\")\n",
    "\n",
    "Cities_10 <- c(Cities_10_a, Cities_10_b)"
   ]
  },
  {
   "cell_type": "code",
   "execution_count": 29,
   "id": "2513677f-464e-4b9c-9487-26ae16c5be84",
   "metadata": {},
   "outputs": [],
   "source": [
    "# Nelson\n",
    "# No list of cities on Wikipedia\n",
    "Cities_11 <- NA"
   ]
  },
  {
   "cell_type": "code",
   "execution_count": 30,
   "id": "0f482165-ab8e-4bd0-b428-fd613c157219",
   "metadata": {},
   "outputs": [],
   "source": [
    "# Marlborough\n",
    "Cities_12_a <-\n",
    "    Region_link(Region_ends[12]) %>%\n",
    "    read_table()\n",
    "Cities_12_a <- list(\"Blenheim\",\"Picton\",\"Renwick\")\n",
    "\n",
    "Cities_12_b <-\n",
    "    Region_link(Region_ends[12]) %>%\n",
    "    read_without_table()\n",
    "Cities_12_b <- Cities_12_b[15:27]\n",
    "Cities_12_b[c(2,3,8,9,12,13)] <- c(\"Grovetown\",\"Havelock\",\"Seddon\",\"Spring Creek\",\"Ward\",\"Woodbourne\")\n",
    "\n",
    "Cities_12 <- c(Cities_12_a, Cities_12_b)"
   ]
  },
  {
   "cell_type": "code",
   "execution_count": 31,
   "id": "22950b07-e359-40fd-990a-114b9c923cc9",
   "metadata": {},
   "outputs": [],
   "source": [
    "# West Coast\n",
    "Cities_13_a <-\n",
    "    Region_link(Region_ends[13]) %>%\n",
    "    read_table()\n",
    "Cities_13_a <- c(Cities_13_a[4],\n",
    "                 \"Westport\",\n",
    "                 Cities_13_a[6],\n",
    "                 \"Runanga\",\n",
    "                 Cities_13_a[8])\n",
    "\n",
    "Cities_13_b <-\n",
    "    Region_link(Region_ends[13]) %>%\n",
    "    read_without_table()\n",
    "Cities_13_b <- Cities_13_b[15:30]\n",
    "Cities_13_b[c(2,4,5,6,7,9,13,14,15)] <- c(\"Blackball\",\"Dobson\",\"Fox Glacier\",\"Franz Josef\",\"Gloriavale\",\"Haast\",\"Kumara\",\"Ngakawau\",\"Ross\")\n",
    "\n",
    "Cities_13 <- c(Cities_13_a, Cities_13_b)"
   ]
  },
  {
   "cell_type": "code",
   "execution_count": 32,
   "id": "650f25f2-6009-4e38-b39e-c607d3345f4e",
   "metadata": {},
   "outputs": [],
   "source": [
    "# Canterbury\n",
    "Cities_14 <-\n",
    "    Region_link(Region_ends[14]) %>%\n",
    "    html_nodes(\".mw-parser-output\") %>%\n",
    "    html_elements(\"div\") %>%\n",
    "    html_elements(\"table\") %>%\n",
    "    html_elements(\"tbody\") %>%\n",
    "    html_elements(\"tr\") %>%\n",
    "    html_elements(\"td\") %>%\n",
    "    html_elements(\"a\") %>%\n",
    "    html_attrs() %>%\n",
    "    map(\"title\")\n",
    "Cities_14 <- Cities_14[c(3,11:19)]\n",
    "Cities_14[c(3,4,7)] <- c(\"Rolleston\",\"Ashburton\",\"Lincoln\")"
   ]
  },
  {
   "cell_type": "code",
   "execution_count": 33,
   "id": "eff5f2a1-38db-4c8e-8ad1-e7b92ef9a550",
   "metadata": {},
   "outputs": [],
   "source": [
    "# Otago\n",
    "Cities_15 <-\n",
    "    Region_link(Region_ends[15]) %>%\n",
    "    read_table()\n",
    "Cities_15[[2]] <- NULL\n",
    "Cities_15[c(2,6,7,8,9,11,12,14)] <- c(\"Queenstown\",\"Cromwell\",\"Lake Hayes\",\"Alexandra\",\"Balclutha\",\"Milton\",\"Brighton\",\"Clyde\")"
   ]
  },
  {
   "cell_type": "code",
   "execution_count": 34,
   "id": "dcfbf47d-f6cf-4283-8726-f247c4eacb97",
   "metadata": {},
   "outputs": [],
   "source": [
    "# Southland\n",
    "Cities_16 <-\n",
    "    Region_link(Region_ends[16]) %>%\n",
    "    read_table()\n",
    "Cities_16[c(2,3,5,7)] <- c(\"Gore\",\"Winton\",\"Bluff\",\"Riverton\")"
   ]
  },
  {
   "cell_type": "code",
   "execution_count": 35,
   "id": "89973d15-fc5d-47b7-b918-976e53b4ef7c",
   "metadata": {},
   "outputs": [],
   "source": [
    "# Combining cities list\n",
    "Cities_list <- list(Cities_1,\n",
    "                    Cities_2,\n",
    "                    Cities_3,\n",
    "                    Cities_4,\n",
    "                    Cities_5,\n",
    "                    Cities_6,\n",
    "                    Cities_7,\n",
    "                    Cities_8,\n",
    "                    Cities_9,\n",
    "                    Cities_10,\n",
    "                    Cities_11,\n",
    "                    Cities_12,\n",
    "                    Cities_13,\n",
    "                    Cities_14,\n",
    "                    Cities_15,\n",
    "                    Cities_16,\n",
    "                    NA,\n",
    "                    NA)"
   ]
  },
  {
   "cell_type": "code",
   "execution_count": 64,
   "id": "f940ac87-05a6-4460-b6c7-c2a1b5e26808",
   "metadata": {},
   "outputs": [
    {
     "data": {
      "text/html": [
       "<table class=\"dataframe\">\n",
       "<caption>A data.frame: 18 × 4</caption>\n",
       "<thead>\n",
       "\t<tr><th scope=col>Region</th><th scope=col>District_Counts</th><th scope=col>Districts</th><th scope=col>Cities</th></tr>\n",
       "\t<tr><th scope=col>&lt;list&gt;</th><th scope=col>&lt;list&gt;</th><th scope=col>&lt;list&gt;</th><th scope=col>&lt;list&gt;</th></tr>\n",
       "</thead>\n",
       "<tbody>\n",
       "\t<tr><td>Northland</td><td>Northland_Region_(3)</td><td>Far North District, Kaipara District  , Whangarei District</td><td>Whangārei                   , Kerikeri                    , Kaitaia                     , Dargaville                  , Kaikohe                     , Ruakākā                     , One Tree Point (Marsden Bay), Mangawhai Heads             , Moerewa                     , Hikurangi                   , Opua                        , Paihia                      , Kawakawa                    , Ngunguru                    , Haruru                      , Waipu                       </td></tr>\n",
       "\t<tr><td>Auckland</td><td>NA</td><td>NA</td><td>Auckland               , Hibiscus Coast         , Pukekohe               , Waiuku                 , Waiheke West           , Beachlands-Pine Harbour, Warkworth              , Kumeū-Huapai           , Snells Beach           , Riverhead              , Helensville            , Maraetai               , Wellsford              , Clarks Beach           , Waimauku               , Muriwai                , Patumahoe              , Parakai                </td></tr>\n",
       "\t<tr><td>Waikato</td><td>Waikato_Region_(7)</td><td>Hauraki District          , Matamata-Piako District   , Otorohanga District       , South Waikato District    , Thames-Coromandel District, Waikato District          , Waipa District            </td><td>Hamilton    , Taupō       , Cambridge   , Tokoroa     , Te Awamutu  , Huntly      , Morrinsville, Matamata    , Ngāruawāhia , Thames      , Whitianga   , Waihi       , Tuakau      , Te Kuiti    , Te Aroha    , Putāruru    , Paeroa      , Whangamatā  , Turangi     , Raglan      , Pōkeno      , Otorohanga  , Kihikihi    , Te Kauwhata , Coromandel  , Tairua      , Ngatea      , Pirongia    , Pauanui     </td></tr>\n",
       "\t<tr><td>Bay of Plenty</td><td>Bay_of_Plenty_Region_(4)</td><td>Kawerau District              , Ōpōtiki District              , Western Bay of Plenty District, Whakatane District            </td><td>Tauranga   , Rotorua    , Whakatāne  , Te Puke    , Kawerau    , Katikati   , Ōpōtiki    , Ngongotahā , Ōmokoroa   , Ōhope      , Waihi Beach, Murupara   , Edgecumbe  </td></tr>\n",
       "\t<tr><td>Gisborne</td><td>NA</td><td>NA</td><td>Hicks Bay   , Manutuke    , Patutahi    , Ruatoria    , Te Araroa   , Te Karaka   , Tokomaru Bay, Tolaga Bay  </td></tr>\n",
       "\t<tr><td>Hawke's Bay</td><td>Hawke's_Bay_Region_(3)</td><td>Central Hawke's Bay District, Hastings District           , Wairoa District             </td><td>Napier        , Hastings      , Havelock North, Wairoa        , Waipukurau    , Clive         , Waipawa       , Tuai          , Frasertown    , Nūhaka        , Mahia Beach   , Whirinaki     , Whakatu       , Haumoana      , Te Awanga     , Waimārama     , Tikokino      , Ongaonga      , Takapau       , Ōtāne         , Porangahau    </td></tr>\n",
       "\t<tr><td>Taranaki</td><td>Taranaki_Region_(2)</td><td>New Plymouth District  , South Taranaki District</td><td>New Plymouth, Hāwera      , Waitara     , Stratford   , Inglewood   , Eltham      , Ōpunake     , Patea       </td></tr>\n",
       "\t<tr><td>Manawatū-Whanganui</td><td>Manawatū-Whanganui_Region_(4)</td><td>Horowhenua District, Manawatu District  , Ruapehu District   , Whanganui District </td><td>Palmerston North, Whanganui       , Levin           , Feilding        , Dannevirke      , Marton          , Taumarunui      , Foxton          , Ashhurst        , Pahiatua        , Bulls           , Foxton Beach    , Taihape         , Woodville       , Shannon         , Ohakune         , Raetihi         , Bunnythorpe     , Eketāhuna       , Halcombe        , Himatangi Beach , Hiwinui         , Hokio Beach     , Hunterville     , Kai Iwi         , Kimbolton       , Koitiata        , Longburn        , Manakau         , Mangaore        , Mangaweka       , National Park   , Norsewood       , Ohakea          , Ōhau            , Ohura           , Ormondville     , Ōwhango         , Pohangina       , Pongaroa        , Rangataua       , Rātana Pā       , Raurimu         , Rongotea        , Sanson          , Tangimoana      , Tokomaru        , Waikawa Beach   , Waiouru         , Waitarere Beach </td></tr>\n",
       "\t<tr><td>Wellington</td><td>Wellington_Region_(4)</td><td>Carterton District      , Kapiti Coast District   , Masterton District      , South Wairarapa District</td><td>Wellington   , Lower Hutt   , Porirua      , Upper Hutt   , Paraparaumu  , Masterton    , Waikanae     , Carterton    , Ōtaki        , Featherston  , Greytown     , Ōtaki Beach  , Martinborough, Paekākāriki  </td></tr>\n",
       "\t<tr><td>Tasman</td><td>NA</td><td>NA</td><td>Richmond                                   , Motueka                                    , Wakefield                                  , Brightwater                                , Tākaka                                     , Māpua                                      , Collingwood                                , Pohara/Ligar Bay/Tata Beach/Tarakohe/Wainui, Tākaka                                     , Murchison                                  , Saint Arnaud                               , Tapawera                                   , Kaiteriteri                                , Mārahau                                    , Motueka                                    , Riwaka                                     , Brightwater                                , Māpua–Ruby Bay                             , Tasman                                     , Upper Moutere                              , Wakefield                                  , Richmond                                   </td></tr>\n",
       "\t<tr><td>Nelson</td><td>NA</td><td>NA</td><td>NA</td></tr>\n",
       "\t<tr><td>Marlborough</td><td>NA</td><td>NA</td><td>Blenheim     , Picton       , Renwick      , Anakiwa      , Grovetown    , Havelock     , Ngākuta Bay  , Ōkiwi Bay    , Rai Valley   , Rārangi      , Seddon       , Spring Creek , Tuamarina    , Wairau Valley, Ward         , Woodbourne   </td></tr>\n",
       "\t<tr><td>West Coast</td><td>West_Coast_Region_(3)</td><td>Buller District  , Grey District    , Westland District</td><td>Greymouth    , Westport     , Hokitika     , Runanga      , Reefton      , Ahaura       , Blackball    , Carters Beach, Dobson       , Fox Glacier  , Franz Josef  , Gloriavale   , Granity      , Haast        , Hari Hari    , Kaniere      , Karamea      , Kumara       , Ngakawau     , Ross         , Waimangaroa  </td></tr>\n",
       "\t<tr><td>Canterbury</td><td>Canterbury_Region_(8)</td><td>Ashburton District  , Hurunui District    , Kaikōura District   , Mackenzie District  , Selwyn District     , Timaru District     , Waimakariri District, Waimate District    </td><td>Christchurch, Timaru      , Rolleston   , Ashburton   , Rangiora    , Kaiapoi     , Lincoln     , Prebbleton  , Temuka      , Waimate     </td></tr>\n",
       "\t<tr><td>Otago</td><td>Otago_Region_(3)</td><td>Central Otago District   , Clutha District          , Queenstown-Lakes District</td><td>Dunedin   , Queenstown, Mosgiel   , Oamaru    , Wānaka    , Cromwell  , Lake Hayes, Alexandra , Balclutha , Arrowtown , Milton    , Brighton  , Waikouaiti, Clyde     </td></tr>\n",
       "\t<tr><td>Southland</td><td>Southland_Region_(2)</td><td>Gore District     , Southland District</td><td>Invercargill, Gore        , Winton      , Te Anau     , Bluff       , Mataura     , Riverton    </td></tr>\n",
       "\t<tr><td>NA</td><td>Transregional_districts_(7)</td><td>Rangitikei District   , Rotorua Lakes District, Stratford District    , Tararua District      , Taupō District        , Waitomo District      , Waitaki District      </td><td>NA</td></tr>\n",
       "\t<tr><td>NA</td><td>Unitary_authorities_(3)</td><td>Gisborne District   , Marlborough District, Tasman District     </td><td>NA</td></tr>\n",
       "</tbody>\n",
       "</table>\n"
      ],
      "text/latex": [
       "A data.frame: 18 × 4\n",
       "\\begin{tabular}{llll}\n",
       " Region & District\\_Counts & Districts & Cities\\\\\n",
       " <list> & <list> & <list> & <list>\\\\\n",
       "\\hline\n",
       "\t Northland & Northland\\_Region\\_(3) & Far North District, Kaipara District  , Whangarei District & Whangārei                   , Kerikeri                    , Kaitaia                     , Dargaville                  , Kaikohe                     , Ruakākā                     , One Tree Point (Marsden Bay), Mangawhai Heads             , Moerewa                     , Hikurangi                   , Opua                        , Paihia                      , Kawakawa                    , Ngunguru                    , Haruru                      , Waipu                       \\\\\n",
       "\t Auckland & NA & NA & Auckland               , Hibiscus Coast         , Pukekohe               , Waiuku                 , Waiheke West           , Beachlands-Pine Harbour, Warkworth              , Kumeū-Huapai           , Snells Beach           , Riverhead              , Helensville            , Maraetai               , Wellsford              , Clarks Beach           , Waimauku               , Muriwai                , Patumahoe              , Parakai                \\\\\n",
       "\t Waikato & Waikato\\_Region\\_(7) & Hauraki District          , Matamata-Piako District   , Otorohanga District       , South Waikato District    , Thames-Coromandel District, Waikato District          , Waipa District             & Hamilton    , Taupō       , Cambridge   , Tokoroa     , Te Awamutu  , Huntly      , Morrinsville, Matamata    , Ngāruawāhia , Thames      , Whitianga   , Waihi       , Tuakau      , Te Kuiti    , Te Aroha    , Putāruru    , Paeroa      , Whangamatā  , Turangi     , Raglan      , Pōkeno      , Otorohanga  , Kihikihi    , Te Kauwhata , Coromandel  , Tairua      , Ngatea      , Pirongia    , Pauanui     \\\\\n",
       "\t Bay of Plenty & Bay\\_of\\_Plenty\\_Region\\_(4) & Kawerau District              , Ōpōtiki District              , Western Bay of Plenty District, Whakatane District             & Tauranga   , Rotorua    , Whakatāne  , Te Puke    , Kawerau    , Katikati   , Ōpōtiki    , Ngongotahā , Ōmokoroa   , Ōhope      , Waihi Beach, Murupara   , Edgecumbe  \\\\\n",
       "\t Gisborne & NA & NA & Hicks Bay   , Manutuke    , Patutahi    , Ruatoria    , Te Araroa   , Te Karaka   , Tokomaru Bay, Tolaga Bay  \\\\\n",
       "\t Hawke's Bay & Hawke's\\_Bay\\_Region\\_(3) & Central Hawke's Bay District, Hastings District           , Wairoa District              & Napier        , Hastings      , Havelock North, Wairoa        , Waipukurau    , Clive         , Waipawa       , Tuai          , Frasertown    , Nūhaka        , Mahia Beach   , Whirinaki     , Whakatu       , Haumoana      , Te Awanga     , Waimārama     , Tikokino      , Ongaonga      , Takapau       , Ōtāne         , Porangahau    \\\\\n",
       "\t Taranaki & Taranaki\\_Region\\_(2) & New Plymouth District  , South Taranaki District & New Plymouth, Hāwera      , Waitara     , Stratford   , Inglewood   , Eltham      , Ōpunake     , Patea       \\\\\n",
       "\t Manawatū-Whanganui & Manawatū-Whanganui\\_Region\\_(4) & Horowhenua District, Manawatu District  , Ruapehu District   , Whanganui District  & Palmerston North, Whanganui       , Levin           , Feilding        , Dannevirke      , Marton          , Taumarunui      , Foxton          , Ashhurst        , Pahiatua        , Bulls           , Foxton Beach    , Taihape         , Woodville       , Shannon         , Ohakune         , Raetihi         , Bunnythorpe     , Eketāhuna       , Halcombe        , Himatangi Beach , Hiwinui         , Hokio Beach     , Hunterville     , Kai Iwi         , Kimbolton       , Koitiata        , Longburn        , Manakau         , Mangaore        , Mangaweka       , National Park   , Norsewood       , Ohakea          , Ōhau            , Ohura           , Ormondville     , Ōwhango         , Pohangina       , Pongaroa        , Rangataua       , Rātana Pā       , Raurimu         , Rongotea        , Sanson          , Tangimoana      , Tokomaru        , Waikawa Beach   , Waiouru         , Waitarere Beach \\\\\n",
       "\t Wellington & Wellington\\_Region\\_(4) & Carterton District      , Kapiti Coast District   , Masterton District      , South Wairarapa District & Wellington   , Lower Hutt   , Porirua      , Upper Hutt   , Paraparaumu  , Masterton    , Waikanae     , Carterton    , Ōtaki        , Featherston  , Greytown     , Ōtaki Beach  , Martinborough, Paekākāriki  \\\\\n",
       "\t Tasman & NA & NA & Richmond                                   , Motueka                                    , Wakefield                                  , Brightwater                                , Tākaka                                     , Māpua                                      , Collingwood                                , Pohara/Ligar Bay/Tata Beach/Tarakohe/Wainui, Tākaka                                     , Murchison                                  , Saint Arnaud                               , Tapawera                                   , Kaiteriteri                                , Mārahau                                    , Motueka                                    , Riwaka                                     , Brightwater                                , Māpua–Ruby Bay                             , Tasman                                     , Upper Moutere                              , Wakefield                                  , Richmond                                   \\\\\n",
       "\t Nelson & NA & NA & NA\\\\\n",
       "\t Marlborough & NA & NA & Blenheim     , Picton       , Renwick      , Anakiwa      , Grovetown    , Havelock     , Ngākuta Bay  , Ōkiwi Bay    , Rai Valley   , Rārangi      , Seddon       , Spring Creek , Tuamarina    , Wairau Valley, Ward         , Woodbourne   \\\\\n",
       "\t West Coast & West\\_Coast\\_Region\\_(3) & Buller District  , Grey District    , Westland District & Greymouth    , Westport     , Hokitika     , Runanga      , Reefton      , Ahaura       , Blackball    , Carters Beach, Dobson       , Fox Glacier  , Franz Josef  , Gloriavale   , Granity      , Haast        , Hari Hari    , Kaniere      , Karamea      , Kumara       , Ngakawau     , Ross         , Waimangaroa  \\\\\n",
       "\t Canterbury & Canterbury\\_Region\\_(8) & Ashburton District  , Hurunui District    , Kaikōura District   , Mackenzie District  , Selwyn District     , Timaru District     , Waimakariri District, Waimate District     & Christchurch, Timaru      , Rolleston   , Ashburton   , Rangiora    , Kaiapoi     , Lincoln     , Prebbleton  , Temuka      , Waimate     \\\\\n",
       "\t Otago & Otago\\_Region\\_(3) & Central Otago District   , Clutha District          , Queenstown-Lakes District & Dunedin   , Queenstown, Mosgiel   , Oamaru    , Wānaka    , Cromwell  , Lake Hayes, Alexandra , Balclutha , Arrowtown , Milton    , Brighton  , Waikouaiti, Clyde     \\\\\n",
       "\t Southland & Southland\\_Region\\_(2) & Gore District     , Southland District & Invercargill, Gore        , Winton      , Te Anau     , Bluff       , Mataura     , Riverton    \\\\\n",
       "\t NA & Transregional\\_districts\\_(7) & Rangitikei District   , Rotorua Lakes District, Stratford District    , Tararua District      , Taupō District        , Waitomo District      , Waitaki District       & NA\\\\\n",
       "\t NA & Unitary\\_authorities\\_(3) & Gisborne District   , Marlborough District, Tasman District      & NA\\\\\n",
       "\\end{tabular}\n"
      ],
      "text/markdown": [
       "\n",
       "A data.frame: 18 × 4\n",
       "\n",
       "| Region &lt;list&gt; | District_Counts &lt;list&gt; | Districts &lt;list&gt; | Cities &lt;list&gt; |\n",
       "|---|---|---|---|\n",
       "| Northland | Northland_Region_(3) | Far North District, Kaipara District  , Whangarei District | Whangārei                   , Kerikeri                    , Kaitaia                     , Dargaville                  , Kaikohe                     , Ruakākā                     , One Tree Point (Marsden Bay), Mangawhai Heads             , Moerewa                     , Hikurangi                   , Opua                        , Paihia                      , Kawakawa                    , Ngunguru                    , Haruru                      , Waipu                        |\n",
       "| Auckland | NA | NA | Auckland               , Hibiscus Coast         , Pukekohe               , Waiuku                 , Waiheke West           , Beachlands-Pine Harbour, Warkworth              , Kumeū-Huapai           , Snells Beach           , Riverhead              , Helensville            , Maraetai               , Wellsford              , Clarks Beach           , Waimauku               , Muriwai                , Patumahoe              , Parakai                 |\n",
       "| Waikato | Waikato_Region_(7) | Hauraki District          , Matamata-Piako District   , Otorohanga District       , South Waikato District    , Thames-Coromandel District, Waikato District          , Waipa District             | Hamilton    , Taupō       , Cambridge   , Tokoroa     , Te Awamutu  , Huntly      , Morrinsville, Matamata    , Ngāruawāhia , Thames      , Whitianga   , Waihi       , Tuakau      , Te Kuiti    , Te Aroha    , Putāruru    , Paeroa      , Whangamatā  , Turangi     , Raglan      , Pōkeno      , Otorohanga  , Kihikihi    , Te Kauwhata , Coromandel  , Tairua      , Ngatea      , Pirongia    , Pauanui      |\n",
       "| Bay of Plenty | Bay_of_Plenty_Region_(4) | Kawerau District              , Ōpōtiki District              , Western Bay of Plenty District, Whakatane District             | Tauranga   , Rotorua    , Whakatāne  , Te Puke    , Kawerau    , Katikati   , Ōpōtiki    , Ngongotahā , Ōmokoroa   , Ōhope      , Waihi Beach, Murupara   , Edgecumbe   |\n",
       "| Gisborne | NA | NA | Hicks Bay   , Manutuke    , Patutahi    , Ruatoria    , Te Araroa   , Te Karaka   , Tokomaru Bay, Tolaga Bay   |\n",
       "| Hawke's Bay | Hawke's_Bay_Region_(3) | Central Hawke's Bay District, Hastings District           , Wairoa District              | Napier        , Hastings      , Havelock North, Wairoa        , Waipukurau    , Clive         , Waipawa       , Tuai          , Frasertown    , Nūhaka        , Mahia Beach   , Whirinaki     , Whakatu       , Haumoana      , Te Awanga     , Waimārama     , Tikokino      , Ongaonga      , Takapau       , Ōtāne         , Porangahau     |\n",
       "| Taranaki | Taranaki_Region_(2) | New Plymouth District  , South Taranaki District | New Plymouth, Hāwera      , Waitara     , Stratford   , Inglewood   , Eltham      , Ōpunake     , Patea        |\n",
       "| Manawatū-Whanganui | Manawatū-Whanganui_Region_(4) | Horowhenua District, Manawatu District  , Ruapehu District   , Whanganui District  | Palmerston North, Whanganui       , Levin           , Feilding        , Dannevirke      , Marton          , Taumarunui      , Foxton          , Ashhurst        , Pahiatua        , Bulls           , Foxton Beach    , Taihape         , Woodville       , Shannon         , Ohakune         , Raetihi         , Bunnythorpe     , Eketāhuna       , Halcombe        , Himatangi Beach , Hiwinui         , Hokio Beach     , Hunterville     , Kai Iwi         , Kimbolton       , Koitiata        , Longburn        , Manakau         , Mangaore        , Mangaweka       , National Park   , Norsewood       , Ohakea          , Ōhau            , Ohura           , Ormondville     , Ōwhango         , Pohangina       , Pongaroa        , Rangataua       , Rātana Pā       , Raurimu         , Rongotea        , Sanson          , Tangimoana      , Tokomaru        , Waikawa Beach   , Waiouru         , Waitarere Beach  |\n",
       "| Wellington | Wellington_Region_(4) | Carterton District      , Kapiti Coast District   , Masterton District      , South Wairarapa District | Wellington   , Lower Hutt   , Porirua      , Upper Hutt   , Paraparaumu  , Masterton    , Waikanae     , Carterton    , Ōtaki        , Featherston  , Greytown     , Ōtaki Beach  , Martinborough, Paekākāriki   |\n",
       "| Tasman | NA | NA | Richmond                                   , Motueka                                    , Wakefield                                  , Brightwater                                , Tākaka                                     , Māpua                                      , Collingwood                                , Pohara/Ligar Bay/Tata Beach/Tarakohe/Wainui, Tākaka                                     , Murchison                                  , Saint Arnaud                               , Tapawera                                   , Kaiteriteri                                , Mārahau                                    , Motueka                                    , Riwaka                                     , Brightwater                                , Māpua–Ruby Bay                             , Tasman                                     , Upper Moutere                              , Wakefield                                  , Richmond                                    |\n",
       "| Nelson | NA | NA | NA |\n",
       "| Marlborough | NA | NA | Blenheim     , Picton       , Renwick      , Anakiwa      , Grovetown    , Havelock     , Ngākuta Bay  , Ōkiwi Bay    , Rai Valley   , Rārangi      , Seddon       , Spring Creek , Tuamarina    , Wairau Valley, Ward         , Woodbourne    |\n",
       "| West Coast | West_Coast_Region_(3) | Buller District  , Grey District    , Westland District | Greymouth    , Westport     , Hokitika     , Runanga      , Reefton      , Ahaura       , Blackball    , Carters Beach, Dobson       , Fox Glacier  , Franz Josef  , Gloriavale   , Granity      , Haast        , Hari Hari    , Kaniere      , Karamea      , Kumara       , Ngakawau     , Ross         , Waimangaroa   |\n",
       "| Canterbury | Canterbury_Region_(8) | Ashburton District  , Hurunui District    , Kaikōura District   , Mackenzie District  , Selwyn District     , Timaru District     , Waimakariri District, Waimate District     | Christchurch, Timaru      , Rolleston   , Ashburton   , Rangiora    , Kaiapoi     , Lincoln     , Prebbleton  , Temuka      , Waimate      |\n",
       "| Otago | Otago_Region_(3) | Central Otago District   , Clutha District          , Queenstown-Lakes District | Dunedin   , Queenstown, Mosgiel   , Oamaru    , Wānaka    , Cromwell  , Lake Hayes, Alexandra , Balclutha , Arrowtown , Milton    , Brighton  , Waikouaiti, Clyde      |\n",
       "| Southland | Southland_Region_(2) | Gore District     , Southland District | Invercargill, Gore        , Winton      , Te Anau     , Bluff       , Mataura     , Riverton     |\n",
       "| NA | Transregional_districts_(7) | Rangitikei District   , Rotorua Lakes District, Stratford District    , Tararua District      , Taupō District        , Waitomo District      , Waitaki District       | NA |\n",
       "| NA | Unitary_authorities_(3) | Gisborne District   , Marlborough District, Tasman District      | NA |\n",
       "\n"
      ],
      "text/plain": [
       "   Region             District_Counts              \n",
       "1  Northland          Northland_Region_(3)         \n",
       "2  Auckland           NA                           \n",
       "3  Waikato            Waikato_Region_(7)           \n",
       "4  Bay of Plenty      Bay_of_Plenty_Region_(4)     \n",
       "5  Gisborne           NA                           \n",
       "6  Hawke's Bay        Hawke's_Bay_Region_(3)       \n",
       "7  Taranaki           Taranaki_Region_(2)          \n",
       "8  Manawatū-Whanganui Manawatū-Whanganui_Region_(4)\n",
       "9  Wellington         Wellington_Region_(4)        \n",
       "10 Tasman             NA                           \n",
       "11 Nelson             NA                           \n",
       "12 Marlborough        NA                           \n",
       "13 West Coast         West_Coast_Region_(3)        \n",
       "14 Canterbury         Canterbury_Region_(8)        \n",
       "15 Otago              Otago_Region_(3)             \n",
       "16 Southland          Southland_Region_(2)         \n",
       "17 NA                 Transregional_districts_(7)  \n",
       "18 NA                 Unitary_authorities_(3)      \n",
       "   Districts                                                                                                                                                                                         \n",
       "1  Far North District, Kaipara District  , Whangarei District                                                                                                                                        \n",
       "2  NA                                                                                                                                                                                                \n",
       "3  Hauraki District          , Matamata-Piako District   , Otorohanga District       , South Waikato District    , Thames-Coromandel District, Waikato District          , Waipa District            \n",
       "4  Kawerau District              , Ōpōtiki District              , Western Bay of Plenty District, Whakatane District                                                                                \n",
       "5  NA                                                                                                                                                                                                \n",
       "6  Central Hawke's Bay District, Hastings District           , Wairoa District                                                                                                                       \n",
       "7  New Plymouth District  , South Taranaki District                                                                                                                                                  \n",
       "8  Horowhenua District, Manawatu District  , Ruapehu District   , Whanganui District                                                                                                                 \n",
       "9  Carterton District      , Kapiti Coast District   , Masterton District      , South Wairarapa District                                                                                            \n",
       "10 NA                                                                                                                                                                                                \n",
       "11 NA                                                                                                                                                                                                \n",
       "12 NA                                                                                                                                                                                                \n",
       "13 Buller District  , Grey District    , Westland District                                                                                                                                           \n",
       "14 Ashburton District  , Hurunui District    , Kaikōura District   , Mackenzie District  , Selwyn District     , Timaru District     , Waimakariri District, Waimate District                        \n",
       "15 Central Otago District   , Clutha District          , Queenstown-Lakes District                                                                                                                   \n",
       "16 Gore District     , Southland District                                                                                                                                                            \n",
       "17 Rangitikei District   , Rotorua Lakes District, Stratford District    , Tararua District      , Taupō District        , Waitomo District      , Waitaki District                                  \n",
       "18 Gisborne District   , Marlborough District, Tasman District                                                                                                                                       \n",
       "   Cities                                                                                                                                                                                                                                                                                                                                                                                                                                                                                                                                                                                                                                                                                                                                                                                                                                                                                                                                                                                                                      \n",
       "1  Whangārei                   , Kerikeri                    , Kaitaia                     , Dargaville                  , Kaikohe                     , Ruakākā                     , One Tree Point (Marsden Bay), Mangawhai Heads             , Moerewa                     , Hikurangi                   , Opua                        , Paihia                      , Kawakawa                    , Ngunguru                    , Haruru                      , Waipu                                                                                                                                                                                                                                                                                                                                                                                                                                                                                                                                                     \n",
       "2  Auckland               , Hibiscus Coast         , Pukekohe               , Waiuku                 , Waiheke West           , Beachlands-Pine Harbour, Warkworth              , Kumeū-Huapai           , Snells Beach           , Riverhead              , Helensville            , Maraetai               , Wellsford              , Clarks Beach           , Waimauku               , Muriwai                , Patumahoe              , Parakai                                                                                                                                                                                                                                                                                                                                                                                                                                                                                                                                                                            \n",
       "3  Hamilton    , Taupō       , Cambridge   , Tokoroa     , Te Awamutu  , Huntly      , Morrinsville, Matamata    , Ngāruawāhia , Thames      , Whitianga   , Waihi       , Tuakau      , Te Kuiti    , Te Aroha    , Putāruru    , Paeroa      , Whangamatā  , Turangi     , Raglan      , Pōkeno      , Otorohanga  , Kihikihi    , Te Kauwhata , Coromandel  , Tairua      , Ngatea      , Pirongia    , Pauanui                                                                                                                                                                                                                                                                                                                                                                                                                                                                                                                                                                                                             \n",
       "4  Tauranga   , Rotorua    , Whakatāne  , Te Puke    , Kawerau    , Katikati   , Ōpōtiki    , Ngongotahā , Ōmokoroa   , Ōhope      , Waihi Beach, Murupara   , Edgecumbe                                                                                                                                                                                                                                                                                                                                                                                                                                                                                                                                                                                                                                                                                                                                                                                                                                                       \n",
       "5  Hicks Bay   , Manutuke    , Patutahi    , Ruatoria    , Te Araroa   , Te Karaka   , Tokomaru Bay, Tolaga Bay                                                                                                                                                                                                                                                                                                                                                                                                                                                                                                                                                                                                                                                                                                                                                                                                                                                                                                                \n",
       "6  Napier        , Hastings      , Havelock North, Wairoa        , Waipukurau    , Clive         , Waipawa       , Tuai          , Frasertown    , Nūhaka        , Mahia Beach   , Whirinaki     , Whakatu       , Haumoana      , Te Awanga     , Waimārama     , Tikokino      , Ongaonga      , Takapau       , Ōtāne         , Porangahau                                                                                                                                                                                                                                                                                                                                                                                                                                                                                                                                                                                                                                                                                  \n",
       "7  New Plymouth, Hāwera      , Waitara     , Stratford   , Inglewood   , Eltham      , Ōpunake     , Patea                                                                                                                                                                                                                                                                                                                                                                                                                                                                                                                                                                                                                                                                                                                                                                                                                                                                                                                     \n",
       "8  Palmerston North, Whanganui       , Levin           , Feilding        , Dannevirke      , Marton          , Taumarunui      , Foxton          , Ashhurst        , Pahiatua        , Bulls           , Foxton Beach    , Taihape         , Woodville       , Shannon         , Ohakune         , Raetihi         , Bunnythorpe     , Eketāhuna       , Halcombe        , Himatangi Beach , Hiwinui         , Hokio Beach     , Hunterville     , Kai Iwi         , Kimbolton       , Koitiata        , Longburn        , Manakau         , Mangaore        , Mangaweka       , National Park   , Norsewood       , Ohakea          , Ōhau            , Ohura           , Ormondville     , Ōwhango         , Pohangina       , Pongaroa        , Rangataua       , Rātana Pā       , Raurimu         , Rongotea        , Sanson          , Tangimoana      , Tokomaru        , Waikawa Beach   , Waiouru         , Waitarere Beach                                                                                           \n",
       "9  Wellington   , Lower Hutt   , Porirua      , Upper Hutt   , Paraparaumu  , Masterton    , Waikanae     , Carterton    , Ōtaki        , Featherston  , Greytown     , Ōtaki Beach  , Martinborough, Paekākāriki                                                                                                                                                                                                                                                                                                                                                                                                                                                                                                                                                                                                                                                                                                                                                                                                              \n",
       "10 Richmond                                   , Motueka                                    , Wakefield                                  , Brightwater                                , Tākaka                                     , Māpua                                      , Collingwood                                , Pohara/Ligar Bay/Tata Beach/Tarakohe/Wainui, Tākaka                                     , Murchison                                  , Saint Arnaud                               , Tapawera                                   , Kaiteriteri                                , Mārahau                                    , Motueka                                    , Riwaka                                     , Brightwater                                , Māpua–Ruby Bay                             , Tasman                                     , Upper Moutere                              , Wakefield                                  , Richmond                                   \n",
       "11 NA                                                                                                                                                                                                                                                                                                                                                                                                                                                                                                                                                                                                                                                                                                                                                                                                                                                                                                                                                                                                                          \n",
       "12 Blenheim     , Picton       , Renwick      , Anakiwa      , Grovetown    , Havelock     , Ngākuta Bay  , Ōkiwi Bay    , Rai Valley   , Rārangi      , Seddon       , Spring Creek , Tuamarina    , Wairau Valley, Ward         , Woodbourne                                                                                                                                                                                                                                                                                                                                                                                                                                                                                                                                                                                                                                                                                                                                                                                 \n",
       "13 Greymouth    , Westport     , Hokitika     , Runanga      , Reefton      , Ahaura       , Blackball    , Carters Beach, Dobson       , Fox Glacier  , Franz Josef  , Gloriavale   , Granity      , Haast        , Hari Hari    , Kaniere      , Karamea      , Kumara       , Ngakawau     , Ross         , Waimangaroa                                                                                                                                                                                                                                                                                                                                                                                                                                                                                                                                                                                                                                                                                                     \n",
       "14 Christchurch, Timaru      , Rolleston   , Ashburton   , Rangiora    , Kaiapoi     , Lincoln     , Prebbleton  , Temuka      , Waimate                                                                                                                                                                                                                                                                                                                                                                                                                                                                                                                                                                                                                                                                                                                                                                                                                                                                                       \n",
       "15 Dunedin   , Queenstown, Mosgiel   , Oamaru    , Wānaka    , Cromwell  , Lake Hayes, Alexandra , Balclutha , Arrowtown , Milton    , Brighton  , Waikouaiti, Clyde                                                                                                                                                                                                                                                                                                                                                                                                                                                                                                                                                                                                                                                                                                                                                                                                                                                           \n",
       "16 Invercargill, Gore        , Winton      , Te Anau     , Bluff       , Mataura     , Riverton                                                                                                                                                                                                                                                                                                                                                                                                                                                                                                                                                                                                                                                                                                                                                                                                                                                                                                                                \n",
       "17 NA                                                                                                                                                                                                                                                                                                                                                                                                                                                                                                                                                                                                                                                                                                                                                                                                                                                                                                                                                                                                                          \n",
       "18 NA                                                                                                                                                                                                                                                                                                                                                                                                                                                                                                                                                                                                                                                                                                                                                                                                                                                                                                                                                                                                                          "
      ]
     },
     "metadata": {},
     "output_type": "display_data"
    }
   ],
   "source": [
    "# Finilasing the DataFrame\n",
    "Districts_df %<>% mutate(Cities = Cities_list)\n",
    "Districts_df %<>% as.data.frame\n",
    "Districts_df"
   ]
  },
  {
   "cell_type": "markdown",
   "id": "4790d3b6-3295-4f0b-9da5-df1bec118303",
   "metadata": {},
   "source": [
    "### At this point I (Sam) imported my weather data's sites to create convert the cities to regions"
   ]
  },
  {
   "cell_type": "code",
   "execution_count": 65,
   "id": "c83e7289-c13f-4913-b854-ccf54979c938",
   "metadata": {},
   "outputs": [
    {
     "name": "stderr",
     "output_type": "stream",
     "text": [
      "\u001b[1mRows: \u001b[22m\u001b[34m30\u001b[39m \u001b[1mColumns: \u001b[22m\u001b[34m1\u001b[39m\n",
      "\u001b[36m──\u001b[39m \u001b[1mColumn specification\u001b[22m \u001b[36m────────────────────────────────────────────────────────\u001b[39m\n",
      "\u001b[1mDelimiter:\u001b[22m \",\"\n",
      "\u001b[31mchr\u001b[39m (1): Sites\n",
      "\n",
      "\u001b[36mℹ\u001b[39m Use `spec()` to retrieve the full column specification for this data.\n",
      "\u001b[36mℹ\u001b[39m Specify the column types or set `show_col_types = FALSE` to quiet this message.\n"
     ]
    },
    {
     "data": {
      "text/html": [
       "<style>\n",
       ".list-inline {list-style: none; margin:0; padding: 0}\n",
       ".list-inline>li {display: inline-block}\n",
       ".list-inline>li:not(:last-child)::after {content: \"\\00b7\"; padding: 0 .5ex}\n",
       "</style>\n",
       "<ol class=list-inline><li>'Auckland'</li><li>'Blenheim'</li><li>'Christchurch'</li><li>'Dannevirke'</li><li>'Dunedin'</li><li>'Gisborne'</li><li>'Gore'</li><li>'Hamilton'</li><li>'Hokitika'</li><li>'Invercargill'</li><li>'Kerikeri'</li><li>'Lake Tekapo'</li><li>'Masterton'</li><li>'Milford Sound'</li><li>'Napier'</li><li>'Nelson'</li><li>'New Plymouth'</li><li>'Queenstown'</li><li>'Reefton'</li><li>'Rotorua'</li><li>'Tara Hills'</li><li>'Taumarunui'</li><li>'Taupo'</li><li>'Tauranga'</li><li>'Timaru'</li><li>'Waiouru'</li><li>'Wellington'</li><li>'Whanganui'</li><li>'Whangaparaoa'</li><li>'Whangarei'</li></ol>\n"
      ],
      "text/latex": [
       "\\begin{enumerate*}\n",
       "\\item 'Auckland'\n",
       "\\item 'Blenheim'\n",
       "\\item 'Christchurch'\n",
       "\\item 'Dannevirke'\n",
       "\\item 'Dunedin'\n",
       "\\item 'Gisborne'\n",
       "\\item 'Gore'\n",
       "\\item 'Hamilton'\n",
       "\\item 'Hokitika'\n",
       "\\item 'Invercargill'\n",
       "\\item 'Kerikeri'\n",
       "\\item 'Lake Tekapo'\n",
       "\\item 'Masterton'\n",
       "\\item 'Milford Sound'\n",
       "\\item 'Napier'\n",
       "\\item 'Nelson'\n",
       "\\item 'New Plymouth'\n",
       "\\item 'Queenstown'\n",
       "\\item 'Reefton'\n",
       "\\item 'Rotorua'\n",
       "\\item 'Tara Hills'\n",
       "\\item 'Taumarunui'\n",
       "\\item 'Taupo'\n",
       "\\item 'Tauranga'\n",
       "\\item 'Timaru'\n",
       "\\item 'Waiouru'\n",
       "\\item 'Wellington'\n",
       "\\item 'Whanganui'\n",
       "\\item 'Whangaparaoa'\n",
       "\\item 'Whangarei'\n",
       "\\end{enumerate*}\n"
      ],
      "text/markdown": [
       "1. 'Auckland'\n",
       "2. 'Blenheim'\n",
       "3. 'Christchurch'\n",
       "4. 'Dannevirke'\n",
       "5. 'Dunedin'\n",
       "6. 'Gisborne'\n",
       "7. 'Gore'\n",
       "8. 'Hamilton'\n",
       "9. 'Hokitika'\n",
       "10. 'Invercargill'\n",
       "11. 'Kerikeri'\n",
       "12. 'Lake Tekapo'\n",
       "13. 'Masterton'\n",
       "14. 'Milford Sound'\n",
       "15. 'Napier'\n",
       "16. 'Nelson'\n",
       "17. 'New Plymouth'\n",
       "18. 'Queenstown'\n",
       "19. 'Reefton'\n",
       "20. 'Rotorua'\n",
       "21. 'Tara Hills'\n",
       "22. 'Taumarunui'\n",
       "23. 'Taupo'\n",
       "24. 'Tauranga'\n",
       "25. 'Timaru'\n",
       "26. 'Waiouru'\n",
       "27. 'Wellington'\n",
       "28. 'Whanganui'\n",
       "29. 'Whangaparaoa'\n",
       "30. 'Whangarei'\n",
       "\n",
       "\n"
      ],
      "text/plain": [
       " [1] \"Auckland\"      \"Blenheim\"      \"Christchurch\"  \"Dannevirke\"   \n",
       " [5] \"Dunedin\"       \"Gisborne\"      \"Gore\"          \"Hamilton\"     \n",
       " [9] \"Hokitika\"      \"Invercargill\"  \"Kerikeri\"      \"Lake Tekapo\"  \n",
       "[13] \"Masterton\"     \"Milford Sound\" \"Napier\"        \"Nelson\"       \n",
       "[17] \"New Plymouth\"  \"Queenstown\"    \"Reefton\"       \"Rotorua\"      \n",
       "[21] \"Tara Hills\"    \"Taumarunui\"    \"Taupo\"         \"Tauranga\"     \n",
       "[25] \"Timaru\"        \"Waiouru\"       \"Wellington\"    \"Whanganui\"    \n",
       "[29] \"Whangaparaoa\"  \"Whangarei\"    "
      ]
     },
     "metadata": {},
     "output_type": "display_data"
    }
   ],
   "source": [
    "# Importing the sites list from the weather data\n",
    "Sites_df = read_csv(\"Sites_df.csv\")\n",
    "Sites_df[[1]]"
   ]
  },
  {
   "cell_type": "code",
   "execution_count": 66,
   "id": "7333de48-f109-42a7-85e6-073409f3a52e",
   "metadata": {},
   "outputs": [
    {
     "data": {
      "text/html": [],
      "text/latex": [],
      "text/markdown": [],
      "text/plain": [
       "integer(0)"
      ]
     },
     "metadata": {},
     "output_type": "display_data"
    },
    {
     "data": {
      "text/html": [
       "1"
      ],
      "text/latex": [
       "1"
      ],
      "text/markdown": [
       "1"
      ],
      "text/plain": [
       "[1] 1"
      ]
     },
     "metadata": {},
     "output_type": "display_data"
    },
    {
     "data": {
      "text/html": [],
      "text/latex": [],
      "text/markdown": [],
      "text/plain": [
       "integer(0)"
      ]
     },
     "metadata": {},
     "output_type": "display_data"
    },
    {
     "data": {
      "text/html": [],
      "text/latex": [],
      "text/markdown": [],
      "text/plain": [
       "integer(0)"
      ]
     },
     "metadata": {},
     "output_type": "display_data"
    },
    {
     "data": {
      "text/html": [
       "6"
      ],
      "text/latex": [
       "6"
      ],
      "text/markdown": [
       "6"
      ],
      "text/plain": [
       "[1] 6"
      ]
     },
     "metadata": {},
     "output_type": "display_data"
    },
    {
     "data": {
      "text/html": [],
      "text/latex": [],
      "text/markdown": [],
      "text/plain": [
       "integer(0)"
      ]
     },
     "metadata": {},
     "output_type": "display_data"
    },
    {
     "data": {
      "text/html": [],
      "text/latex": [],
      "text/markdown": [],
      "text/plain": [
       "integer(0)"
      ]
     },
     "metadata": {},
     "output_type": "display_data"
    },
    {
     "data": {
      "text/html": [],
      "text/latex": [],
      "text/markdown": [],
      "text/plain": [
       "integer(0)"
      ]
     },
     "metadata": {},
     "output_type": "display_data"
    },
    {
     "data": {
      "text/html": [
       "27"
      ],
      "text/latex": [
       "27"
      ],
      "text/markdown": [
       "27"
      ],
      "text/plain": [
       "[1] 27"
      ]
     },
     "metadata": {},
     "output_type": "display_data"
    },
    {
     "data": {
      "text/html": [],
      "text/latex": [],
      "text/markdown": [],
      "text/plain": [
       "integer(0)"
      ]
     },
     "metadata": {},
     "output_type": "display_data"
    },
    {
     "data": {
      "text/html": [
       "16"
      ],
      "text/latex": [
       "16"
      ],
      "text/markdown": [
       "16"
      ],
      "text/plain": [
       "[1] 16"
      ]
     },
     "metadata": {},
     "output_type": "display_data"
    },
    {
     "data": {
      "text/html": [],
      "text/latex": [],
      "text/markdown": [],
      "text/plain": [
       "integer(0)"
      ]
     },
     "metadata": {},
     "output_type": "display_data"
    },
    {
     "data": {
      "text/html": [],
      "text/latex": [],
      "text/markdown": [],
      "text/plain": [
       "integer(0)"
      ]
     },
     "metadata": {},
     "output_type": "display_data"
    },
    {
     "data": {
      "text/html": [],
      "text/latex": [],
      "text/markdown": [],
      "text/plain": [
       "integer(0)"
      ]
     },
     "metadata": {},
     "output_type": "display_data"
    },
    {
     "data": {
      "text/html": [],
      "text/latex": [],
      "text/markdown": [],
      "text/plain": [
       "integer(0)"
      ]
     },
     "metadata": {},
     "output_type": "display_data"
    },
    {
     "data": {
      "text/html": [],
      "text/latex": [],
      "text/markdown": [],
      "text/plain": [
       "integer(0)"
      ]
     },
     "metadata": {},
     "output_type": "display_data"
    }
   ],
   "source": [
    "# Manualy checking which regions the cities belong to (unsure how to automate)\n",
    "which(Sites_df[[1]] %in% Districts_df[[1]][[1]])  #\n",
    "which(Sites_df[[1]] %in% Districts_df[[1]][[2]])  # 1\n",
    "which(Sites_df[[1]] %in% Districts_df[[1]][[3]])  #\n",
    "which(Sites_df[[1]] %in% Districts_df[[1]][[4]])  #\n",
    "which(Sites_df[[1]] %in% Districts_df[[1]][[5]])  # 6\n",
    "which(Sites_df[[1]] %in% Districts_df[[1]][[6]])  #\n",
    "which(Sites_df[[1]] %in% Districts_df[[1]][[7]])  #\n",
    "which(Sites_df[[1]] %in% Districts_df[[1]][[8]])  #\n",
    "which(Sites_df[[1]] %in% Districts_df[[1]][[9]])  # 27\n",
    "which(Sites_df[[1]] %in% Districts_df[[1]][[10]]) #\n",
    "which(Sites_df[[1]] %in% Districts_df[[1]][[11]]) # 16\n",
    "which(Sites_df[[1]] %in% Districts_df[[1]][[12]]) #\n",
    "which(Sites_df[[1]] %in% Districts_df[[1]][[13]]) #\n",
    "which(Sites_df[[1]] %in% Districts_df[[1]][[14]]) #\n",
    "which(Sites_df[[1]] %in% Districts_df[[1]][[15]]) #\n",
    "which(Sites_df[[1]] %in% Districts_df[[1]][[16]]) #"
   ]
  },
  {
   "cell_type": "code",
   "execution_count": 67,
   "id": "b89aa48d-1cb9-4eab-8026-517e36313fc8",
   "metadata": {},
   "outputs": [
    {
     "data": {
      "text/html": [
       "11"
      ],
      "text/latex": [
       "11"
      ],
      "text/markdown": [
       "11"
      ],
      "text/plain": [
       "[1] 11"
      ]
     },
     "metadata": {},
     "output_type": "display_data"
    },
    {
     "data": {
      "text/html": [
       "1"
      ],
      "text/latex": [
       "1"
      ],
      "text/markdown": [
       "1"
      ],
      "text/plain": [
       "[1] 1"
      ]
     },
     "metadata": {},
     "output_type": "display_data"
    },
    {
     "data": {
      "text/html": [
       "8"
      ],
      "text/latex": [
       "8"
      ],
      "text/markdown": [
       "8"
      ],
      "text/plain": [
       "[1] 8"
      ]
     },
     "metadata": {},
     "output_type": "display_data"
    },
    {
     "data": {
      "text/html": [
       "<style>\n",
       ".list-inline {list-style: none; margin:0; padding: 0}\n",
       ".list-inline>li {display: inline-block}\n",
       ".list-inline>li:not(:last-child)::after {content: \"\\00b7\"; padding: 0 .5ex}\n",
       "</style>\n",
       "<ol class=list-inline><li>20</li><li>24</li></ol>\n"
      ],
      "text/latex": [
       "\\begin{enumerate*}\n",
       "\\item 20\n",
       "\\item 24\n",
       "\\end{enumerate*}\n"
      ],
      "text/markdown": [
       "1. 20\n",
       "2. 24\n",
       "\n",
       "\n"
      ],
      "text/plain": [
       "[1] 20 24"
      ]
     },
     "metadata": {},
     "output_type": "display_data"
    },
    {
     "data": {
      "text/html": [],
      "text/latex": [],
      "text/markdown": [],
      "text/plain": [
       "integer(0)"
      ]
     },
     "metadata": {},
     "output_type": "display_data"
    },
    {
     "data": {
      "text/html": [
       "15"
      ],
      "text/latex": [
       "15"
      ],
      "text/markdown": [
       "15"
      ],
      "text/plain": [
       "[1] 15"
      ]
     },
     "metadata": {},
     "output_type": "display_data"
    },
    {
     "data": {
      "text/html": [
       "17"
      ],
      "text/latex": [
       "17"
      ],
      "text/markdown": [
       "17"
      ],
      "text/plain": [
       "[1] 17"
      ]
     },
     "metadata": {},
     "output_type": "display_data"
    },
    {
     "data": {
      "text/html": [
       "<style>\n",
       ".list-inline {list-style: none; margin:0; padding: 0}\n",
       ".list-inline>li {display: inline-block}\n",
       ".list-inline>li:not(:last-child)::after {content: \"\\00b7\"; padding: 0 .5ex}\n",
       "</style>\n",
       "<ol class=list-inline><li>4</li><li>22</li><li>26</li><li>28</li></ol>\n"
      ],
      "text/latex": [
       "\\begin{enumerate*}\n",
       "\\item 4\n",
       "\\item 22\n",
       "\\item 26\n",
       "\\item 28\n",
       "\\end{enumerate*}\n"
      ],
      "text/markdown": [
       "1. 4\n",
       "2. 22\n",
       "3. 26\n",
       "4. 28\n",
       "\n",
       "\n"
      ],
      "text/plain": [
       "[1]  4 22 26 28"
      ]
     },
     "metadata": {},
     "output_type": "display_data"
    },
    {
     "data": {
      "text/html": [
       "<style>\n",
       ".list-inline {list-style: none; margin:0; padding: 0}\n",
       ".list-inline>li {display: inline-block}\n",
       ".list-inline>li:not(:last-child)::after {content: \"\\00b7\"; padding: 0 .5ex}\n",
       "</style>\n",
       "<ol class=list-inline><li>13</li><li>27</li></ol>\n"
      ],
      "text/latex": [
       "\\begin{enumerate*}\n",
       "\\item 13\n",
       "\\item 27\n",
       "\\end{enumerate*}\n"
      ],
      "text/markdown": [
       "1. 13\n",
       "2. 27\n",
       "\n",
       "\n"
      ],
      "text/plain": [
       "[1] 13 27"
      ]
     },
     "metadata": {},
     "output_type": "display_data"
    },
    {
     "data": {
      "text/html": [],
      "text/latex": [],
      "text/markdown": [],
      "text/plain": [
       "integer(0)"
      ]
     },
     "metadata": {},
     "output_type": "display_data"
    },
    {
     "data": {
      "text/html": [],
      "text/latex": [],
      "text/markdown": [],
      "text/plain": [
       "integer(0)"
      ]
     },
     "metadata": {},
     "output_type": "display_data"
    },
    {
     "data": {
      "text/html": [
       "2"
      ],
      "text/latex": [
       "2"
      ],
      "text/markdown": [
       "2"
      ],
      "text/plain": [
       "[1] 2"
      ]
     },
     "metadata": {},
     "output_type": "display_data"
    },
    {
     "data": {
      "text/html": [
       "<style>\n",
       ".list-inline {list-style: none; margin:0; padding: 0}\n",
       ".list-inline>li {display: inline-block}\n",
       ".list-inline>li:not(:last-child)::after {content: \"\\00b7\"; padding: 0 .5ex}\n",
       "</style>\n",
       "<ol class=list-inline><li>9</li><li>19</li></ol>\n"
      ],
      "text/latex": [
       "\\begin{enumerate*}\n",
       "\\item 9\n",
       "\\item 19\n",
       "\\end{enumerate*}\n"
      ],
      "text/markdown": [
       "1. 9\n",
       "2. 19\n",
       "\n",
       "\n"
      ],
      "text/plain": [
       "[1]  9 19"
      ]
     },
     "metadata": {},
     "output_type": "display_data"
    },
    {
     "data": {
      "text/html": [
       "<style>\n",
       ".list-inline {list-style: none; margin:0; padding: 0}\n",
       ".list-inline>li {display: inline-block}\n",
       ".list-inline>li:not(:last-child)::after {content: \"\\00b7\"; padding: 0 .5ex}\n",
       "</style>\n",
       "<ol class=list-inline><li>3</li><li>25</li></ol>\n"
      ],
      "text/latex": [
       "\\begin{enumerate*}\n",
       "\\item 3\n",
       "\\item 25\n",
       "\\end{enumerate*}\n"
      ],
      "text/markdown": [
       "1. 3\n",
       "2. 25\n",
       "\n",
       "\n"
      ],
      "text/plain": [
       "[1]  3 25"
      ]
     },
     "metadata": {},
     "output_type": "display_data"
    },
    {
     "data": {
      "text/html": [
       "<style>\n",
       ".list-inline {list-style: none; margin:0; padding: 0}\n",
       ".list-inline>li {display: inline-block}\n",
       ".list-inline>li:not(:last-child)::after {content: \"\\00b7\"; padding: 0 .5ex}\n",
       "</style>\n",
       "<ol class=list-inline><li>5</li><li>18</li></ol>\n"
      ],
      "text/latex": [
       "\\begin{enumerate*}\n",
       "\\item 5\n",
       "\\item 18\n",
       "\\end{enumerate*}\n"
      ],
      "text/markdown": [
       "1. 5\n",
       "2. 18\n",
       "\n",
       "\n"
      ],
      "text/plain": [
       "[1]  5 18"
      ]
     },
     "metadata": {},
     "output_type": "display_data"
    },
    {
     "data": {
      "text/html": [
       "<style>\n",
       ".list-inline {list-style: none; margin:0; padding: 0}\n",
       ".list-inline>li {display: inline-block}\n",
       ".list-inline>li:not(:last-child)::after {content: \"\\00b7\"; padding: 0 .5ex}\n",
       "</style>\n",
       "<ol class=list-inline><li>7</li><li>10</li></ol>\n"
      ],
      "text/latex": [
       "\\begin{enumerate*}\n",
       "\\item 7\n",
       "\\item 10\n",
       "\\end{enumerate*}\n"
      ],
      "text/markdown": [
       "1. 7\n",
       "2. 10\n",
       "\n",
       "\n"
      ],
      "text/plain": [
       "[1]  7 10"
      ]
     },
     "metadata": {},
     "output_type": "display_data"
    }
   ],
   "source": [
    "# Manualy checking which regions the cities belong to (unsure how to automate)\n",
    "which(Sites_df[[1]] %in% Districts_df[[4]][[1]])  # 11\n",
    "which(Sites_df[[1]] %in% Districts_df[[4]][[2]])  # 1\n",
    "which(Sites_df[[1]] %in% Districts_df[[4]][[3]])  # 8\n",
    "which(Sites_df[[1]] %in% Districts_df[[4]][[4]])  # 20,24\n",
    "which(Sites_df[[1]] %in% Districts_df[[4]][[5]])  #\n",
    "which(Sites_df[[1]] %in% Districts_df[[4]][[6]])  # 15\n",
    "which(Sites_df[[1]] %in% Districts_df[[4]][[7]])  # 17\n",
    "which(Sites_df[[1]] %in% Districts_df[[4]][[8]])  # 4,22,26,28\n",
    "which(Sites_df[[1]] %in% Districts_df[[4]][[9]])  # 13,27\n",
    "which(Sites_df[[1]] %in% Districts_df[[4]][[10]]) #\n",
    "which(Sites_df[[1]] %in% Districts_df[[4]][[11]]) #\n",
    "which(Sites_df[[1]] %in% Districts_df[[4]][[12]]) # 2\n",
    "which(Sites_df[[1]] %in% Districts_df[[4]][[13]]) # 9,19\n",
    "which(Sites_df[[1]] %in% Districts_df[[4]][[14]]) # 3,25\n",
    "which(Sites_df[[1]] %in% Districts_df[[4]][[15]]) # 5,18\n",
    "which(Sites_df[[1]] %in% Districts_df[[4]][[16]]) # 7,10"
   ]
  },
  {
   "cell_type": "code",
   "execution_count": 68,
   "id": "1ee28932-4e1d-4455-8c42-9f2f0bc28300",
   "metadata": {},
   "outputs": [
    {
     "data": {
      "text/html": [
       "<style>\n",
       ".list-inline {list-style: none; margin:0; padding: 0}\n",
       ".list-inline>li {display: inline-block}\n",
       ".list-inline>li:not(:last-child)::after {content: \"\\00b7\"; padding: 0 .5ex}\n",
       "</style>\n",
       "<ol class=list-inline><li>'Auckland'</li><li>'Marlborough'</li><li>'Canterbury'</li><li>'Manawatū-Whanganui'</li><li>'Otago'</li><li>'Gisborne'</li><li>'Southland'</li><li>'Waikato'</li><li>'West Coast'</li><li>'Southland'</li><li>'Northland'</li><li>'Canterbury'</li><li>'Wellington'</li><li>'Southland'</li><li>'Hawke\\'s Bay'</li><li>'Nelson'</li><li>'Taranaki'</li><li>'Otago'</li><li>'West Coast'</li><li>'Bay of Plenty'</li><li>'Otago'</li><li>'Manawatū-Whanganui'</li><li>'Waikato'</li><li>'Bay of Plenty'</li><li>'Canterbury'</li><li>'Manawatū-Whanganui'</li><li>'Wellington'</li><li>'Manawatū-Whanganui'</li><li>'Auckland'</li><li>'Northland'</li></ol>\n"
      ],
      "text/latex": [
       "\\begin{enumerate*}\n",
       "\\item 'Auckland'\n",
       "\\item 'Marlborough'\n",
       "\\item 'Canterbury'\n",
       "\\item 'Manawatū-Whanganui'\n",
       "\\item 'Otago'\n",
       "\\item 'Gisborne'\n",
       "\\item 'Southland'\n",
       "\\item 'Waikato'\n",
       "\\item 'West Coast'\n",
       "\\item 'Southland'\n",
       "\\item 'Northland'\n",
       "\\item 'Canterbury'\n",
       "\\item 'Wellington'\n",
       "\\item 'Southland'\n",
       "\\item 'Hawke\\textbackslash{}'s Bay'\n",
       "\\item 'Nelson'\n",
       "\\item 'Taranaki'\n",
       "\\item 'Otago'\n",
       "\\item 'West Coast'\n",
       "\\item 'Bay of Plenty'\n",
       "\\item 'Otago'\n",
       "\\item 'Manawatū-Whanganui'\n",
       "\\item 'Waikato'\n",
       "\\item 'Bay of Plenty'\n",
       "\\item 'Canterbury'\n",
       "\\item 'Manawatū-Whanganui'\n",
       "\\item 'Wellington'\n",
       "\\item 'Manawatū-Whanganui'\n",
       "\\item 'Auckland'\n",
       "\\item 'Northland'\n",
       "\\end{enumerate*}\n"
      ],
      "text/markdown": [
       "1. 'Auckland'\n",
       "2. 'Marlborough'\n",
       "3. 'Canterbury'\n",
       "4. 'Manawatū-Whanganui'\n",
       "5. 'Otago'\n",
       "6. 'Gisborne'\n",
       "7. 'Southland'\n",
       "8. 'Waikato'\n",
       "9. 'West Coast'\n",
       "10. 'Southland'\n",
       "11. 'Northland'\n",
       "12. 'Canterbury'\n",
       "13. 'Wellington'\n",
       "14. 'Southland'\n",
       "15. 'Hawke\\'s Bay'\n",
       "16. 'Nelson'\n",
       "17. 'Taranaki'\n",
       "18. 'Otago'\n",
       "19. 'West Coast'\n",
       "20. 'Bay of Plenty'\n",
       "21. 'Otago'\n",
       "22. 'Manawatū-Whanganui'\n",
       "23. 'Waikato'\n",
       "24. 'Bay of Plenty'\n",
       "25. 'Canterbury'\n",
       "26. 'Manawatū-Whanganui'\n",
       "27. 'Wellington'\n",
       "28. 'Manawatū-Whanganui'\n",
       "29. 'Auckland'\n",
       "30. 'Northland'\n",
       "\n",
       "\n"
      ],
      "text/plain": [
       " [1] \"Auckland\"           \"Marlborough\"        \"Canterbury\"        \n",
       " [4] \"Manawatū-Whanganui\" \"Otago\"              \"Gisborne\"          \n",
       " [7] \"Southland\"          \"Waikato\"            \"West Coast\"        \n",
       "[10] \"Southland\"          \"Northland\"          \"Canterbury\"        \n",
       "[13] \"Wellington\"         \"Southland\"          \"Hawke's Bay\"       \n",
       "[16] \"Nelson\"             \"Taranaki\"           \"Otago\"             \n",
       "[19] \"West Coast\"         \"Bay of Plenty\"      \"Otago\"             \n",
       "[22] \"Manawatū-Whanganui\" \"Waikato\"            \"Bay of Plenty\"     \n",
       "[25] \"Canterbury\"         \"Manawatū-Whanganui\" \"Wellington\"        \n",
       "[28] \"Manawatū-Whanganui\" \"Auckland\"           \"Northland\"         "
      ]
     },
     "metadata": {},
     "output_type": "display_data"
    }
   ],
   "source": [
    "# Creating a corresponding region list.\n",
    "# Lake Tekapo, Milford Sound, Tara Hills, & Whangaparaoa are not in the dataframe so I googled to manually find their region.\n",
    "# Taupo & Whangarei were in the dataframe but spelt differently.\n",
    "Sites_regions <- c(Districts_df[[1]][[2]],\n",
    "                   Districts_df[[1]][[12]],\n",
    "                   Districts_df[[1]][[14]],\n",
    "                   Districts_df[[1]][[8]],\n",
    "                   Districts_df[[1]][[15]],\n",
    "                   Districts_df[[1]][[5]],\n",
    "                   Districts_df[[1]][[16]],\n",
    "                   Districts_df[[1]][[3]],\n",
    "                   Districts_df[[1]][[13]],\n",
    "                   Districts_df[[1]][[16]],\n",
    "                   Districts_df[[1]][[1]],\n",
    "                   Districts_df[[1]][[14]], # Cantebury\n",
    "                   Districts_df[[1]][[9]],\n",
    "                   Districts_df[[1]][[16]], # Southland\n",
    "                   Districts_df[[1]][[6]],\n",
    "                   Districts_df[[1]][[11]],\n",
    "                   Districts_df[[1]][[7]],\n",
    "                   Districts_df[[1]][[15]],\n",
    "                   Districts_df[[1]][[13]],\n",
    "                   Districts_df[[1]][[4]],\n",
    "                   Districts_df[[1]][[15]], # Otago\n",
    "                   Districts_df[[1]][[8]],\n",
    "                   Districts_df[[1]][[3]], # Waikato (spelling)\n",
    "                   Districts_df[[1]][[4]],\n",
    "                   Districts_df[[1]][[14]],\n",
    "                   Districts_df[[1]][[8]],\n",
    "                   Districts_df[[1]][[9]],\n",
    "                   Districts_df[[1]][[8]],\n",
    "                   Districts_df[[1]][[2]], # Auckland\n",
    "                   Districts_df[[1]][[1]]) # Northland (spelling)\n",
    "Sites_regions            "
   ]
  },
  {
   "cell_type": "code",
   "execution_count": 69,
   "id": "f3af868b-a3b2-4fe2-a921-612e99dc9ac3",
   "metadata": {},
   "outputs": [
    {
     "data": {
      "text/html": [
       "<table class=\"dataframe\">\n",
       "<caption>A tibble: 30 × 2</caption>\n",
       "<thead>\n",
       "\t<tr><th scope=col>Sites</th><th scope=col>Regions</th></tr>\n",
       "\t<tr><th scope=col>&lt;chr&gt;</th><th scope=col>&lt;chr&gt;</th></tr>\n",
       "</thead>\n",
       "<tbody>\n",
       "\t<tr><td>Auckland     </td><td>Auckland          </td></tr>\n",
       "\t<tr><td>Blenheim     </td><td>Marlborough       </td></tr>\n",
       "\t<tr><td>Christchurch </td><td>Canterbury        </td></tr>\n",
       "\t<tr><td>Dannevirke   </td><td>Manawatū-Whanganui</td></tr>\n",
       "\t<tr><td>Dunedin      </td><td>Otago             </td></tr>\n",
       "\t<tr><td>Gisborne     </td><td>Gisborne          </td></tr>\n",
       "\t<tr><td>Gore         </td><td>Southland         </td></tr>\n",
       "\t<tr><td>Hamilton     </td><td>Waikato           </td></tr>\n",
       "\t<tr><td>Hokitika     </td><td>West Coast        </td></tr>\n",
       "\t<tr><td>Invercargill </td><td>Southland         </td></tr>\n",
       "\t<tr><td>Kerikeri     </td><td>Northland         </td></tr>\n",
       "\t<tr><td>Lake Tekapo  </td><td>Canterbury        </td></tr>\n",
       "\t<tr><td>Masterton    </td><td>Wellington        </td></tr>\n",
       "\t<tr><td>Milford Sound</td><td>Southland         </td></tr>\n",
       "\t<tr><td>Napier       </td><td>Hawke's Bay       </td></tr>\n",
       "\t<tr><td>Nelson       </td><td>Nelson            </td></tr>\n",
       "\t<tr><td>New Plymouth </td><td>Taranaki          </td></tr>\n",
       "\t<tr><td>Queenstown   </td><td>Otago             </td></tr>\n",
       "\t<tr><td>Reefton      </td><td>West Coast        </td></tr>\n",
       "\t<tr><td>Rotorua      </td><td>Bay of Plenty     </td></tr>\n",
       "\t<tr><td>Tara Hills   </td><td>Otago             </td></tr>\n",
       "\t<tr><td>Taumarunui   </td><td>Manawatū-Whanganui</td></tr>\n",
       "\t<tr><td>Taupo        </td><td>Waikato           </td></tr>\n",
       "\t<tr><td>Tauranga     </td><td>Bay of Plenty     </td></tr>\n",
       "\t<tr><td>Timaru       </td><td>Canterbury        </td></tr>\n",
       "\t<tr><td>Waiouru      </td><td>Manawatū-Whanganui</td></tr>\n",
       "\t<tr><td>Wellington   </td><td>Wellington        </td></tr>\n",
       "\t<tr><td>Whanganui    </td><td>Manawatū-Whanganui</td></tr>\n",
       "\t<tr><td>Whangaparaoa </td><td>Auckland          </td></tr>\n",
       "\t<tr><td>Whangarei    </td><td>Northland         </td></tr>\n",
       "</tbody>\n",
       "</table>\n"
      ],
      "text/latex": [
       "A tibble: 30 × 2\n",
       "\\begin{tabular}{ll}\n",
       " Sites & Regions\\\\\n",
       " <chr> & <chr>\\\\\n",
       "\\hline\n",
       "\t Auckland      & Auckland          \\\\\n",
       "\t Blenheim      & Marlborough       \\\\\n",
       "\t Christchurch  & Canterbury        \\\\\n",
       "\t Dannevirke    & Manawatū-Whanganui\\\\\n",
       "\t Dunedin       & Otago             \\\\\n",
       "\t Gisborne      & Gisborne          \\\\\n",
       "\t Gore          & Southland         \\\\\n",
       "\t Hamilton      & Waikato           \\\\\n",
       "\t Hokitika      & West Coast        \\\\\n",
       "\t Invercargill  & Southland         \\\\\n",
       "\t Kerikeri      & Northland         \\\\\n",
       "\t Lake Tekapo   & Canterbury        \\\\\n",
       "\t Masterton     & Wellington        \\\\\n",
       "\t Milford Sound & Southland         \\\\\n",
       "\t Napier        & Hawke's Bay       \\\\\n",
       "\t Nelson        & Nelson            \\\\\n",
       "\t New Plymouth  & Taranaki          \\\\\n",
       "\t Queenstown    & Otago             \\\\\n",
       "\t Reefton       & West Coast        \\\\\n",
       "\t Rotorua       & Bay of Plenty     \\\\\n",
       "\t Tara Hills    & Otago             \\\\\n",
       "\t Taumarunui    & Manawatū-Whanganui\\\\\n",
       "\t Taupo         & Waikato           \\\\\n",
       "\t Tauranga      & Bay of Plenty     \\\\\n",
       "\t Timaru        & Canterbury        \\\\\n",
       "\t Waiouru       & Manawatū-Whanganui\\\\\n",
       "\t Wellington    & Wellington        \\\\\n",
       "\t Whanganui     & Manawatū-Whanganui\\\\\n",
       "\t Whangaparaoa  & Auckland          \\\\\n",
       "\t Whangarei     & Northland         \\\\\n",
       "\\end{tabular}\n"
      ],
      "text/markdown": [
       "\n",
       "A tibble: 30 × 2\n",
       "\n",
       "| Sites &lt;chr&gt; | Regions &lt;chr&gt; |\n",
       "|---|---|\n",
       "| Auckland      | Auckland           |\n",
       "| Blenheim      | Marlborough        |\n",
       "| Christchurch  | Canterbury         |\n",
       "| Dannevirke    | Manawatū-Whanganui |\n",
       "| Dunedin       | Otago              |\n",
       "| Gisborne      | Gisborne           |\n",
       "| Gore          | Southland          |\n",
       "| Hamilton      | Waikato            |\n",
       "| Hokitika      | West Coast         |\n",
       "| Invercargill  | Southland          |\n",
       "| Kerikeri      | Northland          |\n",
       "| Lake Tekapo   | Canterbury         |\n",
       "| Masterton     | Wellington         |\n",
       "| Milford Sound | Southland          |\n",
       "| Napier        | Hawke's Bay        |\n",
       "| Nelson        | Nelson             |\n",
       "| New Plymouth  | Taranaki           |\n",
       "| Queenstown    | Otago              |\n",
       "| Reefton       | West Coast         |\n",
       "| Rotorua       | Bay of Plenty      |\n",
       "| Tara Hills    | Otago              |\n",
       "| Taumarunui    | Manawatū-Whanganui |\n",
       "| Taupo         | Waikato            |\n",
       "| Tauranga      | Bay of Plenty      |\n",
       "| Timaru        | Canterbury         |\n",
       "| Waiouru       | Manawatū-Whanganui |\n",
       "| Wellington    | Wellington         |\n",
       "| Whanganui     | Manawatū-Whanganui |\n",
       "| Whangaparaoa  | Auckland           |\n",
       "| Whangarei     | Northland          |\n",
       "\n"
      ],
      "text/plain": [
       "   Sites         Regions           \n",
       "1  Auckland      Auckland          \n",
       "2  Blenheim      Marlborough       \n",
       "3  Christchurch  Canterbury        \n",
       "4  Dannevirke    Manawatū-Whanganui\n",
       "5  Dunedin       Otago             \n",
       "6  Gisborne      Gisborne          \n",
       "7  Gore          Southland         \n",
       "8  Hamilton      Waikato           \n",
       "9  Hokitika      West Coast        \n",
       "10 Invercargill  Southland         \n",
       "11 Kerikeri      Northland         \n",
       "12 Lake Tekapo   Canterbury        \n",
       "13 Masterton     Wellington        \n",
       "14 Milford Sound Southland         \n",
       "15 Napier        Hawke's Bay       \n",
       "16 Nelson        Nelson            \n",
       "17 New Plymouth  Taranaki          \n",
       "18 Queenstown    Otago             \n",
       "19 Reefton       West Coast        \n",
       "20 Rotorua       Bay of Plenty     \n",
       "21 Tara Hills    Otago             \n",
       "22 Taumarunui    Manawatū-Whanganui\n",
       "23 Taupo         Waikato           \n",
       "24 Tauranga      Bay of Plenty     \n",
       "25 Timaru        Canterbury        \n",
       "26 Waiouru       Manawatū-Whanganui\n",
       "27 Wellington    Wellington        \n",
       "28 Whanganui     Manawatū-Whanganui\n",
       "29 Whangaparaoa  Auckland          \n",
       "30 Whangarei     Northland         "
      ]
     },
     "metadata": {},
     "output_type": "display_data"
    }
   ],
   "source": [
    "Sites_df %<>% mutate(Regions = Sites_regions)\n",
    "Sites_df"
   ]
  },
  {
   "cell_type": "code",
   "execution_count": 129,
   "id": "13c8c165-1c8c-44c9-b5e0-ddfa6b822a2f",
   "metadata": {},
   "outputs": [],
   "source": [
    "# Saving the appended dataframe as a csv\n",
    "# For use with the DATA422_Weather_Data notebook\n",
    "Sites_df %>% write_csv(\"Sites_df_v2.csv\")"
   ]
  },
  {
   "cell_type": "code",
   "execution_count": 130,
   "id": "1fdfc940-a147-4f66-8af3-aee761d01ee4",
   "metadata": {},
   "outputs": [],
   "source": [
    "# Making a list of the regions and saving as a csv\n",
    "# For use with the DATA422_Final_Dataset notebook\n",
    "Districts_df[[1]] %>% unlist() %>% sort() %>% as.data.frame() %>% write_csv(\"Region_list.csv\")"
   ]
  },
  {
   "cell_type": "code",
   "execution_count": null,
   "id": "f43677e9-4eee-4d51-99d4-134404a7f94d",
   "metadata": {},
   "outputs": [],
   "source": []
  }
 ],
 "metadata": {
  "kernelspec": {
   "display_name": "R",
   "language": "R",
   "name": "ir"
  },
  "language_info": {
   "codemirror_mode": "r",
   "file_extension": ".r",
   "mimetype": "text/x-r-source",
   "name": "R",
   "pygments_lexer": "r",
   "version": "4.2.1"
  }
 },
 "nbformat": 4,
 "nbformat_minor": 5
}
