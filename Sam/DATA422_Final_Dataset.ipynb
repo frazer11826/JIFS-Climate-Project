{
 "cells": [
  {
   "cell_type": "markdown",
   "id": "47dd50e9-9d6d-426d-852a-e514873140aa",
   "metadata": {},
   "source": [
    "# DATA 422 Group Project\n",
    "## Final Dataset\n",
    "### Samuel Love - 84107034"
   ]
  },
  {
   "cell_type": "markdown",
   "id": "08b74059-4388-4286-bfc9-599983242839",
   "metadata": {},
   "source": [
    "The goal of this notebook is to collect all the groups datasets join them as appropriate to produce final dataframes.\n",
    "\n",
    "Sea-level data consists of predictions so will remain as its own dataframe.\n",
    "\n",
    "The other dataframe will consist of weather, migration, and earthquake data joined by regions of New Zealand. This dataframe will cover the years 2014, 2015, 2016, and 2017. "
   ]
  },
  {
   "cell_type": "code",
   "execution_count": 1,
   "id": "a646a419-af66-4ef9-ac20-e2de9ddd0404",
   "metadata": {},
   "outputs": [],
   "source": [
    "# Selecting packages (Use Pkg.add(\"example\") if not installed)\n",
    "using Pkg, Queryverse, VegaDatasets, VegaLite, DataFrames"
   ]
  },
  {
   "cell_type": "code",
   "execution_count": 2,
   "id": "8ceb5f38-7687-43ea-9cb3-83024cfd5719",
   "metadata": {},
   "outputs": [
    {
     "data": {
      "application/vnd.dataresource+json": {
       "data": [
        {
         ".": "Auckland"
        },
        {
         ".": "Bay of Plenty"
        },
        {
         ".": "Canterbury"
        },
        {
         ".": "Gisborne"
        },
        {
         ".": "Hawke's Bay"
        },
        {
         ".": "Manawatū-Whanganui"
        },
        {
         ".": "Marlborough"
        },
        {
         ".": "Nelson"
        },
        {
         ".": "Northland"
        },
        {
         ".": "Otago"
        },
        {
         ".": "Southland"
        },
        {
         ".": "Taranaki"
        },
        {
         ".": "Tasman"
        },
        {
         ".": "Waikato"
        },
        {
         ".": "Wellington"
        },
        {
         ".": "West Coast"
        }
       ],
       "schema": {
        "fields": [
         {
          "name": ".",
          "type": "string"
         }
        ]
       }
      },
      "text/html": [
       "<table><thead><tr><th>.</th></tr></thead><tbody><tr><td>&quot;Auckland&quot;</td></tr><tr><td>&quot;Bay of Plenty&quot;</td></tr><tr><td>&quot;Canterbury&quot;</td></tr><tr><td>&quot;Gisborne&quot;</td></tr><tr><td>&quot;Hawke&#39;s Bay&quot;</td></tr><tr><td>&quot;Manawatū-Whanganui&quot;</td></tr><tr><td>&quot;Marlborough&quot;</td></tr><tr><td>&quot;Nelson&quot;</td></tr><tr><td>&quot;Northland&quot;</td></tr><tr><td>&quot;Otago&quot;</td></tr><tr><td>&vellip;</td></tr></tbody></table><p>... with 6 more rows.</p>"
      ],
      "text/plain": [
       "16x1 CSV file\n",
       ".                 \n",
       "──────────────────\n",
       "Auckland          \n",
       "Bay of Plenty     \n",
       "Canterbury        \n",
       "Gisborne          \n",
       "Hawke's Bay       \n",
       "Manawatū-Whanganui\n",
       "Marlborough       \n",
       "Nelson            \n",
       "Northland         \n",
       "Otago             \n",
       "... with 6 more rows"
      ]
     },
     "execution_count": 2,
     "metadata": {},
     "output_type": "execute_result"
    }
   ],
   "source": [
    "# Loading the csvs (ensure this notebook and data are in the same directory, else quote the path to the data)\n",
    "Earthquake = load(\"Earthquake_data.csv\")\n",
    "Migration = load(\"Migration_data.csv\")\n",
    "Weather = load(\"Weather_data.csv\")\n",
    "Regions = load(\"Region_list.csv\")"
   ]
  },
  {
   "cell_type": "code",
   "execution_count": 3,
   "id": "4815a5ef-ac76-49eb-83c6-8b784b2e4bf3",
   "metadata": {},
   "outputs": [
    {
     "data": {
      "text/html": [
       "<div><div style = \"float: left;\"><span>5×7 DataFrame</span></div><div style = \"clear: both;\"></div></div><div class = \"data-frame\" style = \"overflow-x: scroll;\"><table class = \"data-frame\" style = \"margin-bottom: 6px;\"><thead><tr class = \"header\"><th class = \"rowNumber\" style = \"font-weight: bold; text-align: right;\">Row</th><th style = \"text-align: left;\">variable</th><th style = \"text-align: left;\">mean</th><th style = \"text-align: left;\">min</th><th style = \"text-align: left;\">median</th><th style = \"text-align: left;\">max</th><th style = \"text-align: left;\">nmissing</th><th style = \"text-align: left;\">eltype</th></tr><tr class = \"subheader headerLastRow\"><th class = \"rowNumber\" style = \"font-weight: bold; text-align: right;\"></th><th title = \"Symbol\" style = \"text-align: left;\">Symbol</th><th title = \"Union{Nothing, Float64}\" style = \"text-align: left;\">Union…</th><th title = \"Any\" style = \"text-align: left;\">Any</th><th title = \"Union{Nothing, Float64}\" style = \"text-align: left;\">Union…</th><th title = \"Any\" style = \"text-align: left;\">Any</th><th title = \"Int64\" style = \"text-align: left;\">Int64</th><th title = \"Type\" style = \"text-align: left;\">Type</th></tr></thead><tbody><tr><td class = \"rowNumber\" style = \"font-weight: bold; text-align: right;\">1</td><td style = \"text-align: left;\">year</td><td style = \"text-align: left;\">2015.51</td><td style = \"text-align: left;\">2014</td><td style = \"text-align: left;\">2015.0</td><td style = \"text-align: left;\">2017</td><td style = \"text-align: right;\">0</td><td style = \"text-align: left;\">Int64</td></tr><tr><td class = \"rowNumber\" style = \"font-weight: bold; text-align: right;\">2</td><td style = \"text-align: left;\">REGC2022_2</td><td style = \"font-style: italic; text-align: left;\"></td><td style = \"text-align: left;\">Bay of Plenty Region</td><td style = \"font-style: italic; text-align: left;\"></td><td style = \"text-align: left;\">West Coast Region</td><td style = \"text-align: right;\">0</td><td style = \"text-align: left;\">String</td></tr><tr><td class = \"rowNumber\" style = \"font-weight: bold; text-align: right;\">3</td><td style = \"text-align: left;\">REGC2022_V</td><td style = \"text-align: left;\">10.0784</td><td style = \"text-align: left;\">3</td><td style = \"text-align: left;\">9.0</td><td style = \"text-align: left;\">18</td><td style = \"text-align: right;\">4</td><td style = \"text-align: left;\">Union{Missing, Int64}</td></tr><tr><td class = \"rowNumber\" style = \"font-weight: bold; text-align: right;\">4</td><td style = \"text-align: left;\">count_quakes</td><td style = \"text-align: left;\">41.1818</td><td style = \"text-align: left;\">1</td><td style = \"text-align: left;\">6.0</td><td style = \"text-align: left;\">435</td><td style = \"text-align: right;\">0</td><td style = \"text-align: left;\">Int64</td></tr><tr><td class = \"rowNumber\" style = \"font-weight: bold; text-align: right;\">5</td><td style = \"text-align: left;\">ave_mag</td><td style = \"text-align: left;\">4.38395</td><td style = \"text-align: left;\">4.0192</td><td style = \"text-align: left;\">4.4225</td><td style = \"text-align: left;\">4.64012</td><td style = \"text-align: right;\">0</td><td style = \"text-align: left;\">Float64</td></tr></tbody></table></div>"
      ],
      "text/latex": [
       "\\begin{tabular}{r|ccccccc}\n",
       "\t& variable & mean & min & median & max & nmissing & \\\\\n",
       "\t\\hline\n",
       "\t& Symbol & Union… & Any & Union… & Any & Int64 & \\\\\n",
       "\t\\hline\n",
       "\t1 & year & 2015.51 & 2014 & 2015.0 & 2017 & 0 & $\\dots$ \\\\\n",
       "\t2 & REGC2022\\_2 &  & Bay of Plenty Region &  & West Coast Region & 0 & $\\dots$ \\\\\n",
       "\t3 & REGC2022\\_V & 10.0784 & 3 & 9.0 & 18 & 4 & $\\dots$ \\\\\n",
       "\t4 & count\\_quakes & 41.1818 & 1 & 6.0 & 435 & 0 & $\\dots$ \\\\\n",
       "\t5 & ave\\_mag & 4.38395 & 4.0192 & 4.4225 & 4.64012 & 0 & $\\dots$ \\\\\n",
       "\\end{tabular}\n"
      ],
      "text/plain": [
       "\u001b[1m5×7 DataFrame\u001b[0m\n",
       "\u001b[1m Row \u001b[0m│\u001b[1m variable     \u001b[0m\u001b[1m mean    \u001b[0m\u001b[1m min                  \u001b[0m\u001b[1m median \u001b[0m\u001b[1m max               \u001b[0m\u001b[1m\u001b[0m ⋯\n",
       "     │\u001b[90m Symbol       \u001b[0m\u001b[90m Union…  \u001b[0m\u001b[90m Any                  \u001b[0m\u001b[90m Union… \u001b[0m\u001b[90m Any               \u001b[0m\u001b[90m\u001b[0m ⋯\n",
       "─────┼──────────────────────────────────────────────────────────────────────────\n",
       "   1 │ year          2015.51  2014                  2015.0  2017               ⋯\n",
       "   2 │ REGC2022_2   \u001b[90m         \u001b[0m Bay of Plenty Region \u001b[90m        \u001b[0m West Coast Region\n",
       "   3 │ REGC2022_V    10.0784  3                     9.0     18\n",
       "   4 │ count_quakes  41.1818  1                     6.0     435\n",
       "   5 │ ave_mag       4.38395  4.0192                4.4225  4.64012            ⋯\n",
       "\u001b[36m                                                               2 columns omitted\u001b[0m"
      ]
     },
     "execution_count": 3,
     "metadata": {},
     "output_type": "execute_result"
    }
   ],
   "source": [
    "# Transforming the csv files into dataframes\n",
    "Earthquake = Earthquake |> DataFrame\n",
    "Earthquake |> describe"
   ]
  },
  {
   "cell_type": "code",
   "execution_count": 4,
   "id": "845d10bc-fac2-4c16-b518-13753392146d",
   "metadata": {},
   "outputs": [
    {
     "data": {
      "text/html": [
       "<div><div style = \"float: left;\"><span>5×7 DataFrame</span></div><div style = \"clear: both;\"></div></div><div class = \"data-frame\" style = \"overflow-x: scroll;\"><table class = \"data-frame\" style = \"margin-bottom: 6px;\"><thead><tr class = \"header\"><th class = \"rowNumber\" style = \"font-weight: bold; text-align: right;\">Row</th><th style = \"text-align: left;\">variable</th><th style = \"text-align: left;\">mean</th><th style = \"text-align: left;\">min</th><th style = \"text-align: left;\">median</th><th style = \"text-align: left;\">max</th><th style = \"text-align: left;\">nmissing</th><th style = \"text-align: left;\">eltype</th></tr><tr class = \"subheader headerLastRow\"><th class = \"rowNumber\" style = \"font-weight: bold; text-align: right;\"></th><th title = \"Symbol\" style = \"text-align: left;\">Symbol</th><th title = \"Union{Nothing, Float64}\" style = \"text-align: left;\">Union…</th><th title = \"Any\" style = \"text-align: left;\">Any</th><th title = \"Union{Nothing, Float64}\" style = \"text-align: left;\">Union…</th><th title = \"Any\" style = \"text-align: left;\">Any</th><th title = \"Int64\" style = \"text-align: left;\">Int64</th><th title = \"DataType\" style = \"text-align: left;\">DataType</th></tr></thead><tbody><tr><td class = \"rowNumber\" style = \"font-weight: bold; text-align: right;\">1</td><td style = \"text-align: left;\">Region</td><td style = \"font-style: italic; text-align: left;\"></td><td style = \"text-align: left;\">Auckland</td><td style = \"font-style: italic; text-align: left;\"></td><td style = \"text-align: left;\">West</td><td style = \"text-align: right;\">0</td><td style = \"text-align: left;\">String</td></tr><tr><td class = \"rowNumber\" style = \"font-weight: bold; text-align: right;\">2</td><td style = \"text-align: left;\">Category</td><td style = \"text-align: left;\">2015.5</td><td style = \"text-align: left;\">2014</td><td style = \"text-align: left;\">2015.5</td><td style = \"text-align: left;\">2017</td><td style = \"text-align: right;\">0</td><td style = \"text-align: left;\">Int64</td></tr><tr><td class = \"rowNumber\" style = \"font-weight: bold; text-align: right;\">3</td><td style = \"text-align: left;\">Departing</td><td style = \"text-align: left;\">45045.0</td><td style = \"text-align: left;\">3078</td><td style = \"text-align: left;\">20340.0</td><td style = \"text-align: left;\">188415</td><td style = \"text-align: right;\">0</td><td style = \"text-align: left;\">Int64</td></tr><tr><td class = \"rowNumber\" style = \"font-weight: bold; text-align: right;\">4</td><td style = \"text-align: left;\">Entering</td><td style = \"text-align: left;\">45045.0</td><td style = \"text-align: left;\">2853</td><td style = \"text-align: left;\">19129.5</td><td style = \"text-align: left;\">185739</td><td style = \"text-align: right;\">0</td><td style = \"text-align: left;\">Int64</td></tr><tr><td class = \"rowNumber\" style = \"font-weight: bold; text-align: right;\">5</td><td style = \"text-align: left;\">netmigration</td><td style = \"text-align: left;\">0.0</td><td style = \"text-align: left;\">-5844</td><td style = \"text-align: left;\">-360.0</td><td style = \"text-align: left;\">24279</td><td style = \"text-align: right;\">0</td><td style = \"text-align: left;\">Int64</td></tr></tbody></table></div>"
      ],
      "text/latex": [
       "\\begin{tabular}{r|ccccccc}\n",
       "\t& variable & mean & min & median & max & nmissing & eltype\\\\\n",
       "\t\\hline\n",
       "\t& Symbol & Union… & Any & Union… & Any & Int64 & DataType\\\\\n",
       "\t\\hline\n",
       "\t1 & Region &  & Auckland &  & West & 0 & String \\\\\n",
       "\t2 & Category & 2015.5 & 2014 & 2015.5 & 2017 & 0 & Int64 \\\\\n",
       "\t3 & Departing & 45045.0 & 3078 & 20340.0 & 188415 & 0 & Int64 \\\\\n",
       "\t4 & Entering & 45045.0 & 2853 & 19129.5 & 185739 & 0 & Int64 \\\\\n",
       "\t5 & netmigration & 0.0 & -5844 & -360.0 & 24279 & 0 & Int64 \\\\\n",
       "\\end{tabular}\n"
      ],
      "text/plain": [
       "\u001b[1m5×7 DataFrame\u001b[0m\n",
       "\u001b[1m Row \u001b[0m│\u001b[1m variable     \u001b[0m\u001b[1m mean    \u001b[0m\u001b[1m min      \u001b[0m\u001b[1m median  \u001b[0m\u001b[1m max    \u001b[0m\u001b[1m nmissing \u001b[0m\u001b[1m eltype   \u001b[0m\n",
       "     │\u001b[90m Symbol       \u001b[0m\u001b[90m Union…  \u001b[0m\u001b[90m Any      \u001b[0m\u001b[90m Union…  \u001b[0m\u001b[90m Any    \u001b[0m\u001b[90m Int64    \u001b[0m\u001b[90m DataType \u001b[0m\n",
       "─────┼──────────────────────────────────────────────────────────────────────\n",
       "   1 │ Region       \u001b[90m         \u001b[0m Auckland \u001b[90m         \u001b[0m West           0  String\n",
       "   2 │ Category      2015.5   2014      2015.5   2017           0  Int64\n",
       "   3 │ Departing     45045.0  3078      20340.0  188415         0  Int64\n",
       "   4 │ Entering      45045.0  2853      19129.5  185739         0  Int64\n",
       "   5 │ netmigration  0.0      -5844     -360.0   24279          0  Int64"
      ]
     },
     "execution_count": 4,
     "metadata": {},
     "output_type": "execute_result"
    }
   ],
   "source": [
    "# Transforming the csv files into dataframes\n",
    "Migration = Migration |> DataFrame\n",
    "Migration |> describe"
   ]
  },
  {
   "cell_type": "code",
   "execution_count": 5,
   "id": "5d89bb0a-89fd-4138-afa7-eb447f5b8107",
   "metadata": {},
   "outputs": [
    {
     "data": {
      "text/html": [
       "<div><div style = \"float: left;\"><span>5×7 DataFrame</span></div><div style = \"clear: both;\"></div></div><div class = \"data-frame\" style = \"overflow-x: scroll;\"><table class = \"data-frame\" style = \"margin-bottom: 6px;\"><thead><tr class = \"header\"><th class = \"rowNumber\" style = \"font-weight: bold; text-align: right;\">Row</th><th style = \"text-align: left;\">variable</th><th style = \"text-align: left;\">mean</th><th style = \"text-align: left;\">min</th><th style = \"text-align: left;\">median</th><th style = \"text-align: left;\">max</th><th style = \"text-align: left;\">nmissing</th><th style = \"text-align: left;\">eltype</th></tr><tr class = \"subheader headerLastRow\"><th class = \"rowNumber\" style = \"font-weight: bold; text-align: right;\"></th><th title = \"Symbol\" style = \"text-align: left;\">Symbol</th><th title = \"Union{Nothing, Float64}\" style = \"text-align: left;\">Union…</th><th title = \"Any\" style = \"text-align: left;\">Any</th><th title = \"Union{Nothing, Float64}\" style = \"text-align: left;\">Union…</th><th title = \"Any\" style = \"text-align: left;\">Any</th><th title = \"Int64\" style = \"text-align: left;\">Int64</th><th title = \"DataType\" style = \"text-align: left;\">DataType</th></tr></thead><tbody><tr><td class = \"rowNumber\" style = \"font-weight: bold; text-align: right;\">1</td><td style = \"text-align: left;\">Year</td><td style = \"text-align: left;\">2015.5</td><td style = \"text-align: left;\">2014</td><td style = \"text-align: left;\">2015.5</td><td style = \"text-align: left;\">2017</td><td style = \"text-align: right;\">0</td><td style = \"text-align: left;\">Int64</td></tr><tr><td class = \"rowNumber\" style = \"font-weight: bold; text-align: right;\">2</td><td style = \"text-align: left;\">Region</td><td style = \"font-style: italic; text-align: left;\"></td><td style = \"text-align: left;\">Auckland</td><td style = \"font-style: italic; text-align: left;\"></td><td style = \"text-align: left;\">West Coast</td><td style = \"text-align: right;\">0</td><td style = \"text-align: left;\">String</td></tr><tr><td class = \"rowNumber\" style = \"font-weight: bold; text-align: right;\">3</td><td style = \"text-align: left;\">Average_Precipitation (mm)</td><td style = \"text-align: left;\">1218.53</td><td style = \"text-align: left;\">448.63</td><td style = \"text-align: left;\">1056.15</td><td style = \"text-align: left;\">3731.4</td><td style = \"text-align: right;\">0</td><td style = \"text-align: left;\">Float64</td></tr><tr><td class = \"rowNumber\" style = \"font-weight: bold; text-align: right;\">4</td><td style = \"text-align: left;\">Average_Temperature (°C)</td><td style = \"text-align: left;\">13.3575</td><td style = \"text-align: left;\">10.3</td><td style = \"text-align: left;\">13.385</td><td style = \"text-align: left;\">16.68</td><td style = \"text-align: right;\">0</td><td style = \"text-align: left;\">Float64</td></tr><tr><td class = \"rowNumber\" style = \"font-weight: bold; text-align: right;\">5</td><td style = \"text-align: left;\">Average_Windspeed (kn)</td><td style = \"text-align: left;\">39.6443</td><td style = \"text-align: left;\">28.27</td><td style = \"text-align: left;\">39.09</td><td style = \"text-align: left;\">47.41</td><td style = \"text-align: right;\">0</td><td style = \"text-align: left;\">Float64</td></tr></tbody></table></div>"
      ],
      "text/latex": [
       "\\begin{tabular}{r|ccccccc}\n",
       "\t& variable & mean & min & median & max & nmissing & eltype\\\\\n",
       "\t\\hline\n",
       "\t& Symbol & Union… & Any & Union… & Any & Int64 & DataType\\\\\n",
       "\t\\hline\n",
       "\t1 & Year & 2015.5 & 2014 & 2015.5 & 2017 & 0 & Int64 \\\\\n",
       "\t2 & Region &  & Auckland &  & West Coast & 0 & String \\\\\n",
       "\t3 & Average\\_Precipitation (mm) & 1218.53 & 448.63 & 1056.15 & 3731.4 & 0 & Float64 \\\\\n",
       "\t4 & Average\\_Temperature (°C) & 13.3575 & 10.3 & 13.385 & 16.68 & 0 & Float64 \\\\\n",
       "\t5 & Average\\_Windspeed (kn) & 39.6443 & 28.27 & 39.09 & 47.41 & 0 & Float64 \\\\\n",
       "\\end{tabular}\n"
      ],
      "text/plain": [
       "\u001b[1m5×7 DataFrame\u001b[0m\n",
       "\u001b[1m Row \u001b[0m│\u001b[1m variable                   \u001b[0m\u001b[1m mean    \u001b[0m\u001b[1m min      \u001b[0m\u001b[1m median  \u001b[0m\u001b[1m max        \u001b[0m\u001b[1m nmi\u001b[0m ⋯\n",
       "     │\u001b[90m Symbol                     \u001b[0m\u001b[90m Union…  \u001b[0m\u001b[90m Any      \u001b[0m\u001b[90m Union…  \u001b[0m\u001b[90m Any        \u001b[0m\u001b[90m Int\u001b[0m ⋯\n",
       "─────┼──────────────────────────────────────────────────────────────────────────\n",
       "   1 │ Year                        2015.5   2014      2015.5   2017            ⋯\n",
       "   2 │ Region                     \u001b[90m         \u001b[0m Auckland \u001b[90m         \u001b[0m West Coast\n",
       "   3 │ Average_Precipitation (mm)  1218.53  448.63    1056.15  3731.4\n",
       "   4 │ Average_Temperature (°C)    13.3575  10.3      13.385   16.68\n",
       "   5 │ Average_Windspeed (kn)      39.6443  28.27     39.09    47.41           ⋯\n",
       "\u001b[36m                                                               2 columns omitted\u001b[0m"
      ]
     },
     "execution_count": 5,
     "metadata": {},
     "output_type": "execute_result"
    }
   ],
   "source": [
    "# Transforming the csv files into dataframes\n",
    "Weather = Weather |> DataFrame\n",
    "Weather |> describe"
   ]
  },
  {
   "cell_type": "code",
   "execution_count": 6,
   "id": "f27c474a-7f41-43b0-af89-8ed8d3e594cb",
   "metadata": {},
   "outputs": [
    {
     "name": "stdout",
     "output_type": "stream",
     "text": [
      "DataFrame DataFrame DataFrame"
     ]
    }
   ],
   "source": [
    "# Checking they are now dataframes\n",
    "print(Earthquake |> typeof,\" \", Migration |> typeof,\" \",  Weather |> typeof)"
   ]
  },
  {
   "cell_type": "code",
   "execution_count": 7,
   "id": "18f3ef9c-4148-42b6-ba1e-0de9cc6b0ae3",
   "metadata": {},
   "outputs": [
    {
     "data": {
      "text/plain": [
       "16-element Vector{String}:\n",
       " \"Auckland\"\n",
       " \"Bay of Plenty\"\n",
       " \"Canterbury\"\n",
       " \"Gisborne\"\n",
       " \"Hawke's Bay\"\n",
       " \"Manawatū-Whanganui\"\n",
       " \"Marlborough\"\n",
       " \"Nelson\"\n",
       " \"Northland\"\n",
       " \"Otago\"\n",
       " \"Southland\"\n",
       " \"Taranaki\"\n",
       " \"Tasman\"\n",
       " \"Waikato\"\n",
       " \"Wellington\"\n",
       " \"West Coast\""
      ]
     },
     "execution_count": 7,
     "metadata": {},
     "output_type": "execute_result"
    }
   ],
   "source": [
    "# Standardising region names\n",
    "Regions = Regions |> DataFrame\n",
    "Regions[!,:\".\"] |> unique"
   ]
  },
  {
   "cell_type": "code",
   "execution_count": 8,
   "id": "ada34a83-97fb-4a8d-9b8d-02aad00faed1",
   "metadata": {},
   "outputs": [
    {
     "data": {
      "text/plain": [
       "17-element Vector{String}:\n",
       " \"Auckland\"\n",
       " \"Bay of Plenty\"\n",
       " \"Canterbury\"\n",
       " \"Gisborne\"\n",
       " \"Hawke's Bay\"\n",
       " \"Manawatū-Whanganui\"\n",
       " \"Marlborough\"\n",
       " \"NA\"\n",
       " \"Nelson\"\n",
       " \"Northland\"\n",
       " \"Otago\"\n",
       " \"Southland\"\n",
       " \"Taranaki\"\n",
       " \"Tasman\"\n",
       " \"Waikato\"\n",
       " \"Wellington\"\n",
       " \"West Coast\""
      ]
     },
     "execution_count": 8,
     "metadata": {},
     "output_type": "execute_result"
    }
   ],
   "source": [
    "All_regions = Regions[!,:\".\"] |> unique\n",
    "insert!(All_regions, 8, \"NA\")"
   ]
  },
  {
   "cell_type": "code",
   "execution_count": 9,
   "id": "843b17a0-5640-4e84-9a8c-0dfce73730f0",
   "metadata": {},
   "outputs": [
    {
     "data": {
      "text/plain": [
       "17-element Vector{String}:\n",
       " \"Auckland\"\n",
       " \"Bay of Plenty Region\"\n",
       " \"Canterbury Region\"\n",
       " \"Gisborne Region\"\n",
       " \"Hawke's Bay Region\"\n",
       " \"Manawatu-Whanganui Region\"\n",
       " \"Marlborough Region\"\n",
       " \"NA\"\n",
       " \"Nelson Region\"\n",
       " \"Northland\"\n",
       " \"Otago Region\"\n",
       " \"Southland Region\"\n",
       " \"Taranaki Region\"\n",
       " \"Tasman Region\"\n",
       " \"Waikato Region\"\n",
       " \"Wellington Region\"\n",
       " \"West Coast Region\""
      ]
     },
     "execution_count": 9,
     "metadata": {},
     "output_type": "execute_result"
    }
   ],
   "source": [
    "Earthquake_regions = Earthquake[!,:REGC2022_2] |> unique |> sort\n",
    "insert!(Earthquake_regions, 1, \"Auckland\")\n",
    "insert!(Earthquake_regions, 10, \"Northland\")"
   ]
  },
  {
   "cell_type": "code",
   "execution_count": 10,
   "id": "9e7b252f-3387-4533-9f5c-eb64d9d2a59d",
   "metadata": {},
   "outputs": [
    {
     "data": {
      "text/plain": [
       "17-element Vector{String}:\n",
       " \"Auckland\"\n",
       " \"Bay\"\n",
       " \"Canterbury\"\n",
       " \"Gisborne\"\n",
       " \"Hawke's\"\n",
       " \"Manawatū-Whanganui\"\n",
       " \"Marlborough\"\n",
       " \"NA\"\n",
       " \"Nelson\"\n",
       " \"Northland\"\n",
       " \"Otago\"\n",
       " \"Southland\"\n",
       " \"Taranaki\"\n",
       " \"Tasman\"\n",
       " \"Waikato\"\n",
       " \"Wellington\"\n",
       " \"West\""
      ]
     },
     "execution_count": 10,
     "metadata": {},
     "output_type": "execute_result"
    }
   ],
   "source": [
    "Migration_regions = Migration[!,:Region] |> unique |> sort\n",
    "insert!(Migration_regions, 8, \"NA\")"
   ]
  },
  {
   "cell_type": "code",
   "execution_count": 11,
   "id": "3dfdbabf-06f9-4f01-9c09-27b5d06c506b",
   "metadata": {},
   "outputs": [
    {
     "data": {
      "text/plain": [
       "17-element Vector{String}:\n",
       " \"Auckland\"\n",
       " \"Bay of Plenty\"\n",
       " \"Canterbury\"\n",
       " \"Gisborne\"\n",
       " \"Hawke's Bay\"\n",
       " \"Manawatū-Whanganui\"\n",
       " \"Marlborough\"\n",
       " \"NA\"\n",
       " \"Nelson\"\n",
       " \"Northland\"\n",
       " \"Otago\"\n",
       " \"Southland\"\n",
       " \"Taranaki\"\n",
       " \"Tasman\"\n",
       " \"Waikato\"\n",
       " \"Wellington\"\n",
       " \"West Coast\""
      ]
     },
     "execution_count": 11,
     "metadata": {},
     "output_type": "execute_result"
    }
   ],
   "source": [
    "Weather_regions = Weather[!,:Region] |> unique |> sort\n",
    "insert!(Weather_regions, 13, \"Tasman\")\n",
    "insert!(Weather_regions, 8, \"NA\")"
   ]
  },
  {
   "cell_type": "code",
   "execution_count": 12,
   "id": "3a424da7-f8c6-400a-a470-a955de51cb97",
   "metadata": {},
   "outputs": [
    {
     "data": {
      "text/html": [
       "<div><div style = \"float: left;\"><span>17×2 DataFrame</span></div><div style = \"clear: both;\"></div></div><div class = \"data-frame\" style = \"overflow-x: scroll;\"><table class = \"data-frame\" style = \"margin-bottom: 6px;\"><thead><tr class = \"header\"><th class = \"rowNumber\" style = \"font-weight: bold; text-align: right;\">Row</th><th style = \"text-align: left;\">Region</th><th style = \"text-align: left;\">Standard_regions</th></tr><tr class = \"subheader headerLastRow\"><th class = \"rowNumber\" style = \"font-weight: bold; text-align: right;\"></th><th title = \"String\" style = \"text-align: left;\">String</th><th title = \"String\" style = \"text-align: left;\">String</th></tr></thead><tbody><tr><td class = \"rowNumber\" style = \"font-weight: bold; text-align: right;\">1</td><td style = \"text-align: left;\">Auckland</td><td style = \"text-align: left;\">Auckland</td></tr><tr><td class = \"rowNumber\" style = \"font-weight: bold; text-align: right;\">2</td><td style = \"text-align: left;\">Bay of Plenty</td><td style = \"text-align: left;\">Bay of Plenty</td></tr><tr><td class = \"rowNumber\" style = \"font-weight: bold; text-align: right;\">3</td><td style = \"text-align: left;\">Canterbury</td><td style = \"text-align: left;\">Canterbury</td></tr><tr><td class = \"rowNumber\" style = \"font-weight: bold; text-align: right;\">4</td><td style = \"text-align: left;\">Gisborne</td><td style = \"text-align: left;\">Gisborne</td></tr><tr><td class = \"rowNumber\" style = \"font-weight: bold; text-align: right;\">5</td><td style = \"text-align: left;\">Hawke&apos;s Bay</td><td style = \"text-align: left;\">Hawke&apos;s Bay</td></tr><tr><td class = \"rowNumber\" style = \"font-weight: bold; text-align: right;\">6</td><td style = \"text-align: left;\">Manawatū-Whanganui</td><td style = \"text-align: left;\">Manawatū-Whanganui</td></tr><tr><td class = \"rowNumber\" style = \"font-weight: bold; text-align: right;\">7</td><td style = \"text-align: left;\">Marlborough</td><td style = \"text-align: left;\">Marlborough</td></tr><tr><td class = \"rowNumber\" style = \"font-weight: bold; text-align: right;\">8</td><td style = \"text-align: left;\">NA</td><td style = \"text-align: left;\">NA</td></tr><tr><td class = \"rowNumber\" style = \"font-weight: bold; text-align: right;\">9</td><td style = \"text-align: left;\">Nelson</td><td style = \"text-align: left;\">Nelson</td></tr><tr><td class = \"rowNumber\" style = \"font-weight: bold; text-align: right;\">10</td><td style = \"text-align: left;\">Northland</td><td style = \"text-align: left;\">Northland</td></tr><tr><td class = \"rowNumber\" style = \"font-weight: bold; text-align: right;\">11</td><td style = \"text-align: left;\">Otago</td><td style = \"text-align: left;\">Otago</td></tr><tr><td class = \"rowNumber\" style = \"font-weight: bold; text-align: right;\">12</td><td style = \"text-align: left;\">Southland</td><td style = \"text-align: left;\">Southland</td></tr><tr><td class = \"rowNumber\" style = \"font-weight: bold; text-align: right;\">13</td><td style = \"text-align: left;\">Taranaki</td><td style = \"text-align: left;\">Taranaki</td></tr><tr><td class = \"rowNumber\" style = \"font-weight: bold; text-align: right;\">14</td><td style = \"text-align: left;\">Tasman</td><td style = \"text-align: left;\">Tasman</td></tr><tr><td class = \"rowNumber\" style = \"font-weight: bold; text-align: right;\">15</td><td style = \"text-align: left;\">Waikato</td><td style = \"text-align: left;\">Waikato</td></tr><tr><td class = \"rowNumber\" style = \"font-weight: bold; text-align: right;\">16</td><td style = \"text-align: left;\">Wellington</td><td style = \"text-align: left;\">Wellington</td></tr><tr><td class = \"rowNumber\" style = \"font-weight: bold; text-align: right;\">17</td><td style = \"text-align: left;\">West Coast</td><td style = \"text-align: left;\">West Coast</td></tr></tbody></table></div>"
      ],
      "text/latex": [
       "\\begin{tabular}{r|cc}\n",
       "\t& Region & Standard\\_regions\\\\\n",
       "\t\\hline\n",
       "\t& String & String\\\\\n",
       "\t\\hline\n",
       "\t1 & Auckland & Auckland \\\\\n",
       "\t2 & Bay of Plenty & Bay of Plenty \\\\\n",
       "\t3 & Canterbury & Canterbury \\\\\n",
       "\t4 & Gisborne & Gisborne \\\\\n",
       "\t5 & Hawke's Bay & Hawke's Bay \\\\\n",
       "\t6 & Manawatū-Whanganui & Manawatū-Whanganui \\\\\n",
       "\t7 & Marlborough & Marlborough \\\\\n",
       "\t8 & NA & NA \\\\\n",
       "\t9 & Nelson & Nelson \\\\\n",
       "\t10 & Northland & Northland \\\\\n",
       "\t11 & Otago & Otago \\\\\n",
       "\t12 & Southland & Southland \\\\\n",
       "\t13 & Taranaki & Taranaki \\\\\n",
       "\t14 & Tasman & Tasman \\\\\n",
       "\t15 & Waikato & Waikato \\\\\n",
       "\t16 & Wellington & Wellington \\\\\n",
       "\t17 & West Coast & West Coast \\\\\n",
       "\\end{tabular}\n"
      ],
      "text/plain": [
       "\u001b[1m17×2 DataFrame\u001b[0m\n",
       "\u001b[1m Row \u001b[0m│\u001b[1m Region             \u001b[0m\u001b[1m Standard_regions   \u001b[0m\n",
       "     │\u001b[90m String             \u001b[0m\u001b[90m String             \u001b[0m\n",
       "─────┼────────────────────────────────────────\n",
       "   1 │ Auckland            Auckland\n",
       "   2 │ Bay of Plenty       Bay of Plenty\n",
       "   3 │ Canterbury          Canterbury\n",
       "   4 │ Gisborne            Gisborne\n",
       "   5 │ Hawke's Bay         Hawke's Bay\n",
       "   6 │ Manawatū-Whanganui  Manawatū-Whanganui\n",
       "   7 │ Marlborough         Marlborough\n",
       "   8 │ NA                  NA\n",
       "   9 │ Nelson              Nelson\n",
       "  10 │ Northland           Northland\n",
       "  11 │ Otago               Otago\n",
       "  12 │ Southland           Southland\n",
       "  13 │ Taranaki            Taranaki\n",
       "  14 │ Tasman              Tasman\n",
       "  15 │ Waikato             Waikato\n",
       "  16 │ Wellington          Wellington\n",
       "  17 │ West Coast          West Coast"
      ]
     },
     "execution_count": 12,
     "metadata": {},
     "output_type": "execute_result"
    }
   ],
   "source": [
    "# Creting dataframes to standardise the regions\n",
    "Standard_Earthquake = DataFrame(\n",
    "    REGC2022_2 = Earthquake_regions,\n",
    "    Standard_regions = All_regions)\n",
    "Standard_Migration = DataFrame(\n",
    "    Region = Migration_regions,\n",
    "    Standard_regions = All_regions)\n",
    "Standard_Weather = DataFrame(\n",
    "    Region = Weather_regions,\n",
    "    Standard_regions = All_regions)"
   ]
  },
  {
   "cell_type": "code",
   "execution_count": 13,
   "id": "31ef7b41-c88b-4bce-ad1e-3167c15c50f2",
   "metadata": {},
   "outputs": [],
   "source": [
    "# Allowing missing values in the dataframes\n",
    "Earthquake |> allowmissing!\n",
    "Migration |> allowmissing!\n",
    "Weather |> allowmissing!\n",
    "print(\"\")"
   ]
  },
  {
   "cell_type": "code",
   "execution_count": 14,
   "id": "95390539-9484-4d79-85ca-744ee6c9ef6c",
   "metadata": {},
   "outputs": [
    {
     "data": {
      "text/html": [
       "<div><div style = \"float: left;\"><span>62×6 DataFrame</span></div><div style = \"float: right;\"><span style = \"font-style: italic;\">37 rows omitted</span></div><div style = \"clear: both;\"></div></div><div class = \"data-frame\" style = \"overflow-x: scroll;\"><table class = \"data-frame\" style = \"margin-bottom: 6px;\"><thead><tr class = \"header\"><th class = \"rowNumber\" style = \"font-weight: bold; text-align: right;\">Row</th><th style = \"text-align: left;\">Region</th><th style = \"text-align: left;\">Standard_regions</th><th style = \"text-align: left;\">Year</th><th style = \"text-align: left;\">Average_Precipitation (mm)</th><th style = \"text-align: left;\">Average_Temperature (°C)</th><th style = \"text-align: left;\">Average_Windspeed (kn)</th></tr><tr class = \"subheader headerLastRow\"><th class = \"rowNumber\" style = \"font-weight: bold; text-align: right;\"></th><th title = \"Union{Missing, String}\" style = \"text-align: left;\">String?</th><th title = \"Union{Missing, String}\" style = \"text-align: left;\">String?</th><th title = \"Union{Missing, Int64}\" style = \"text-align: left;\">Int64?</th><th title = \"Union{Missing, Float64}\" style = \"text-align: left;\">Float64?</th><th title = \"Union{Missing, Float64}\" style = \"text-align: left;\">Float64?</th><th title = \"Union{Missing, Float64}\" style = \"text-align: left;\">Float64?</th></tr></thead><tbody><tr><td class = \"rowNumber\" style = \"font-weight: bold; text-align: right;\">1</td><td style = \"text-align: left;\">Auckland</td><td style = \"text-align: left;\">Auckland</td><td style = \"text-align: right;\">2014</td><td style = \"text-align: right;\">1017.9</td><td style = \"text-align: right;\">15.66</td><td style = \"text-align: right;\">47.24</td></tr><tr><td class = \"rowNumber\" style = \"font-weight: bold; text-align: right;\">2</td><td style = \"text-align: left;\">Bay of Plenty</td><td style = \"text-align: left;\">Bay of Plenty</td><td style = \"text-align: right;\">2014</td><td style = \"text-align: right;\">1098.8</td><td style = \"text-align: right;\">14.11</td><td style = \"text-align: right;\">39.76</td></tr><tr><td class = \"rowNumber\" style = \"font-weight: bold; text-align: right;\">3</td><td style = \"text-align: left;\">Canterbury</td><td style = \"text-align: left;\">Canterbury</td><td style = \"text-align: right;\">2014</td><td style = \"text-align: right;\">575.23</td><td style = \"text-align: right;\">10.3</td><td style = \"text-align: right;\">40.03</td></tr><tr><td class = \"rowNumber\" style = \"font-weight: bold; text-align: right;\">4</td><td style = \"text-align: left;\">Gisborne</td><td style = \"text-align: left;\">Gisborne</td><td style = \"text-align: right;\">2014</td><td style = \"text-align: right;\">1096.0</td><td style = \"text-align: right;\">14.67</td><td style = \"text-align: right;\">38.12</td></tr><tr><td class = \"rowNumber\" style = \"font-weight: bold; text-align: right;\">5</td><td style = \"text-align: left;\">Hawke&apos;s Bay</td><td style = \"text-align: left;\">Hawke&apos;s Bay</td><td style = \"text-align: right;\">2014</td><td style = \"text-align: right;\">625.2</td><td style = \"text-align: right;\">14.68</td><td style = \"text-align: right;\">42.32</td></tr><tr><td class = \"rowNumber\" style = \"font-weight: bold; text-align: right;\">6</td><td style = \"text-align: left;\">Manawatū-Whanganui</td><td style = \"text-align: left;\">Manawatū-Whanganui</td><td style = \"text-align: right;\">2014</td><td style = \"text-align: right;\">953.3</td><td style = \"text-align: right;\">12.38</td><td style = \"text-align: right;\">40.28</td></tr><tr><td class = \"rowNumber\" style = \"font-weight: bold; text-align: right;\">7</td><td style = \"text-align: left;\">Marlborough</td><td style = \"text-align: left;\">Marlborough</td><td style = \"text-align: right;\">2014</td><td style = \"text-align: right;\">591.8</td><td style = \"text-align: right;\">12.8</td><td style = \"text-align: right;\">40.88</td></tr><tr><td class = \"rowNumber\" style = \"font-weight: bold; text-align: right;\">8</td><td style = \"text-align: left;\">Nelson</td><td style = \"text-align: left;\">Nelson</td><td style = \"text-align: right;\">2014</td><td style = \"text-align: right;\">861.4</td><td style = \"text-align: right;\">13.26</td><td style = \"text-align: right;\">37.61</td></tr><tr><td class = \"rowNumber\" style = \"font-weight: bold; text-align: right;\">9</td><td style = \"text-align: left;\">Northland</td><td style = \"text-align: left;\">Northland</td><td style = \"text-align: right;\">2014</td><td style = \"text-align: right;\">1744.8</td><td style = \"text-align: right;\">15.86</td><td style = \"text-align: right;\">39.04</td></tr><tr><td class = \"rowNumber\" style = \"font-weight: bold; text-align: right;\">10</td><td style = \"text-align: left;\">Otago</td><td style = \"text-align: left;\">Otago</td><td style = \"text-align: right;\">2014</td><td style = \"text-align: right;\">636.8</td><td style = \"text-align: right;\">10.33</td><td style = \"text-align: right;\">41.42</td></tr><tr><td class = \"rowNumber\" style = \"font-weight: bold; text-align: right;\">11</td><td style = \"text-align: left;\">Southland</td><td style = \"text-align: left;\">Southland</td><td style = \"text-align: right;\">2014</td><td style = \"text-align: right;\">3065.6</td><td style = \"text-align: right;\">10.49</td><td style = \"text-align: right;\">44.46</td></tr><tr><td class = \"rowNumber\" style = \"font-weight: bold; text-align: right;\">12</td><td style = \"text-align: left;\">Taranaki</td><td style = \"text-align: left;\">Taranaki</td><td style = \"text-align: right;\">2014</td><td style = \"text-align: right;\">1238.6</td><td style = \"text-align: right;\">13.65</td><td style = \"text-align: right;\">47.31</td></tr><tr><td class = \"rowNumber\" style = \"font-weight: bold; text-align: right;\">13</td><td style = \"text-align: left;\">Waikato</td><td style = \"text-align: left;\">Waikato</td><td style = \"text-align: right;\">2014</td><td style = \"text-align: right;\">835.1</td><td style = \"text-align: right;\">12.91</td><td style = \"text-align: right;\">39.34</td></tr><tr><td style = \"text-align: right;\">&vellip;</td><td style = \"text-align: right;\">&vellip;</td><td style = \"text-align: right;\">&vellip;</td><td style = \"text-align: right;\">&vellip;</td><td style = \"text-align: right;\">&vellip;</td><td style = \"text-align: right;\">&vellip;</td><td style = \"text-align: right;\">&vellip;</td></tr><tr><td class = \"rowNumber\" style = \"font-weight: bold; text-align: right;\">51</td><td style = \"text-align: left;\">Manawatū-Whanganui</td><td style = \"text-align: left;\">Manawatū-Whanganui</td><td style = \"text-align: right;\">2017</td><td style = \"text-align: right;\">1215.7</td><td style = \"text-align: right;\">12.75</td><td style = \"text-align: right;\">36.47</td></tr><tr><td class = \"rowNumber\" style = \"font-weight: bold; text-align: right;\">52</td><td style = \"text-align: left;\">Marlborough</td><td style = \"text-align: left;\">Marlborough</td><td style = \"text-align: right;\">2017</td><td style = \"text-align: right;\">640.6</td><td style = \"text-align: right;\">13.01</td><td style = \"text-align: right;\">37.52</td></tr><tr><td class = \"rowNumber\" style = \"font-weight: bold; text-align: right;\">53</td><td style = \"text-align: left;\">Nelson</td><td style = \"text-align: left;\">Nelson</td><td style = \"text-align: right;\">2017</td><td style = \"text-align: right;\">1018.8</td><td style = \"text-align: right;\">13.69</td><td style = \"text-align: right;\">35.03</td></tr><tr><td class = \"rowNumber\" style = \"font-weight: bold; text-align: right;\">54</td><td style = \"text-align: left;\">Northland</td><td style = \"text-align: left;\">Northland</td><td style = \"text-align: right;\">2017</td><td style = \"text-align: right;\">1502.25</td><td style = \"text-align: right;\">16.26</td><td style = \"text-align: right;\">37.1</td></tr><tr><td class = \"rowNumber\" style = \"font-weight: bold; text-align: right;\">55</td><td style = \"text-align: left;\">Otago</td><td style = \"text-align: left;\">Otago</td><td style = \"text-align: right;\">2017</td><td style = \"text-align: right;\">641.53</td><td style = \"text-align: right;\">10.67</td><td style = \"text-align: right;\">37.75</td></tr><tr><td class = \"rowNumber\" style = \"font-weight: bold; text-align: right;\">56</td><td style = \"text-align: left;\">Southland</td><td style = \"text-align: left;\">Southland</td><td style = \"text-align: right;\">2017</td><td style = \"text-align: right;\">2449.97</td><td style = \"text-align: right;\">10.68</td><td style = \"text-align: right;\">40.62</td></tr><tr><td class = \"rowNumber\" style = \"font-weight: bold; text-align: right;\">57</td><td style = \"text-align: left;\">Taranaki</td><td style = \"text-align: left;\">Taranaki</td><td style = \"text-align: right;\">2017</td><td style = \"text-align: right;\">1298.0</td><td style = \"text-align: right;\">14.15</td><td style = \"text-align: right;\">44.85</td></tr><tr><td class = \"rowNumber\" style = \"font-weight: bold; text-align: right;\">58</td><td style = \"text-align: left;\">Waikato</td><td style = \"text-align: left;\">Waikato</td><td style = \"text-align: right;\">2017</td><td style = \"text-align: right;\">1470.5</td><td style = \"text-align: right;\">13.33</td><td style = \"text-align: right;\">36.47</td></tr><tr><td class = \"rowNumber\" style = \"font-weight: bold; text-align: right;\">59</td><td style = \"text-align: left;\">Wellington</td><td style = \"text-align: left;\">Wellington</td><td style = \"text-align: right;\">2017</td><td style = \"text-align: right;\">1103.6</td><td style = \"text-align: right;\">13.59</td><td style = \"text-align: right;\">40.5</td></tr><tr><td class = \"rowNumber\" style = \"font-weight: bold; text-align: right;\">60</td><td style = \"text-align: left;\">West Coast</td><td style = \"text-align: left;\">West Coast</td><td style = \"text-align: right;\">2017</td><td style = \"text-align: right;\">2244.8</td><td style = \"text-align: right;\">12.39</td><td style = \"text-align: right;\">28.27</td></tr><tr><td class = \"rowNumber\" style = \"font-weight: bold; text-align: right;\">61</td><td style = \"text-align: left;\">NA</td><td style = \"text-align: left;\">NA</td><td style = \"text-align: right;\">missing</td><td style = \"text-align: right;\">missing</td><td style = \"text-align: right;\">missing</td><td style = \"text-align: right;\">missing</td></tr><tr><td class = \"rowNumber\" style = \"font-weight: bold; text-align: right;\">62</td><td style = \"text-align: left;\">Tasman</td><td style = \"text-align: left;\">Tasman</td><td style = \"text-align: right;\">missing</td><td style = \"text-align: right;\">missing</td><td style = \"text-align: right;\">missing</td><td style = \"text-align: right;\">missing</td></tr></tbody></table></div>"
      ],
      "text/latex": [
       "\\begin{tabular}{r|cccccc}\n",
       "\t& Region & Standard\\_regions & Year & Average\\_Precipitation (mm) & Average\\_Temperature (°C) & \\\\\n",
       "\t\\hline\n",
       "\t& String? & String? & Int64? & Float64? & Float64? & \\\\\n",
       "\t\\hline\n",
       "\t1 & Auckland & Auckland & 2014 & 1017.9 & 15.66 & $\\dots$ \\\\\n",
       "\t2 & Bay of Plenty & Bay of Plenty & 2014 & 1098.8 & 14.11 & $\\dots$ \\\\\n",
       "\t3 & Canterbury & Canterbury & 2014 & 575.23 & 10.3 & $\\dots$ \\\\\n",
       "\t4 & Gisborne & Gisborne & 2014 & 1096.0 & 14.67 & $\\dots$ \\\\\n",
       "\t5 & Hawke's Bay & Hawke's Bay & 2014 & 625.2 & 14.68 & $\\dots$ \\\\\n",
       "\t6 & Manawatū-Whanganui & Manawatū-Whanganui & 2014 & 953.3 & 12.38 & $\\dots$ \\\\\n",
       "\t7 & Marlborough & Marlborough & 2014 & 591.8 & 12.8 & $\\dots$ \\\\\n",
       "\t8 & Nelson & Nelson & 2014 & 861.4 & 13.26 & $\\dots$ \\\\\n",
       "\t9 & Northland & Northland & 2014 & 1744.8 & 15.86 & $\\dots$ \\\\\n",
       "\t10 & Otago & Otago & 2014 & 636.8 & 10.33 & $\\dots$ \\\\\n",
       "\t11 & Southland & Southland & 2014 & 3065.6 & 10.49 & $\\dots$ \\\\\n",
       "\t12 & Taranaki & Taranaki & 2014 & 1238.6 & 13.65 & $\\dots$ \\\\\n",
       "\t13 & Waikato & Waikato & 2014 & 835.1 & 12.91 & $\\dots$ \\\\\n",
       "\t14 & Wellington & Wellington & 2014 & 999.85 & 13.44 & $\\dots$ \\\\\n",
       "\t15 & West Coast & West Coast & 2014 & 2162.65 & 12.11 & $\\dots$ \\\\\n",
       "\t16 & Auckland & Auckland & 2015 & 942.65 & 15.87 & $\\dots$ \\\\\n",
       "\t17 & Bay of Plenty & Bay of Plenty & 2015 & 953.8 & 13.97 & $\\dots$ \\\\\n",
       "\t18 & Canterbury & Canterbury & 2015 & 448.63 & 10.46 & $\\dots$ \\\\\n",
       "\t19 & Gisborne & Gisborne & 2015 & 1143.1 & 14.27 & $\\dots$ \\\\\n",
       "\t20 & Hawke's Bay & Hawke's Bay & 2015 & 621.7 & 14.47 & $\\dots$ \\\\\n",
       "\t21 & Manawatū-Whanganui & Manawatū-Whanganui & 2015 & 1067.2 & 12.32 & $\\dots$ \\\\\n",
       "\t22 & Marlborough & Marlborough & 2015 & 495.8 & 12.67 & $\\dots$ \\\\\n",
       "\t23 & Nelson & Nelson & 2015 & 650.0 & 13.27 & $\\dots$ \\\\\n",
       "\t24 & Northland & Northland & 2015 & 1045.1 & 15.9 & $\\dots$ \\\\\n",
       "\t25 & Otago & Otago & 2015 & 599.9 & 10.41 & $\\dots$ \\\\\n",
       "\t26 & Southland & Southland & 2015 & 3064.07 & 10.32 & $\\dots$ \\\\\n",
       "\t27 & Taranaki & Taranaki & 2015 & 1342.0 & 13.66 & $\\dots$ \\\\\n",
       "\t28 & Waikato & Waikato & 2015 & 954.9 & 12.93 & $\\dots$ \\\\\n",
       "\t29 & Wellington & Wellington & 2015 & 860.65 & 13.26 & $\\dots$ \\\\\n",
       "\t30 & West Coast & West Coast & 2015 & 2404.25 & 12.09 & $\\dots$ \\\\\n",
       "\t$\\dots$ & $\\dots$ & $\\dots$ & $\\dots$ & $\\dots$ & $\\dots$ &  \\\\\n",
       "\\end{tabular}\n"
      ],
      "text/plain": [
       "\u001b[1m62×6 DataFrame\u001b[0m\n",
       "\u001b[1m Row \u001b[0m│\u001b[1m Region             \u001b[0m\u001b[1m Standard_regions   \u001b[0m\u001b[1m Year    \u001b[0m\u001b[1m Average_Precipitation \u001b[0m ⋯\n",
       "     │\u001b[90m String?            \u001b[0m\u001b[90m String?            \u001b[0m\u001b[90m Int64?  \u001b[0m\u001b[90m Union{Missing, Float64\u001b[0m ⋯\n",
       "─────┼──────────────────────────────────────────────────────────────────────────\n",
       "   1 │ Auckland            Auckland               2014                     101 ⋯\n",
       "   2 │ Bay of Plenty       Bay of Plenty          2014                     109\n",
       "   3 │ Canterbury          Canterbury             2014                      57\n",
       "   4 │ Gisborne            Gisborne               2014                     109\n",
       "   5 │ Hawke's Bay         Hawke's Bay            2014                      62 ⋯\n",
       "   6 │ Manawatū-Whanganui  Manawatū-Whanganui     2014                      95\n",
       "   7 │ Marlborough         Marlborough            2014                      59\n",
       "   8 │ Nelson              Nelson                 2014                      86\n",
       "   9 │ Northland           Northland              2014                     174 ⋯\n",
       "  10 │ Otago               Otago                  2014                      63\n",
       "  11 │ Southland           Southland              2014                     306\n",
       "  ⋮  │         ⋮                   ⋮              ⋮                 ⋮          ⋱\n",
       "  53 │ Nelson              Nelson                 2017                     101\n",
       "  54 │ Northland           Northland              2017                     150 ⋯\n",
       "  55 │ Otago               Otago                  2017                      64\n",
       "  56 │ Southland           Southland              2017                     244\n",
       "  57 │ Taranaki            Taranaki               2017                     129\n",
       "  58 │ Waikato             Waikato                2017                     147 ⋯\n",
       "  59 │ Wellington          Wellington             2017                     110\n",
       "  60 │ West Coast          West Coast             2017                     224\n",
       "  61 │ NA                  NA                 \u001b[90m missing \u001b[0m\u001b[90m                 missin\u001b[0m\n",
       "  62 │ Tasman              Tasman             \u001b[90m missing \u001b[0m\u001b[90m                 missin\u001b[0m ⋯\n",
       "\u001b[36m                                                   3 columns and 41 rows omitted\u001b[0m"
      ]
     },
     "execution_count": 14,
     "metadata": {},
     "output_type": "execute_result"
    }
   ],
   "source": [
    "# Creating a standardised region names column for each dataframe\n",
    "Earthquake = outerjoin(Standard_Earthquake, Earthquake, on = :REGC2022_2, matchmissing = :equal)\n",
    "Migration = outerjoin(Standard_Migration, Migration, on = :Region, matchmissing = :equal)\n",
    "Weather = outerjoin(Standard_Weather, Weather, on = :Region, matchmissing = :equal)"
   ]
  },
  {
   "cell_type": "code",
   "execution_count": 15,
   "id": "4404cd39-acb2-4e37-a93b-7158249e1aab",
   "metadata": {},
   "outputs": [
    {
     "data": {
      "text/html": [
       "<div><div style = \"float: left;\"><span>62×5 DataFrame</span></div><div style = \"float: right;\"><span style = \"font-style: italic;\">37 rows omitted</span></div><div style = \"clear: both;\"></div></div><div class = \"data-frame\" style = \"overflow-x: scroll;\"><table class = \"data-frame\" style = \"margin-bottom: 6px;\"><thead><tr class = \"header\"><th class = \"rowNumber\" style = \"font-weight: bold; text-align: right;\">Row</th><th style = \"text-align: left;\">Standard_regions</th><th style = \"text-align: left;\">Year</th><th style = \"text-align: left;\">Average_Precipitation (mm)</th><th style = \"text-align: left;\">Average_Temperature (°C)</th><th style = \"text-align: left;\">Average_Windspeed (kn)</th></tr><tr class = \"subheader headerLastRow\"><th class = \"rowNumber\" style = \"font-weight: bold; text-align: right;\"></th><th title = \"Union{Missing, String}\" style = \"text-align: left;\">String?</th><th title = \"Union{Missing, Int64}\" style = \"text-align: left;\">Int64?</th><th title = \"Union{Missing, Float64}\" style = \"text-align: left;\">Float64?</th><th title = \"Union{Missing, Float64}\" style = \"text-align: left;\">Float64?</th><th title = \"Union{Missing, Float64}\" style = \"text-align: left;\">Float64?</th></tr></thead><tbody><tr><td class = \"rowNumber\" style = \"font-weight: bold; text-align: right;\">1</td><td style = \"text-align: left;\">Auckland</td><td style = \"text-align: right;\">2014</td><td style = \"text-align: right;\">1017.9</td><td style = \"text-align: right;\">15.66</td><td style = \"text-align: right;\">47.24</td></tr><tr><td class = \"rowNumber\" style = \"font-weight: bold; text-align: right;\">2</td><td style = \"text-align: left;\">Bay of Plenty</td><td style = \"text-align: right;\">2014</td><td style = \"text-align: right;\">1098.8</td><td style = \"text-align: right;\">14.11</td><td style = \"text-align: right;\">39.76</td></tr><tr><td class = \"rowNumber\" style = \"font-weight: bold; text-align: right;\">3</td><td style = \"text-align: left;\">Canterbury</td><td style = \"text-align: right;\">2014</td><td style = \"text-align: right;\">575.23</td><td style = \"text-align: right;\">10.3</td><td style = \"text-align: right;\">40.03</td></tr><tr><td class = \"rowNumber\" style = \"font-weight: bold; text-align: right;\">4</td><td style = \"text-align: left;\">Gisborne</td><td style = \"text-align: right;\">2014</td><td style = \"text-align: right;\">1096.0</td><td style = \"text-align: right;\">14.67</td><td style = \"text-align: right;\">38.12</td></tr><tr><td class = \"rowNumber\" style = \"font-weight: bold; text-align: right;\">5</td><td style = \"text-align: left;\">Hawke&apos;s Bay</td><td style = \"text-align: right;\">2014</td><td style = \"text-align: right;\">625.2</td><td style = \"text-align: right;\">14.68</td><td style = \"text-align: right;\">42.32</td></tr><tr><td class = \"rowNumber\" style = \"font-weight: bold; text-align: right;\">6</td><td style = \"text-align: left;\">Manawatū-Whanganui</td><td style = \"text-align: right;\">2014</td><td style = \"text-align: right;\">953.3</td><td style = \"text-align: right;\">12.38</td><td style = \"text-align: right;\">40.28</td></tr><tr><td class = \"rowNumber\" style = \"font-weight: bold; text-align: right;\">7</td><td style = \"text-align: left;\">Marlborough</td><td style = \"text-align: right;\">2014</td><td style = \"text-align: right;\">591.8</td><td style = \"text-align: right;\">12.8</td><td style = \"text-align: right;\">40.88</td></tr><tr><td class = \"rowNumber\" style = \"font-weight: bold; text-align: right;\">8</td><td style = \"text-align: left;\">Nelson</td><td style = \"text-align: right;\">2014</td><td style = \"text-align: right;\">861.4</td><td style = \"text-align: right;\">13.26</td><td style = \"text-align: right;\">37.61</td></tr><tr><td class = \"rowNumber\" style = \"font-weight: bold; text-align: right;\">9</td><td style = \"text-align: left;\">Northland</td><td style = \"text-align: right;\">2014</td><td style = \"text-align: right;\">1744.8</td><td style = \"text-align: right;\">15.86</td><td style = \"text-align: right;\">39.04</td></tr><tr><td class = \"rowNumber\" style = \"font-weight: bold; text-align: right;\">10</td><td style = \"text-align: left;\">Otago</td><td style = \"text-align: right;\">2014</td><td style = \"text-align: right;\">636.8</td><td style = \"text-align: right;\">10.33</td><td style = \"text-align: right;\">41.42</td></tr><tr><td class = \"rowNumber\" style = \"font-weight: bold; text-align: right;\">11</td><td style = \"text-align: left;\">Southland</td><td style = \"text-align: right;\">2014</td><td style = \"text-align: right;\">3065.6</td><td style = \"text-align: right;\">10.49</td><td style = \"text-align: right;\">44.46</td></tr><tr><td class = \"rowNumber\" style = \"font-weight: bold; text-align: right;\">12</td><td style = \"text-align: left;\">Taranaki</td><td style = \"text-align: right;\">2014</td><td style = \"text-align: right;\">1238.6</td><td style = \"text-align: right;\">13.65</td><td style = \"text-align: right;\">47.31</td></tr><tr><td class = \"rowNumber\" style = \"font-weight: bold; text-align: right;\">13</td><td style = \"text-align: left;\">Waikato</td><td style = \"text-align: right;\">2014</td><td style = \"text-align: right;\">835.1</td><td style = \"text-align: right;\">12.91</td><td style = \"text-align: right;\">39.34</td></tr><tr><td style = \"text-align: right;\">&vellip;</td><td style = \"text-align: right;\">&vellip;</td><td style = \"text-align: right;\">&vellip;</td><td style = \"text-align: right;\">&vellip;</td><td style = \"text-align: right;\">&vellip;</td><td style = \"text-align: right;\">&vellip;</td></tr><tr><td class = \"rowNumber\" style = \"font-weight: bold; text-align: right;\">51</td><td style = \"text-align: left;\">Manawatū-Whanganui</td><td style = \"text-align: right;\">2017</td><td style = \"text-align: right;\">1215.7</td><td style = \"text-align: right;\">12.75</td><td style = \"text-align: right;\">36.47</td></tr><tr><td class = \"rowNumber\" style = \"font-weight: bold; text-align: right;\">52</td><td style = \"text-align: left;\">Marlborough</td><td style = \"text-align: right;\">2017</td><td style = \"text-align: right;\">640.6</td><td style = \"text-align: right;\">13.01</td><td style = \"text-align: right;\">37.52</td></tr><tr><td class = \"rowNumber\" style = \"font-weight: bold; text-align: right;\">53</td><td style = \"text-align: left;\">Nelson</td><td style = \"text-align: right;\">2017</td><td style = \"text-align: right;\">1018.8</td><td style = \"text-align: right;\">13.69</td><td style = \"text-align: right;\">35.03</td></tr><tr><td class = \"rowNumber\" style = \"font-weight: bold; text-align: right;\">54</td><td style = \"text-align: left;\">Northland</td><td style = \"text-align: right;\">2017</td><td style = \"text-align: right;\">1502.25</td><td style = \"text-align: right;\">16.26</td><td style = \"text-align: right;\">37.1</td></tr><tr><td class = \"rowNumber\" style = \"font-weight: bold; text-align: right;\">55</td><td style = \"text-align: left;\">Otago</td><td style = \"text-align: right;\">2017</td><td style = \"text-align: right;\">641.53</td><td style = \"text-align: right;\">10.67</td><td style = \"text-align: right;\">37.75</td></tr><tr><td class = \"rowNumber\" style = \"font-weight: bold; text-align: right;\">56</td><td style = \"text-align: left;\">Southland</td><td style = \"text-align: right;\">2017</td><td style = \"text-align: right;\">2449.97</td><td style = \"text-align: right;\">10.68</td><td style = \"text-align: right;\">40.62</td></tr><tr><td class = \"rowNumber\" style = \"font-weight: bold; text-align: right;\">57</td><td style = \"text-align: left;\">Taranaki</td><td style = \"text-align: right;\">2017</td><td style = \"text-align: right;\">1298.0</td><td style = \"text-align: right;\">14.15</td><td style = \"text-align: right;\">44.85</td></tr><tr><td class = \"rowNumber\" style = \"font-weight: bold; text-align: right;\">58</td><td style = \"text-align: left;\">Waikato</td><td style = \"text-align: right;\">2017</td><td style = \"text-align: right;\">1470.5</td><td style = \"text-align: right;\">13.33</td><td style = \"text-align: right;\">36.47</td></tr><tr><td class = \"rowNumber\" style = \"font-weight: bold; text-align: right;\">59</td><td style = \"text-align: left;\">Wellington</td><td style = \"text-align: right;\">2017</td><td style = \"text-align: right;\">1103.6</td><td style = \"text-align: right;\">13.59</td><td style = \"text-align: right;\">40.5</td></tr><tr><td class = \"rowNumber\" style = \"font-weight: bold; text-align: right;\">60</td><td style = \"text-align: left;\">West Coast</td><td style = \"text-align: right;\">2017</td><td style = \"text-align: right;\">2244.8</td><td style = \"text-align: right;\">12.39</td><td style = \"text-align: right;\">28.27</td></tr><tr><td class = \"rowNumber\" style = \"font-weight: bold; text-align: right;\">61</td><td style = \"text-align: left;\">NA</td><td style = \"text-align: right;\">missing</td><td style = \"text-align: right;\">missing</td><td style = \"text-align: right;\">missing</td><td style = \"text-align: right;\">missing</td></tr><tr><td class = \"rowNumber\" style = \"font-weight: bold; text-align: right;\">62</td><td style = \"text-align: left;\">Tasman</td><td style = \"text-align: right;\">missing</td><td style = \"text-align: right;\">missing</td><td style = \"text-align: right;\">missing</td><td style = \"text-align: right;\">missing</td></tr></tbody></table></div>"
      ],
      "text/latex": [
       "\\begin{tabular}{r|ccccc}\n",
       "\t& Standard\\_regions & Year & Average\\_Precipitation (mm) & Average\\_Temperature (°C) & \\\\\n",
       "\t\\hline\n",
       "\t& String? & Int64? & Float64? & Float64? & \\\\\n",
       "\t\\hline\n",
       "\t1 & Auckland & 2014 & 1017.9 & 15.66 & $\\dots$ \\\\\n",
       "\t2 & Bay of Plenty & 2014 & 1098.8 & 14.11 & $\\dots$ \\\\\n",
       "\t3 & Canterbury & 2014 & 575.23 & 10.3 & $\\dots$ \\\\\n",
       "\t4 & Gisborne & 2014 & 1096.0 & 14.67 & $\\dots$ \\\\\n",
       "\t5 & Hawke's Bay & 2014 & 625.2 & 14.68 & $\\dots$ \\\\\n",
       "\t6 & Manawatū-Whanganui & 2014 & 953.3 & 12.38 & $\\dots$ \\\\\n",
       "\t7 & Marlborough & 2014 & 591.8 & 12.8 & $\\dots$ \\\\\n",
       "\t8 & Nelson & 2014 & 861.4 & 13.26 & $\\dots$ \\\\\n",
       "\t9 & Northland & 2014 & 1744.8 & 15.86 & $\\dots$ \\\\\n",
       "\t10 & Otago & 2014 & 636.8 & 10.33 & $\\dots$ \\\\\n",
       "\t11 & Southland & 2014 & 3065.6 & 10.49 & $\\dots$ \\\\\n",
       "\t12 & Taranaki & 2014 & 1238.6 & 13.65 & $\\dots$ \\\\\n",
       "\t13 & Waikato & 2014 & 835.1 & 12.91 & $\\dots$ \\\\\n",
       "\t14 & Wellington & 2014 & 999.85 & 13.44 & $\\dots$ \\\\\n",
       "\t15 & West Coast & 2014 & 2162.65 & 12.11 & $\\dots$ \\\\\n",
       "\t16 & Auckland & 2015 & 942.65 & 15.87 & $\\dots$ \\\\\n",
       "\t17 & Bay of Plenty & 2015 & 953.8 & 13.97 & $\\dots$ \\\\\n",
       "\t18 & Canterbury & 2015 & 448.63 & 10.46 & $\\dots$ \\\\\n",
       "\t19 & Gisborne & 2015 & 1143.1 & 14.27 & $\\dots$ \\\\\n",
       "\t20 & Hawke's Bay & 2015 & 621.7 & 14.47 & $\\dots$ \\\\\n",
       "\t21 & Manawatū-Whanganui & 2015 & 1067.2 & 12.32 & $\\dots$ \\\\\n",
       "\t22 & Marlborough & 2015 & 495.8 & 12.67 & $\\dots$ \\\\\n",
       "\t23 & Nelson & 2015 & 650.0 & 13.27 & $\\dots$ \\\\\n",
       "\t24 & Northland & 2015 & 1045.1 & 15.9 & $\\dots$ \\\\\n",
       "\t25 & Otago & 2015 & 599.9 & 10.41 & $\\dots$ \\\\\n",
       "\t26 & Southland & 2015 & 3064.07 & 10.32 & $\\dots$ \\\\\n",
       "\t27 & Taranaki & 2015 & 1342.0 & 13.66 & $\\dots$ \\\\\n",
       "\t28 & Waikato & 2015 & 954.9 & 12.93 & $\\dots$ \\\\\n",
       "\t29 & Wellington & 2015 & 860.65 & 13.26 & $\\dots$ \\\\\n",
       "\t30 & West Coast & 2015 & 2404.25 & 12.09 & $\\dots$ \\\\\n",
       "\t$\\dots$ & $\\dots$ & $\\dots$ & $\\dots$ & $\\dots$ &  \\\\\n",
       "\\end{tabular}\n"
      ],
      "text/plain": [
       "\u001b[1m62×5 DataFrame\u001b[0m\n",
       "\u001b[1m Row \u001b[0m│\u001b[1m Standard_regions   \u001b[0m\u001b[1m Year    \u001b[0m\u001b[1m Average_Precipitation (mm) \u001b[0m\u001b[1m Average_Temper\u001b[0m ⋯\n",
       "     │\u001b[90m String?            \u001b[0m\u001b[90m Int64?  \u001b[0m\u001b[90m Union{Missing, Float64}    \u001b[0m\u001b[90m Union{Missing,\u001b[0m ⋯\n",
       "─────┼──────────────────────────────────────────────────────────────────────────\n",
       "   1 │ Auckland               2014                     1017.9                  ⋯\n",
       "   2 │ Bay of Plenty          2014                     1098.8\n",
       "   3 │ Canterbury             2014                      575.23\n",
       "   4 │ Gisborne               2014                     1096.0\n",
       "   5 │ Hawke's Bay            2014                      625.2                  ⋯\n",
       "   6 │ Manawatū-Whanganui     2014                      953.3\n",
       "   7 │ Marlborough            2014                      591.8\n",
       "   8 │ Nelson                 2014                      861.4\n",
       "   9 │ Northland              2014                     1744.8                  ⋯\n",
       "  10 │ Otago                  2014                      636.8\n",
       "  11 │ Southland              2014                     3065.6\n",
       "  ⋮  │         ⋮              ⋮                 ⋮                          ⋮   ⋱\n",
       "  53 │ Nelson                 2017                     1018.8\n",
       "  54 │ Northland              2017                     1502.25                 ⋯\n",
       "  55 │ Otago                  2017                      641.53\n",
       "  56 │ Southland              2017                     2449.97\n",
       "  57 │ Taranaki               2017                     1298.0\n",
       "  58 │ Waikato                2017                     1470.5                  ⋯\n",
       "  59 │ Wellington             2017                     1103.6\n",
       "  60 │ West Coast             2017                     2244.8\n",
       "  61 │ NA                 \u001b[90m missing \u001b[0m\u001b[90m                 missing    \u001b[0m\u001b[90m               \u001b[0m\n",
       "  62 │ Tasman             \u001b[90m missing \u001b[0m\u001b[90m                 missing    \u001b[0m\u001b[90m               \u001b[0m ⋯\n",
       "\u001b[36m                                                   2 columns and 41 rows omitted\u001b[0m"
      ]
     },
     "execution_count": 15,
     "metadata": {},
     "output_type": "execute_result"
    }
   ],
   "source": [
    "# Removing the old regions columns\n",
    "Earthquake = select!(Earthquake, Not(:REGC2022_2))\n",
    "Migration = select!(Migration, Not(:Region))\n",
    "Weather = select!(Weather, Not(:Region))"
   ]
  },
  {
   "cell_type": "code",
   "execution_count": 17,
   "id": "0196dc38-eaeb-4dc4-a267-bd1d17f3d783",
   "metadata": {},
   "outputs": [],
   "source": [
    "# Joining the dataframes using the standardised region names and the year as the keys\n"
   ]
  },
  {
   "cell_type": "code",
   "execution_count": null,
   "id": "94ed1522-1f3e-4246-9dcb-aeffba7d032a",
   "metadata": {},
   "outputs": [],
   "source": [
    "# Renaming the columns for clearer info? Consult others for names\n"
   ]
  },
  {
   "cell_type": "code",
   "execution_count": null,
   "id": "6502668a-96a9-4730-9bbf-48eacbccea01",
   "metadata": {},
   "outputs": [],
   "source": [
    "# Visualise the missingess (part of the visualising notebook)"
   ]
  },
  {
   "cell_type": "code",
   "execution_count": null,
   "id": "03f577e9-9dfd-47da-b8af-aa924bfcea82",
   "metadata": {},
   "outputs": [],
   "source": []
  }
 ],
 "metadata": {
  "kernelspec": {
   "display_name": "Julia 1.7.3",
   "language": "julia",
   "name": "julia-1.7"
  },
  "language_info": {
   "file_extension": ".jl",
   "mimetype": "application/julia",
   "name": "julia",
   "version": "1.7.3"
  }
 },
 "nbformat": 4,
 "nbformat_minor": 5
}
