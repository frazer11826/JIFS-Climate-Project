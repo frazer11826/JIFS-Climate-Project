{
 "cells": [
  {
   "cell_type": "markdown",
   "id": "47dd50e9-9d6d-426d-852a-e514873140aa",
   "metadata": {},
   "source": [
    "# DATA 422 Group Project\n",
    "## Final Dataset\n",
    "### Samuel Love - 84107034"
   ]
  },
  {
   "cell_type": "markdown",
   "id": "08b74059-4388-4286-bfc9-599983242839",
   "metadata": {},
   "source": [
    "The goal of this notebook is to collect all the groups datasets join them as appropriate to produce final dataframes.\n",
    "\n",
    "Sea-level data consists of predictions so will remain as its own dataframe.\n",
    "\n",
    "The other dataframe will consist of weather, migration, and earthquake data joined by regions of New Zealand. This dataframe will cover the years 2014, 2015, 2016, and 2017. "
   ]
  },
  {
   "cell_type": "code",
   "execution_count": 1,
   "id": "a646a419-af66-4ef9-ac20-e2de9ddd0404",
   "metadata": {},
   "outputs": [],
   "source": [
    "# Selecting packages (Use Pkg.add(\"example\") if not installed)\n",
    "using Pkg, Queryverse, VegaDatasets, VegaLite, DataFrames"
   ]
  },
  {
   "cell_type": "code",
   "execution_count": 31,
   "id": "8ceb5f38-7687-43ea-9cb3-83024cfd5719",
   "metadata": {},
   "outputs": [
    {
     "data": {
      "application/vnd.dataresource+json": {
       "data": [
        {
         "Average_Precipitation (mm)": 1017.9,
         "Average_Temperature (°C)": 15.66,
         "Average_Windspeed (kn)": 47.24,
         "Region": "Auckland",
         "Year": 2014
        },
        {
         "Average_Precipitation (mm)": 1098.8,
         "Average_Temperature (°C)": 14.11,
         "Average_Windspeed (kn)": 39.76,
         "Region": "Bay of Plenty",
         "Year": 2014
        },
        {
         "Average_Precipitation (mm)": 575.23,
         "Average_Temperature (°C)": 10.3,
         "Average_Windspeed (kn)": 40.03,
         "Region": "Canterbury",
         "Year": 2014
        },
        {
         "Average_Precipitation (mm)": 1096,
         "Average_Temperature (°C)": 14.67,
         "Average_Windspeed (kn)": 38.12,
         "Region": "Gisborne",
         "Year": 2014
        },
        {
         "Average_Precipitation (mm)": 625.2,
         "Average_Temperature (°C)": 14.68,
         "Average_Windspeed (kn)": 42.32,
         "Region": "Hawke's Bay",
         "Year": 2014
        },
        {
         "Average_Precipitation (mm)": 953.3,
         "Average_Temperature (°C)": 12.38,
         "Average_Windspeed (kn)": 40.28,
         "Region": "Manawatū-Whanganui",
         "Year": 2014
        },
        {
         "Average_Precipitation (mm)": 591.8,
         "Average_Temperature (°C)": 12.8,
         "Average_Windspeed (kn)": 40.88,
         "Region": "Marlborough",
         "Year": 2014
        },
        {
         "Average_Precipitation (mm)": 861.4,
         "Average_Temperature (°C)": 13.26,
         "Average_Windspeed (kn)": 37.61,
         "Region": "Nelson",
         "Year": 2014
        },
        {
         "Average_Precipitation (mm)": 1744.8,
         "Average_Temperature (°C)": 15.86,
         "Average_Windspeed (kn)": 39.04,
         "Region": "Northland",
         "Year": 2014
        },
        {
         "Average_Precipitation (mm)": 636.8,
         "Average_Temperature (°C)": 10.33,
         "Average_Windspeed (kn)": 41.42,
         "Region": "Otago",
         "Year": 2014
        },
        {
         "Average_Precipitation (mm)": 3065.6,
         "Average_Temperature (°C)": 10.49,
         "Average_Windspeed (kn)": 44.46,
         "Region": "Southland",
         "Year": 2014
        },
        {
         "Average_Precipitation (mm)": 1238.6,
         "Average_Temperature (°C)": 13.65,
         "Average_Windspeed (kn)": 47.31,
         "Region": "Taranaki",
         "Year": 2014
        },
        {
         "Average_Precipitation (mm)": 835.1,
         "Average_Temperature (°C)": 12.91,
         "Average_Windspeed (kn)": 39.34,
         "Region": "Waikato",
         "Year": 2014
        },
        {
         "Average_Precipitation (mm)": 999.85,
         "Average_Temperature (°C)": 13.44,
         "Average_Windspeed (kn)": 44.08,
         "Region": "Wellington",
         "Year": 2014
        },
        {
         "Average_Precipitation (mm)": 2162.65,
         "Average_Temperature (°C)": 12.11,
         "Average_Windspeed (kn)": 30.98,
         "Region": "West Coast",
         "Year": 2014
        },
        {
         "Average_Precipitation (mm)": 942.65,
         "Average_Temperature (°C)": 15.87,
         "Average_Windspeed (kn)": 44.16,
         "Region": "Auckland",
         "Year": 2015
        },
        {
         "Average_Precipitation (mm)": 953.8,
         "Average_Temperature (°C)": 13.97,
         "Average_Windspeed (kn)": 38.06,
         "Region": "Bay of Plenty",
         "Year": 2015
        },
        {
         "Average_Precipitation (mm)": 448.63,
         "Average_Temperature (°C)": 10.46,
         "Average_Windspeed (kn)": 41.76,
         "Region": "Canterbury",
         "Year": 2015
        },
        {
         "Average_Precipitation (mm)": 1143.1,
         "Average_Temperature (°C)": 14.27,
         "Average_Windspeed (kn)": 37.27,
         "Region": "Gisborne",
         "Year": 2015
        },
        {
         "Average_Precipitation (mm)": 621.7,
         "Average_Temperature (°C)": 14.47,
         "Average_Windspeed (kn)": 41.65,
         "Region": "Hawke's Bay",
         "Year": 2015
        },
        {
         "Average_Precipitation (mm)": 1067.2,
         "Average_Temperature (°C)": 12.32,
         "Average_Windspeed (kn)": 38.84,
         "Region": "Manawatū-Whanganui",
         "Year": 2015
        },
        {
         "Average_Precipitation (mm)": 495.8,
         "Average_Temperature (°C)": 12.67,
         "Average_Windspeed (kn)": 40.57,
         "Region": "Marlborough",
         "Year": 2015
        },
        {
         "Average_Precipitation (mm)": 650,
         "Average_Temperature (°C)": 13.27,
         "Average_Windspeed (kn)": 37.53,
         "Region": "Nelson",
         "Year": 2015
        },
        {
         "Average_Precipitation (mm)": 1045.1,
         "Average_Temperature (°C)": 15.9,
         "Average_Windspeed (kn)": 36.78,
         "Region": "Northland",
         "Year": 2015
        },
        {
         "Average_Precipitation (mm)": 599.9,
         "Average_Temperature (°C)": 10.41,
         "Average_Windspeed (kn)": 43.35,
         "Region": "Otago",
         "Year": 2015
        },
        {
         "Average_Precipitation (mm)": 3064.07,
         "Average_Temperature (°C)": 10.32,
         "Average_Windspeed (kn)": 45.04,
         "Region": "Southland",
         "Year": 2015
        },
        {
         "Average_Precipitation (mm)": 1342,
         "Average_Temperature (°C)": 13.66,
         "Average_Windspeed (kn)": 46.5,
         "Region": "Taranaki",
         "Year": 2015
        },
        {
         "Average_Precipitation (mm)": 954.9,
         "Average_Temperature (°C)": 12.93,
         "Average_Windspeed (kn)": 37.44,
         "Region": "Waikato",
         "Year": 2015
        },
        {
         "Average_Precipitation (mm)": 860.65,
         "Average_Temperature (°C)": 13.26,
         "Average_Windspeed (kn)": 43.95,
         "Region": "Wellington",
         "Year": 2015
        },
        {
         "Average_Precipitation (mm)": 2404.25,
         "Average_Temperature (°C)": 12.09,
         "Average_Windspeed (kn)": 30.39,
         "Region": "West Coast",
         "Year": 2015
        },
        {
         "Average_Precipitation (mm)": 1164.7,
         "Average_Temperature (°C)": 16.44,
         "Average_Windspeed (kn)": 46.27,
         "Region": "Auckland",
         "Year": 2016
        },
        {
         "Average_Precipitation (mm)": 1287.65,
         "Average_Temperature (°C)": 14.72,
         "Average_Windspeed (kn)": 38.99,
         "Region": "Bay of Plenty",
         "Year": 2016
        },
        {
         "Average_Precipitation (mm)": 560.57,
         "Average_Temperature (°C)": 11.03,
         "Average_Windspeed (kn)": 38.95,
         "Region": "Canterbury",
         "Year": 2016
        },
        {
         "Average_Precipitation (mm)": 1309.1,
         "Average_Temperature (°C)": 15.32,
         "Average_Windspeed (kn)": 36.67,
         "Region": "Gisborne",
         "Year": 2016
        },
        {
         "Average_Precipitation (mm)": 654.6,
         "Average_Temperature (°C)": 15.55,
         "Average_Windspeed (kn)": 41.15,
         "Region": "Hawke's Bay",
         "Year": 2016
        },
        {
         "Average_Precipitation (mm)": 1087.15,
         "Average_Temperature (°C)": 13.32,
         "Average_Windspeed (kn)": 38.86,
         "Region": "Manawatū-Whanganui",
         "Year": 2016
        },
        {
         "Average_Precipitation (mm)": 731.8,
         "Average_Temperature (°C)": 13.29,
         "Average_Windspeed (kn)": 38.42,
         "Region": "Marlborough",
         "Year": 2016
        },
        {
         "Average_Precipitation (mm)": 1249.7,
         "Average_Temperature (°C)": 13.77,
         "Average_Windspeed (kn)": 35.87,
         "Region": "Nelson",
         "Year": 2016
        },
        {
         "Average_Precipitation (mm)": 1378.4,
         "Average_Temperature (°C)": 16.68,
         "Average_Windspeed (kn)": 37.53,
         "Region": "Northland",
         "Year": 2016
        },
        {
         "Average_Precipitation (mm)": 656.87,
         "Average_Temperature (°C)": 11.01,
         "Average_Windspeed (kn)": 40.35,
         "Region": "Otago",
         "Year": 2016
        },
        {
         "Average_Precipitation (mm)": 3731.4,
         "Average_Temperature (°C)": 10.9,
         "Average_Windspeed (kn)": 42.57,
         "Region": "Southland",
         "Year": 2016
        },
        {
         "Average_Precipitation (mm)": 1102.8,
         "Average_Temperature (°C)": 14.63,
         "Average_Windspeed (kn)": 47.41,
         "Region": "Taranaki",
         "Year": 2016
        },
        {
         "Average_Precipitation (mm)": 971.3,
         "Average_Temperature (°C)": 13.74,
         "Average_Windspeed (kn)": 38.2,
         "Region": "Waikato",
         "Year": 2016
        },
        {
         "Average_Precipitation (mm)": 995,
         "Average_Temperature (°C)": 14.16,
         "Average_Windspeed (kn)": 42.3,
         "Region": "Wellington",
         "Year": 2016
        },
        {
         "Average_Precipitation (mm)": 2731,
         "Average_Temperature (°C)": 12.52,
         "Average_Windspeed (kn)": 30.65,
         "Region": "West Coast",
         "Year": 2016
        },
        {
         "Average_Precipitation (mm)": 1306.3,
         "Average_Temperature (°C)": 16.26,
         "Average_Windspeed (kn)": 43.81,
         "Region": "Auckland",
         "Year": 2017
        },
        {
         "Average_Precipitation (mm)": 1848.3,
         "Average_Temperature (°C)": 14.45,
         "Average_Windspeed (kn)": 37.74,
         "Region": "Bay of Plenty",
         "Year": 2017
        },
        {
         "Average_Precipitation (mm)": 657.57,
         "Average_Temperature (°C)": 10.57,
         "Average_Windspeed (kn)": 37.39,
         "Region": "Canterbury",
         "Year": 2017
        },
        {
         "Average_Precipitation (mm)": 1179.2,
         "Average_Temperature (°C)": 15.01,
         "Average_Windspeed (kn)": 35.65,
         "Region": "Gisborne",
         "Year": 2017
        },
        {
         "Average_Precipitation (mm)": 826,
         "Average_Temperature (°C)": 15.04,
         "Average_Windspeed (kn)": 39.14,
         "Region": "Hawke's Bay",
         "Year": 2017
        },
        {
         "Average_Precipitation (mm)": 1215.7,
         "Average_Temperature (°C)": 12.75,
         "Average_Windspeed (kn)": 36.47,
         "Region": "Manawatū-Whanganui",
         "Year": 2017
        },
        {
         "Average_Precipitation (mm)": 640.6,
         "Average_Temperature (°C)": 13.01,
         "Average_Windspeed (kn)": 37.52,
         "Region": "Marlborough",
         "Year": 2017
        },
        {
         "Average_Precipitation (mm)": 1018.8,
         "Average_Temperature (°C)": 13.69,
         "Average_Windspeed (kn)": 35.03,
         "Region": "Nelson",
         "Year": 2017
        },
        {
         "Average_Precipitation (mm)": 1502.25,
         "Average_Temperature (°C)": 16.26,
         "Average_Windspeed (kn)": 37.1,
         "Region": "Northland",
         "Year": 2017
        },
        {
         "Average_Precipitation (mm)": 641.53,
         "Average_Temperature (°C)": 10.67,
         "Average_Windspeed (kn)": 37.75,
         "Region": "Otago",
         "Year": 2017
        },
        {
         "Average_Precipitation (mm)": 2449.97,
         "Average_Temperature (°C)": 10.68,
         "Average_Windspeed (kn)": 40.62,
         "Region": "Southland",
         "Year": 2017
        },
        {
         "Average_Precipitation (mm)": 1298,
         "Average_Temperature (°C)": 14.15,
         "Average_Windspeed (kn)": 44.85,
         "Region": "Taranaki",
         "Year": 2017
        },
        {
         "Average_Precipitation (mm)": 1470.5,
         "Average_Temperature (°C)": 13.33,
         "Average_Windspeed (kn)": 36.47,
         "Region": "Waikato",
         "Year": 2017
        },
        {
         "Average_Precipitation (mm)": 1103.6,
         "Average_Temperature (°C)": 13.59,
         "Average_Windspeed (kn)": 40.5,
         "Region": "Wellington",
         "Year": 2017
        },
        {
         "Average_Precipitation (mm)": 2244.8,
         "Average_Temperature (°C)": 12.39,
         "Average_Windspeed (kn)": 28.27,
         "Region": "West Coast",
         "Year": 2017
        }
       ],
       "schema": {
        "fields": [
         {
          "name": "Year",
          "type": "integer"
         },
         {
          "name": "Region",
          "type": "string"
         },
         {
          "name": "Average_Precipitation (mm)",
          "type": "number"
         },
         {
          "name": "Average_Temperature (°C)",
          "type": "number"
         },
         {
          "name": "Average_Windspeed (kn)",
          "type": "number"
         }
        ]
       }
      },
      "text/html": [
       "<table><thead><tr><th>Year</th><th>Region</th><th>Average_Precipitation (mm)</th><th>Average_Temperature (°C)</th><th>Average_Windspeed (kn)</th></tr></thead><tbody><tr><td>2014</td><td>&quot;Auckland&quot;</td><td>1017.9</td><td>15.66</td><td>47.24</td></tr><tr><td>2014</td><td>&quot;Bay of Plenty&quot;</td><td>1098.8</td><td>14.11</td><td>39.76</td></tr><tr><td>2014</td><td>&quot;Canterbury&quot;</td><td>575.23</td><td>10.3</td><td>40.03</td></tr><tr><td>2014</td><td>&quot;Gisborne&quot;</td><td>1096.0</td><td>14.67</td><td>38.12</td></tr><tr><td>2014</td><td>&quot;Hawke&#39;s Bay&quot;</td><td>625.2</td><td>14.68</td><td>42.32</td></tr><tr><td>2014</td><td>&quot;Manawatū-Whanganui&quot;</td><td>953.3</td><td>12.38</td><td>40.28</td></tr><tr><td>2014</td><td>&quot;Marlborough&quot;</td><td>591.8</td><td>12.8</td><td>40.88</td></tr><tr><td>2014</td><td>&quot;Nelson&quot;</td><td>861.4</td><td>13.26</td><td>37.61</td></tr><tr><td>2014</td><td>&quot;Northland&quot;</td><td>1744.8</td><td>15.86</td><td>39.04</td></tr><tr><td>2014</td><td>&quot;Otago&quot;</td><td>636.8</td><td>10.33</td><td>41.42</td></tr><tr><td>&vellip;</td><td>&vellip;</td><td>&vellip;</td><td>&vellip;</td><td>&vellip;</td></tr></tbody></table><p>... with 50 more rows.</p>"
      ],
      "text/plain": [
       "60x5 CSV file\n",
       "Year │ Region             │ Average_Precipitation (mm)\n",
       "─────┼────────────────────┼───────────────────────────\n",
       "2014 │ Auckland           │ 1017.9                    \n",
       "2014 │ Bay of Plenty      │ 1098.8                    \n",
       "2014 │ Canterbury         │ 575.23                    \n",
       "2014 │ Gisborne           │ 1096.0                    \n",
       "2014 │ Hawke's Bay        │ 625.2                     \n",
       "2014 │ Manawatū-Whanganui │ 953.3                     \n",
       "2014 │ Marlborough        │ 591.8                     \n",
       "2014 │ Nelson             │ 861.4                     \n",
       "2014 │ Northland          │ 1744.8                    \n",
       "2014 │ Otago              │ 636.8                     \n",
       "... with 50 more rows, and 2 more columns: Average_Temperature (°C), Average_Windspeed (kn)"
      ]
     },
     "execution_count": 31,
     "metadata": {},
     "output_type": "execute_result"
    }
   ],
   "source": [
    "# Loading the csvs (ensure this notebook and data are in the same directory, else quote the path to the data)\n",
    "Earthquake = load(\"Earthquake_data.csv\")\n",
    "Migration = load(\"Migration_data.csv\")\n",
    "Weather = load(\"Weather_data.csv\")"
   ]
  },
  {
   "cell_type": "code",
   "execution_count": 33,
   "id": "4815a5ef-ac76-49eb-83c6-8b784b2e4bf3",
   "metadata": {},
   "outputs": [
    {
     "data": {
      "text/html": [
       "<div class=\"data-frame\"><p>5 rows × 7 columns (omitted printing of 1 columns)</p><table class=\"data-frame\"><thead><tr><th></th><th>variable</th><th>mean</th><th>min</th><th>median</th><th>max</th><th>nmissing</th></tr><tr><th></th><th title=\"Symbol\">Symbol</th><th title=\"Union{Nothing, Float64}\">Union…</th><th title=\"Any\">Any</th><th title=\"Union{Nothing, Float64}\">Union…</th><th title=\"Any\">Any</th><th title=\"Int64\">Int64</th></tr></thead><tbody><tr><th>1</th><td>year</td><td>2015.51</td><td>2014</td><td>2015.0</td><td>2017</td><td>0</td></tr><tr><th>2</th><td>REGC2022_2</td><td></td><td>Bay of Plenty Region</td><td></td><td>West Coast Region</td><td>0</td></tr><tr><th>3</th><td>REGC2022_V</td><td>10.0784</td><td>3</td><td>9.0</td><td>18</td><td>4</td></tr><tr><th>4</th><td>count_quakes</td><td>41.1818</td><td>1</td><td>6.0</td><td>435</td><td>0</td></tr><tr><th>5</th><td>ave_mag</td><td>4.38395</td><td>4.0192</td><td>4.4225</td><td>4.64012</td><td>0</td></tr></tbody></table></div>"
      ],
      "text/latex": [
       "\\begin{tabular}{r|ccccccc}\n",
       "\t& variable & mean & min & median & max & nmissing & \\\\\n",
       "\t\\hline\n",
       "\t& Symbol & Union… & Any & Union… & Any & Int64 & \\\\\n",
       "\t\\hline\n",
       "\t1 & year & 2015.51 & 2014 & 2015.0 & 2017 & 0 & $\\dots$ \\\\\n",
       "\t2 & REGC2022\\_2 &  & Bay of Plenty Region &  & West Coast Region & 0 & $\\dots$ \\\\\n",
       "\t3 & REGC2022\\_V & 10.0784 & 3 & 9.0 & 18 & 4 & $\\dots$ \\\\\n",
       "\t4 & count\\_quakes & 41.1818 & 1 & 6.0 & 435 & 0 & $\\dots$ \\\\\n",
       "\t5 & ave\\_mag & 4.38395 & 4.0192 & 4.4225 & 4.64012 & 0 & $\\dots$ \\\\\n",
       "\\end{tabular}\n"
      ],
      "text/plain": [
       "\u001b[1m5×7 DataFrame\u001b[0m\n",
       "\u001b[1m Row \u001b[0m│\u001b[1m variable     \u001b[0m\u001b[1m mean    \u001b[0m\u001b[1m min                  \u001b[0m\u001b[1m median \u001b[0m\u001b[1m max               \u001b[0m\u001b[1m\u001b[0m ⋯\n",
       "\u001b[1m     \u001b[0m│\u001b[90m Symbol       \u001b[0m\u001b[90m Union…  \u001b[0m\u001b[90m Any                  \u001b[0m\u001b[90m Union… \u001b[0m\u001b[90m Any               \u001b[0m\u001b[90m\u001b[0m ⋯\n",
       "─────┼──────────────────────────────────────────────────────────────────────────\n",
       "   1 │ year          2015.51  2014                  2015.0  2017               ⋯\n",
       "   2 │ REGC2022_2   \u001b[90m         \u001b[0m Bay of Plenty Region \u001b[90m        \u001b[0m West Coast Region\n",
       "   3 │ REGC2022_V    10.0784  3                     9.0     18\n",
       "   4 │ count_quakes  41.1818  1                     6.0     435\n",
       "   5 │ ave_mag       4.38395  4.0192                4.4225  4.64012            ⋯\n",
       "\u001b[36m                                                               2 columns omitted\u001b[0m"
      ]
     },
     "execution_count": 33,
     "metadata": {},
     "output_type": "execute_result"
    }
   ],
   "source": [
    "# Transforming the csv files into dataframes\n",
    "Earthquake = Earthquake |> DataFrame\n",
    "Earthquake |> describe"
   ]
  },
  {
   "cell_type": "code",
   "execution_count": 34,
   "id": "845d10bc-fac2-4c16-b518-13753392146d",
   "metadata": {},
   "outputs": [
    {
     "data": {
      "text/html": [
       "<div class=\"data-frame\"><p>5 rows × 7 columns</p><table class=\"data-frame\"><thead><tr><th></th><th>variable</th><th>mean</th><th>min</th><th>median</th><th>max</th><th>nmissing</th><th>eltype</th></tr><tr><th></th><th title=\"Symbol\">Symbol</th><th title=\"Union{Nothing, Float64}\">Union…</th><th title=\"Any\">Any</th><th title=\"Union{Nothing, Float64}\">Union…</th><th title=\"Any\">Any</th><th title=\"Int64\">Int64</th><th title=\"DataType\">DataType</th></tr></thead><tbody><tr><th>1</th><td>Region</td><td></td><td>Auckland</td><td></td><td>West</td><td>0</td><td>String</td></tr><tr><th>2</th><td>Category</td><td>2015.5</td><td>2014</td><td>2015.5</td><td>2017</td><td>0</td><td>Int64</td></tr><tr><th>3</th><td>Departing</td><td>45045.0</td><td>3078</td><td>20340.0</td><td>188415</td><td>0</td><td>Int64</td></tr><tr><th>4</th><td>Entering</td><td>45045.0</td><td>2853</td><td>19129.5</td><td>185739</td><td>0</td><td>Int64</td></tr><tr><th>5</th><td>netmigration</td><td>0.0</td><td>-5844</td><td>-360.0</td><td>24279</td><td>0</td><td>Int64</td></tr></tbody></table></div>"
      ],
      "text/latex": [
       "\\begin{tabular}{r|ccccccc}\n",
       "\t& variable & mean & min & median & max & nmissing & eltype\\\\\n",
       "\t\\hline\n",
       "\t& Symbol & Union… & Any & Union… & Any & Int64 & DataType\\\\\n",
       "\t\\hline\n",
       "\t1 & Region &  & Auckland &  & West & 0 & String \\\\\n",
       "\t2 & Category & 2015.5 & 2014 & 2015.5 & 2017 & 0 & Int64 \\\\\n",
       "\t3 & Departing & 45045.0 & 3078 & 20340.0 & 188415 & 0 & Int64 \\\\\n",
       "\t4 & Entering & 45045.0 & 2853 & 19129.5 & 185739 & 0 & Int64 \\\\\n",
       "\t5 & netmigration & 0.0 & -5844 & -360.0 & 24279 & 0 & Int64 \\\\\n",
       "\\end{tabular}\n"
      ],
      "text/plain": [
       "\u001b[1m5×7 DataFrame\u001b[0m\n",
       "\u001b[1m Row \u001b[0m│\u001b[1m variable     \u001b[0m\u001b[1m mean    \u001b[0m\u001b[1m min      \u001b[0m\u001b[1m median  \u001b[0m\u001b[1m max    \u001b[0m\u001b[1m nmissing \u001b[0m\u001b[1m eltype   \u001b[0m\n",
       "\u001b[1m     \u001b[0m│\u001b[90m Symbol       \u001b[0m\u001b[90m Union…  \u001b[0m\u001b[90m Any      \u001b[0m\u001b[90m Union…  \u001b[0m\u001b[90m Any    \u001b[0m\u001b[90m Int64    \u001b[0m\u001b[90m DataType \u001b[0m\n",
       "─────┼──────────────────────────────────────────────────────────────────────\n",
       "   1 │ Region       \u001b[90m         \u001b[0m Auckland \u001b[90m         \u001b[0m West           0  String\n",
       "   2 │ Category      2015.5   2014      2015.5   2017           0  Int64\n",
       "   3 │ Departing     45045.0  3078      20340.0  188415         0  Int64\n",
       "   4 │ Entering      45045.0  2853      19129.5  185739         0  Int64\n",
       "   5 │ netmigration  0.0      -5844     -360.0   24279          0  Int64"
      ]
     },
     "execution_count": 34,
     "metadata": {},
     "output_type": "execute_result"
    }
   ],
   "source": [
    "# Transforming the csv files into dataframes\n",
    "Migration = Migration |> DataFrame\n",
    "Migration |> describe"
   ]
  },
  {
   "cell_type": "code",
   "execution_count": 32,
   "id": "5d89bb0a-89fd-4138-afa7-eb447f5b8107",
   "metadata": {},
   "outputs": [
    {
     "data": {
      "text/html": [
       "<div class=\"data-frame\"><p>5 rows × 7 columns</p><table class=\"data-frame\"><thead><tr><th></th><th>variable</th><th>mean</th><th>min</th><th>median</th><th>max</th><th>nmissing</th><th>eltype</th></tr><tr><th></th><th title=\"Symbol\">Symbol</th><th title=\"Union{Nothing, Float64}\">Union…</th><th title=\"Any\">Any</th><th title=\"Union{Nothing, Float64}\">Union…</th><th title=\"Any\">Any</th><th title=\"Int64\">Int64</th><th title=\"DataType\">DataType</th></tr></thead><tbody><tr><th>1</th><td>Year</td><td>2015.5</td><td>2014</td><td>2015.5</td><td>2017</td><td>0</td><td>Int64</td></tr><tr><th>2</th><td>Region</td><td></td><td>Auckland</td><td></td><td>West Coast</td><td>0</td><td>String</td></tr><tr><th>3</th><td>Average_Precipitation (mm)</td><td>1218.53</td><td>448.63</td><td>1056.15</td><td>3731.4</td><td>0</td><td>Float64</td></tr><tr><th>4</th><td>Average_Temperature (°C)</td><td>13.3575</td><td>10.3</td><td>13.385</td><td>16.68</td><td>0</td><td>Float64</td></tr><tr><th>5</th><td>Average_Windspeed (kn)</td><td>39.6443</td><td>28.27</td><td>39.09</td><td>47.41</td><td>0</td><td>Float64</td></tr></tbody></table></div>"
      ],
      "text/latex": [
       "\\begin{tabular}{r|ccccccc}\n",
       "\t& variable & mean & min & median & max & nmissing & eltype\\\\\n",
       "\t\\hline\n",
       "\t& Symbol & Union… & Any & Union… & Any & Int64 & DataType\\\\\n",
       "\t\\hline\n",
       "\t1 & Year & 2015.5 & 2014 & 2015.5 & 2017 & 0 & Int64 \\\\\n",
       "\t2 & Region &  & Auckland &  & West Coast & 0 & String \\\\\n",
       "\t3 & Average\\_Precipitation (mm) & 1218.53 & 448.63 & 1056.15 & 3731.4 & 0 & Float64 \\\\\n",
       "\t4 & Average\\_Temperature (°C) & 13.3575 & 10.3 & 13.385 & 16.68 & 0 & Float64 \\\\\n",
       "\t5 & Average\\_Windspeed (kn) & 39.6443 & 28.27 & 39.09 & 47.41 & 0 & Float64 \\\\\n",
       "\\end{tabular}\n"
      ],
      "text/plain": [
       "\u001b[1m5×7 DataFrame\u001b[0m\n",
       "\u001b[1m Row \u001b[0m│\u001b[1m variable                   \u001b[0m\u001b[1m mean    \u001b[0m\u001b[1m min      \u001b[0m\u001b[1m median  \u001b[0m\u001b[1m max        \u001b[0m\u001b[1m nmi\u001b[0m ⋯\n",
       "\u001b[1m     \u001b[0m│\u001b[90m Symbol                     \u001b[0m\u001b[90m Union…  \u001b[0m\u001b[90m Any      \u001b[0m\u001b[90m Union…  \u001b[0m\u001b[90m Any        \u001b[0m\u001b[90m Int\u001b[0m ⋯\n",
       "─────┼──────────────────────────────────────────────────────────────────────────\n",
       "   1 │ Year                        2015.5   2014      2015.5   2017            ⋯\n",
       "   2 │ Region                     \u001b[90m         \u001b[0m Auckland \u001b[90m         \u001b[0m West Coast\n",
       "   3 │ Average_Precipitation (mm)  1218.53  448.63    1056.15  3731.4\n",
       "   4 │ Average_Temperature (°C)    13.3575  10.3      13.385   16.68\n",
       "   5 │ Average_Windspeed (kn)      39.6443  28.27     39.09    47.41           ⋯\n",
       "\u001b[36m                                                               2 columns omitted\u001b[0m"
      ]
     },
     "execution_count": 32,
     "metadata": {},
     "output_type": "execute_result"
    }
   ],
   "source": [
    "# Transforming the csv files into dataframes\n",
    "Weather = Weather |> DataFrame\n",
    "Weather |> describe"
   ]
  },
  {
   "cell_type": "code",
   "execution_count": 42,
   "id": "f27c474a-7f41-43b0-af89-8ed8d3e594cb",
   "metadata": {},
   "outputs": [
    {
     "name": "stdout",
     "output_type": "stream",
     "text": [
      "DataFrame DataFrame DataFrame"
     ]
    }
   ],
   "source": [
    "# Double checking they are now dataframes\n",
    "print(Earthquake |> typeof,\" \", Migration |> typeof,\" \",  Weather |> typeof)"
   ]
  },
  {
   "cell_type": "code",
   "execution_count": 51,
   "id": "843b17a0-5640-4e84-9a8c-0dfce73730f0",
   "metadata": {},
   "outputs": [
    {
     "data": {
      "text/plain": [
       "15-element Vector{String}:\n",
       " \"Bay of Plenty Region\"\n",
       " \"Canterbury Region\"\n",
       " \"Gisborne Region\"\n",
       " \"Hawke's Bay Region\"\n",
       " \"Manawatu-Whanganui Region\"\n",
       " \"Marlborough Region\"\n",
       " \"Otago Region\"\n",
       " \"Southland Region\"\n",
       " \"Tasman Region\"\n",
       " \"Waikato Region\"\n",
       " \"Wellington Region\"\n",
       " \"West Coast Region\"\n",
       " \"NA\"\n",
       " \"Nelson Region\"\n",
       " \"Taranaki Region\""
      ]
     },
     "execution_count": 51,
     "metadata": {},
     "output_type": "execute_result"
    }
   ],
   "source": [
    "# Comparing region names\n",
    "Earthquake[!,:REGC2022_2] |> unique"
   ]
  },
  {
   "cell_type": "code",
   "execution_count": 52,
   "id": "ca512642-9ed4-48a3-81c1-c14425136e03",
   "metadata": {},
   "outputs": [
    {
     "data": {
      "text/plain": [
       "16-element Vector{String}:\n",
       " \"Auckland\"\n",
       " \"Bay\"\n",
       " \"Canterbury\"\n",
       " \"Gisborne\"\n",
       " \"Hawke's\"\n",
       " \"Manawatū-Whanganui\"\n",
       " \"Marlborough\"\n",
       " \"Nelson\"\n",
       " \"Northland\"\n",
       " \"Otago\"\n",
       " \"Southland\"\n",
       " \"Taranaki\"\n",
       " \"Tasman\"\n",
       " \"Waikato\"\n",
       " \"Wellington\"\n",
       " \"West\""
      ]
     },
     "execution_count": 52,
     "metadata": {},
     "output_type": "execute_result"
    }
   ],
   "source": [
    "# Comparing region names\n",
    "Migration[!,:Region] |> unique"
   ]
  },
  {
   "cell_type": "code",
   "execution_count": 53,
   "id": "952adad9-5d11-4621-89c6-a7a5446e6f89",
   "metadata": {},
   "outputs": [
    {
     "data": {
      "text/plain": [
       "15-element Vector{String}:\n",
       " \"Auckland\"\n",
       " \"Bay of Plenty\"\n",
       " \"Canterbury\"\n",
       " \"Gisborne\"\n",
       " \"Hawke's Bay\"\n",
       " \"Manawatū-Whanganui\"\n",
       " \"Marlborough\"\n",
       " \"Nelson\"\n",
       " \"Northland\"\n",
       " \"Otago\"\n",
       " \"Southland\"\n",
       " \"Taranaki\"\n",
       " \"Waikato\"\n",
       " \"Wellington\"\n",
       " \"West Coast\""
      ]
     },
     "execution_count": 53,
     "metadata": {},
     "output_type": "execute_result"
    }
   ],
   "source": [
    "# Comparing region names\n",
    "Weather[!,:Region] |> unique"
   ]
  },
  {
   "cell_type": "code",
   "execution_count": 7,
   "id": "18f3ef9c-4148-42b6-ba1e-0de9cc6b0ae3",
   "metadata": {},
   "outputs": [],
   "source": [
    "# Standardising region names"
   ]
  },
  {
   "cell_type": "code",
   "execution_count": null,
   "id": "519f5734-69a5-4192-87dd-8ce2d983ba52",
   "metadata": {},
   "outputs": [],
   "source": [
    "allowmissing!(my_df)\n"
   ]
  },
  {
   "cell_type": "code",
   "execution_count": 8,
   "id": "0196dc38-eaeb-4dc4-a267-bd1d17f3d783",
   "metadata": {},
   "outputs": [],
   "source": [
    "# Joining dataframes using region names as the key"
   ]
  },
  {
   "cell_type": "code",
   "execution_count": null,
   "id": "6502668a-96a9-4730-9bbf-48eacbccea01",
   "metadata": {},
   "outputs": [],
   "source": []
  }
 ],
 "metadata": {
  "kernelspec": {
   "display_name": "Julia 1.7.3",
   "language": "julia",
   "name": "julia-1.7"
  },
  "language_info": {
   "file_extension": ".jl",
   "mimetype": "application/julia",
   "name": "julia",
   "version": "1.7.3"
  }
 },
 "nbformat": 4,
 "nbformat_minor": 5
}
